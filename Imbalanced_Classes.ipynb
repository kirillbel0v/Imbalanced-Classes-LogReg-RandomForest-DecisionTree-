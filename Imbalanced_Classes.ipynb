{
  "cells": [
    {
      "cell_type": "markdown",
      "metadata": {
        "toc": true,
        "id": "ODJCmzD_eVCE"
      },
      "source": [
        "<h1>Содержание<span class=\"tocSkip\"></span></h1>\n",
        "<div class=\"toc\"><ul class=\"toc-item\"><li><span><a href=\"#Подготовка-данных\" data-toc-modified-id=\"Подготовка-данных-1\"><span class=\"toc-item-num\">1&nbsp;&nbsp;</span>Подготовка данных</a></span></li><li><span><a href=\"#Исследование-задачи\" data-toc-modified-id=\"Исследование-задачи-2\"><span class=\"toc-item-num\">2&nbsp;&nbsp;</span>Исследование задачи</a></span><ul class=\"toc-item\"><li><span><a href=\"#Дерево-решений\" data-toc-modified-id=\"Дерево-решений-2.1\"><span class=\"toc-item-num\">2.1&nbsp;&nbsp;</span>Дерево решений</a></span></li><li><span><a href=\"#Случайный-лес\" data-toc-modified-id=\"Случайный-лес-2.2\"><span class=\"toc-item-num\">2.2&nbsp;&nbsp;</span>Случайный лес</a></span></li><li><span><a href=\"#Логистическая-регрессия\" data-toc-modified-id=\"Логистическая-регрессия-2.3\"><span class=\"toc-item-num\">2.3&nbsp;&nbsp;</span>Логистическая регрессия</a></span></li></ul></li><li><span><a href=\"#Борьба-с-дисбалансом\" data-toc-modified-id=\"Борьба-с-дисбалансом-3\"><span class=\"toc-item-num\">3&nbsp;&nbsp;</span>Борьба с дисбалансом</a></span><ul class=\"toc-item\"><li><span><a href=\"#Взвешивание-классов\" data-toc-modified-id=\"Взвешивание-классов-3.1\"><span class=\"toc-item-num\">3.1&nbsp;&nbsp;</span>Взвешивание классов</a></span><ul class=\"toc-item\"><li><span><a href=\"#Логистическая-регрессия\" data-toc-modified-id=\"Логистическая-регрессия-3.1.1\"><span class=\"toc-item-num\">3.1.1&nbsp;&nbsp;</span>Логистическая регрессия</a></span></li><li><span><a href=\"#Случайный-лес\" data-toc-modified-id=\"Случайный-лес-3.1.2\"><span class=\"toc-item-num\">3.1.2&nbsp;&nbsp;</span>Случайный лес</a></span></li><li><span><a href=\"#Дерево-решений\" data-toc-modified-id=\"Дерево-решений-3.1.3\"><span class=\"toc-item-num\">3.1.3&nbsp;&nbsp;</span>Дерево решений</a></span></li></ul></li><li><span><a href=\"#Увеличение-выборки\" data-toc-modified-id=\"Увеличение-выборки-3.2\"><span class=\"toc-item-num\">3.2&nbsp;&nbsp;</span>Увеличение выборки</a></span><ul class=\"toc-item\"><li><span><a href=\"#Дерево-решений\" data-toc-modified-id=\"Дерево-решений-3.2.1\"><span class=\"toc-item-num\">3.2.1&nbsp;&nbsp;</span>Дерево решений</a></span></li><li><span><a href=\"#Случайный-лес\" data-toc-modified-id=\"Случайный-лес-3.2.2\"><span class=\"toc-item-num\">3.2.2&nbsp;&nbsp;</span>Случайный лес</a></span></li><li><span><a href=\"#Логистическая-регрессия\" data-toc-modified-id=\"Логистическая-регрессия-3.2.3\"><span class=\"toc-item-num\">3.2.3&nbsp;&nbsp;</span>Логистическая регрессия</a></span></li></ul></li><li><span><a href=\"#Уменьшение-выборки\" data-toc-modified-id=\"Уменьшение-выборки-3.3\"><span class=\"toc-item-num\">3.3&nbsp;&nbsp;</span>Уменьшение выборки</a></span><ul class=\"toc-item\"><li><span><a href=\"#Дерево-решений\" data-toc-modified-id=\"Дерево-решений-3.3.1\"><span class=\"toc-item-num\">3.3.1&nbsp;&nbsp;</span>Дерево решений</a></span></li><li><span><a href=\"#Случайный-лес\" data-toc-modified-id=\"Случайный-лес-3.3.2\"><span class=\"toc-item-num\">3.3.2&nbsp;&nbsp;</span>Случайный лес</a></span></li><li><span><a href=\"#Логистическая-регрессия\" data-toc-modified-id=\"Логистическая-регрессия-3.3.3\"><span class=\"toc-item-num\">3.3.3&nbsp;&nbsp;</span>Логистическая регрессия</a></span></li></ul></li><li><span><a href=\"#Изменение-порога\" data-toc-modified-id=\"Изменение-порога-3.4\"><span class=\"toc-item-num\">3.4&nbsp;&nbsp;</span>Изменение порога</a></span><ul class=\"toc-item\"><li><span><a href=\"#Дерево-решений\" data-toc-modified-id=\"Дерево-решений-3.4.1\"><span class=\"toc-item-num\">3.4.1&nbsp;&nbsp;</span>Дерево решений</a></span></li><li><span><a href=\"#Случайный-лес\" data-toc-modified-id=\"Случайный-лес-3.4.2\"><span class=\"toc-item-num\">3.4.2&nbsp;&nbsp;</span>Случайный лес</a></span></li><li><span><a href=\"#Логистическая-регрессия\" data-toc-modified-id=\"Логистическая-регрессия-3.4.3\"><span class=\"toc-item-num\">3.4.3&nbsp;&nbsp;</span>Логистическая регрессия</a></span></li><li><span><a href=\"#Объединение-способов\" data-toc-modified-id=\"Объединение-способов-3.4.4\"><span class=\"toc-item-num\">3.4.4&nbsp;&nbsp;</span>Объединение способов</a></span></li></ul></li></ul></li><li><span><a href=\"#Тестирование-модели\" data-toc-modified-id=\"Тестирование-модели-4\"><span class=\"toc-item-num\">4&nbsp;&nbsp;</span>Тестирование модели</a></span></li><li><span><a href=\"#Чек-лист-готовности-проекта\" data-toc-modified-id=\"Чек-лист-готовности-проекта-5\"><span class=\"toc-item-num\">5&nbsp;&nbsp;</span>Чек-лист готовности проекта</a></span></li></ul></div>"
      ]
    },
    {
      "cell_type": "markdown",
      "metadata": {
        "id": "lTWuttaTeVCF"
      },
      "source": [
        "# Отток клиентов"
      ]
    },
    {
      "cell_type": "markdown",
      "metadata": {
        "id": "HJy-SZObeVCF"
      },
      "source": [
        "Из «Бета-Банка» стали уходить клиенты. Каждый месяц. Немного, но заметно. Банковские маркетологи посчитали: сохранять текущих клиентов дешевле, чем привлекать новых.\n",
        "\n",
        "Нужно спрогнозировать, уйдёт клиент из банка в ближайшее время или нет. Вам предоставлены исторические данные о поведении клиентов и расторжении договоров с банком.\n",
        "\n",
        "Постройте модель с предельно большим значением *F1*-меры. Чтобы сдать проект успешно, нужно довести метрику до 0.59. Проверьте *F1*-меру на тестовой выборке самостоятельно.\n",
        "\n",
        "Дополнительно измеряйте *AUC-ROC*, сравнивайте её значение с *F1*-мерой.\n",
        "\n",
        "Источник данных: [https://www.kaggle.com/barelydedicated/bank-customer-churn-modeling](https://www.kaggle.com/barelydedicated/bank-customer-churn-modeling)"
      ]
    },
    {
      "cell_type": "markdown",
      "metadata": {
        "id": "HcL4IsyneVCF"
      },
      "source": [
        "## Подготовка данных"
      ]
    },
    {
      "cell_type": "markdown",
      "metadata": {
        "id": "GMtbFfsHeVCG"
      },
      "source": [
        "Прежде всего подгрузим все необходимые нам библиотеки:"
      ]
    },
    {
      "cell_type": "code",
      "execution_count": null,
      "metadata": {
        "id": "97RfhsDbeVCG"
      },
      "outputs": [],
      "source": [
        "import pandas as pd #импорт библиотеки pandas\n",
        "import matplotlib.pyplot as plt #импорт библиотеки matplotlib\n",
        "plt.style.use('seaborn-pastel')\n",
        "import seaborn as sns #импорт библиотеки seaborn\n",
        "import numpy as np #импорт библиотеки nump\n",
        "from scipy import stats as st #импорт библиотеки scipy\n",
        "import random\n",
        "\n",
        "from sklearn.metrics import (\n",
        "    accuracy_score,\n",
        "    precision_recall_curve,\n",
        "    classification_report,\n",
        "    precision_score,\n",
        "    recall_score,\n",
        "    f1_score,\n",
        "    roc_auc_score,\n",
        "    roc_curve) # импорт метрики из библиотеки sklearn\n",
        "from sklearn.model_selection import train_test_split # импорт разделителя\n",
        "from sklearn.tree import DecisionTreeClassifier # импорт дерева решений\n",
        "from sklearn.ensemble import RandomForestClassifier # импорт классификатора случайного леса\n",
        "from sklearn.linear_model import LogisticRegression # импорт линейной регрессии\n",
        "from sklearn.preprocessing import StandardScaler # стандартизация\n",
        "from sklearn.utils import shuffle # импорт шаффла для перемешивания\n",
        "\n",
        "import time\n",
        "from tqdm import tqdm # импорт библиотеки tqdm для просмотра прогресса обучения модели\n",
        "\n",
        "import warnings"
      ]
    },
    {
      "cell_type": "markdown",
      "metadata": {
        "id": "8N7XR9taeVCH"
      },
      "source": [
        "Изучим датасет:"
      ]
    },
    {
      "cell_type": "code",
      "execution_count": null,
      "metadata": {
        "id": "RZP_SexAeVCH"
      },
      "outputs": [],
      "source": [
        "data = pd.read_csv('/datasets/Churn.csv')"
      ]
    },
    {
      "cell_type": "code",
      "execution_count": null,
      "metadata": {
        "id": "TjsKzs2ueVCH",
        "outputId": "0012dce4-da9a-42cf-f9a3-945fad0fd446"
      },
      "outputs": [
        {
          "name": "stdout",
          "output_type": "stream",
          "text": [
            "<class 'pandas.core.frame.DataFrame'>\n",
            "RangeIndex: 10000 entries, 0 to 9999\n",
            "Data columns (total 14 columns):\n",
            " #   Column           Non-Null Count  Dtype  \n",
            "---  ------           --------------  -----  \n",
            " 0   RowNumber        10000 non-null  int64  \n",
            " 1   CustomerId       10000 non-null  int64  \n",
            " 2   Surname          10000 non-null  object \n",
            " 3   CreditScore      10000 non-null  int64  \n",
            " 4   Geography        10000 non-null  object \n",
            " 5   Gender           10000 non-null  object \n",
            " 6   Age              10000 non-null  int64  \n",
            " 7   Tenure           9091 non-null   float64\n",
            " 8   Balance          10000 non-null  float64\n",
            " 9   NumOfProducts    10000 non-null  int64  \n",
            " 10  HasCrCard        10000 non-null  int64  \n",
            " 11  IsActiveMember   10000 non-null  int64  \n",
            " 12  EstimatedSalary  10000 non-null  float64\n",
            " 13  Exited           10000 non-null  int64  \n",
            "dtypes: float64(3), int64(8), object(3)\n",
            "memory usage: 1.1+ MB\n"
          ]
        }
      ],
      "source": [
        "data.info()"
      ]
    },
    {
      "cell_type": "code",
      "execution_count": null,
      "metadata": {
        "id": "eC7AHexKeVCI",
        "outputId": "1d814a2a-c492-47e9-f277-fade4cd6d7c2"
      },
      "outputs": [
        {
          "data": {
            "text/html": [
              "<div>\n",
              "<style scoped>\n",
              "    .dataframe tbody tr th:only-of-type {\n",
              "        vertical-align: middle;\n",
              "    }\n",
              "\n",
              "    .dataframe tbody tr th {\n",
              "        vertical-align: top;\n",
              "    }\n",
              "\n",
              "    .dataframe thead th {\n",
              "        text-align: right;\n",
              "    }\n",
              "</style>\n",
              "<table border=\"1\" class=\"dataframe\">\n",
              "  <thead>\n",
              "    <tr style=\"text-align: right;\">\n",
              "      <th></th>\n",
              "      <th>RowNumber</th>\n",
              "      <th>CustomerId</th>\n",
              "      <th>Surname</th>\n",
              "      <th>CreditScore</th>\n",
              "      <th>Geography</th>\n",
              "      <th>Gender</th>\n",
              "      <th>Age</th>\n",
              "      <th>Tenure</th>\n",
              "      <th>Balance</th>\n",
              "      <th>NumOfProducts</th>\n",
              "      <th>HasCrCard</th>\n",
              "      <th>IsActiveMember</th>\n",
              "      <th>EstimatedSalary</th>\n",
              "      <th>Exited</th>\n",
              "    </tr>\n",
              "  </thead>\n",
              "  <tbody>\n",
              "    <tr>\n",
              "      <th>0</th>\n",
              "      <td>1</td>\n",
              "      <td>15634602</td>\n",
              "      <td>Hargrave</td>\n",
              "      <td>619</td>\n",
              "      <td>France</td>\n",
              "      <td>Female</td>\n",
              "      <td>42</td>\n",
              "      <td>2.0</td>\n",
              "      <td>0.00</td>\n",
              "      <td>1</td>\n",
              "      <td>1</td>\n",
              "      <td>1</td>\n",
              "      <td>101348.88</td>\n",
              "      <td>1</td>\n",
              "    </tr>\n",
              "    <tr>\n",
              "      <th>1</th>\n",
              "      <td>2</td>\n",
              "      <td>15647311</td>\n",
              "      <td>Hill</td>\n",
              "      <td>608</td>\n",
              "      <td>Spain</td>\n",
              "      <td>Female</td>\n",
              "      <td>41</td>\n",
              "      <td>1.0</td>\n",
              "      <td>83807.86</td>\n",
              "      <td>1</td>\n",
              "      <td>0</td>\n",
              "      <td>1</td>\n",
              "      <td>112542.58</td>\n",
              "      <td>0</td>\n",
              "    </tr>\n",
              "    <tr>\n",
              "      <th>2</th>\n",
              "      <td>3</td>\n",
              "      <td>15619304</td>\n",
              "      <td>Onio</td>\n",
              "      <td>502</td>\n",
              "      <td>France</td>\n",
              "      <td>Female</td>\n",
              "      <td>42</td>\n",
              "      <td>8.0</td>\n",
              "      <td>159660.80</td>\n",
              "      <td>3</td>\n",
              "      <td>1</td>\n",
              "      <td>0</td>\n",
              "      <td>113931.57</td>\n",
              "      <td>1</td>\n",
              "    </tr>\n",
              "    <tr>\n",
              "      <th>3</th>\n",
              "      <td>4</td>\n",
              "      <td>15701354</td>\n",
              "      <td>Boni</td>\n",
              "      <td>699</td>\n",
              "      <td>France</td>\n",
              "      <td>Female</td>\n",
              "      <td>39</td>\n",
              "      <td>1.0</td>\n",
              "      <td>0.00</td>\n",
              "      <td>2</td>\n",
              "      <td>0</td>\n",
              "      <td>0</td>\n",
              "      <td>93826.63</td>\n",
              "      <td>0</td>\n",
              "    </tr>\n",
              "    <tr>\n",
              "      <th>4</th>\n",
              "      <td>5</td>\n",
              "      <td>15737888</td>\n",
              "      <td>Mitchell</td>\n",
              "      <td>850</td>\n",
              "      <td>Spain</td>\n",
              "      <td>Female</td>\n",
              "      <td>43</td>\n",
              "      <td>2.0</td>\n",
              "      <td>125510.82</td>\n",
              "      <td>1</td>\n",
              "      <td>1</td>\n",
              "      <td>1</td>\n",
              "      <td>79084.10</td>\n",
              "      <td>0</td>\n",
              "    </tr>\n",
              "    <tr>\n",
              "      <th>5</th>\n",
              "      <td>6</td>\n",
              "      <td>15574012</td>\n",
              "      <td>Chu</td>\n",
              "      <td>645</td>\n",
              "      <td>Spain</td>\n",
              "      <td>Male</td>\n",
              "      <td>44</td>\n",
              "      <td>8.0</td>\n",
              "      <td>113755.78</td>\n",
              "      <td>2</td>\n",
              "      <td>1</td>\n",
              "      <td>0</td>\n",
              "      <td>149756.71</td>\n",
              "      <td>1</td>\n",
              "    </tr>\n",
              "    <tr>\n",
              "      <th>6</th>\n",
              "      <td>7</td>\n",
              "      <td>15592531</td>\n",
              "      <td>Bartlett</td>\n",
              "      <td>822</td>\n",
              "      <td>France</td>\n",
              "      <td>Male</td>\n",
              "      <td>50</td>\n",
              "      <td>7.0</td>\n",
              "      <td>0.00</td>\n",
              "      <td>2</td>\n",
              "      <td>1</td>\n",
              "      <td>1</td>\n",
              "      <td>10062.80</td>\n",
              "      <td>0</td>\n",
              "    </tr>\n",
              "    <tr>\n",
              "      <th>7</th>\n",
              "      <td>8</td>\n",
              "      <td>15656148</td>\n",
              "      <td>Obinna</td>\n",
              "      <td>376</td>\n",
              "      <td>Germany</td>\n",
              "      <td>Female</td>\n",
              "      <td>29</td>\n",
              "      <td>4.0</td>\n",
              "      <td>115046.74</td>\n",
              "      <td>4</td>\n",
              "      <td>1</td>\n",
              "      <td>0</td>\n",
              "      <td>119346.88</td>\n",
              "      <td>1</td>\n",
              "    </tr>\n",
              "    <tr>\n",
              "      <th>8</th>\n",
              "      <td>9</td>\n",
              "      <td>15792365</td>\n",
              "      <td>He</td>\n",
              "      <td>501</td>\n",
              "      <td>France</td>\n",
              "      <td>Male</td>\n",
              "      <td>44</td>\n",
              "      <td>4.0</td>\n",
              "      <td>142051.07</td>\n",
              "      <td>2</td>\n",
              "      <td>0</td>\n",
              "      <td>1</td>\n",
              "      <td>74940.50</td>\n",
              "      <td>0</td>\n",
              "    </tr>\n",
              "    <tr>\n",
              "      <th>9</th>\n",
              "      <td>10</td>\n",
              "      <td>15592389</td>\n",
              "      <td>H?</td>\n",
              "      <td>684</td>\n",
              "      <td>France</td>\n",
              "      <td>Male</td>\n",
              "      <td>27</td>\n",
              "      <td>2.0</td>\n",
              "      <td>134603.88</td>\n",
              "      <td>1</td>\n",
              "      <td>1</td>\n",
              "      <td>1</td>\n",
              "      <td>71725.73</td>\n",
              "      <td>0</td>\n",
              "    </tr>\n",
              "  </tbody>\n",
              "</table>\n",
              "</div>"
            ],
            "text/plain": [
              "   RowNumber  CustomerId   Surname  CreditScore Geography  Gender  Age  \\\n",
              "0          1    15634602  Hargrave          619    France  Female   42   \n",
              "1          2    15647311      Hill          608     Spain  Female   41   \n",
              "2          3    15619304      Onio          502    France  Female   42   \n",
              "3          4    15701354      Boni          699    France  Female   39   \n",
              "4          5    15737888  Mitchell          850     Spain  Female   43   \n",
              "5          6    15574012       Chu          645     Spain    Male   44   \n",
              "6          7    15592531  Bartlett          822    France    Male   50   \n",
              "7          8    15656148    Obinna          376   Germany  Female   29   \n",
              "8          9    15792365        He          501    France    Male   44   \n",
              "9         10    15592389        H?          684    France    Male   27   \n",
              "\n",
              "   Tenure    Balance  NumOfProducts  HasCrCard  IsActiveMember  \\\n",
              "0     2.0       0.00              1          1               1   \n",
              "1     1.0   83807.86              1          0               1   \n",
              "2     8.0  159660.80              3          1               0   \n",
              "3     1.0       0.00              2          0               0   \n",
              "4     2.0  125510.82              1          1               1   \n",
              "5     8.0  113755.78              2          1               0   \n",
              "6     7.0       0.00              2          1               1   \n",
              "7     4.0  115046.74              4          1               0   \n",
              "8     4.0  142051.07              2          0               1   \n",
              "9     2.0  134603.88              1          1               1   \n",
              "\n",
              "   EstimatedSalary  Exited  \n",
              "0        101348.88       1  \n",
              "1        112542.58       0  \n",
              "2        113931.57       1  \n",
              "3         93826.63       0  \n",
              "4         79084.10       0  \n",
              "5        149756.71       1  \n",
              "6         10062.80       0  \n",
              "7        119346.88       1  \n",
              "8         74940.50       0  \n",
              "9         71725.73       0  "
            ]
          },
          "execution_count": 4,
          "metadata": {},
          "output_type": "execute_result"
        }
      ],
      "source": [
        "data.head(10)"
      ]
    },
    {
      "cell_type": "markdown",
      "metadata": {
        "id": "HrjWxOm2eVCI"
      },
      "source": [
        "**Данные:**\n",
        "\n",
        "* RowNumber — индекс строки в данных\n",
        "* CustomerId — уникальный идентификатор клиента\n",
        "* Surname — фамилия\n",
        "* CreditScore — кредитный рейтинг\n",
        "* Geography — страна проживания\n",
        "* Gender — пол\n",
        "* Age — возраст\n",
        "* Tenure — сколько лет человек является клиентом банка\n",
        "* Balance — баланс на счёте\n",
        "* NumOfProducts — количество продуктов банка, используемых клиентом\n",
        "* HasCrCard — наличие кредитной карты\n",
        "* IsActiveMember — активность клиента\n",
        "* EstimatedSalary — предполагаемая зарплата\n",
        "* Exited — факт ухода клиента"
      ]
    },
    {
      "cell_type": "code",
      "execution_count": null,
      "metadata": {
        "id": "gG1OLMngeVCI"
      },
      "outputs": [],
      "source": [
        "#приведем названия колонок к нижнему регистру\n",
        "data.columns = data.columns.str.lower()"
      ]
    },
    {
      "cell_type": "code",
      "execution_count": null,
      "metadata": {
        "id": "oN8bvD8neVCJ"
      },
      "outputs": [],
      "source": [
        "#приведем названия колонок к змеиному стилю\n",
        "data = data.rename(columns = {'rownumber' : 'row_number',\n",
        "                             'customerid' : 'customer_id',\n",
        "                             'creditscore' : 'credit_score',\n",
        "                             'numofproducts' : 'num_of_products',\n",
        "                             'hascard' : 'has_card',\n",
        "                             'isactivemember' : 'is_active_member',\n",
        "                             'estimatedsalary' : 'estimated_salary'})"
      ]
    },
    {
      "cell_type": "code",
      "execution_count": null,
      "metadata": {
        "id": "N3hgD2o0eVCJ",
        "outputId": "293158ca-6682-457d-8893-a1745a855e62"
      },
      "outputs": [
        {
          "data": {
            "text/html": [
              "<div>\n",
              "<style scoped>\n",
              "    .dataframe tbody tr th:only-of-type {\n",
              "        vertical-align: middle;\n",
              "    }\n",
              "\n",
              "    .dataframe tbody tr th {\n",
              "        vertical-align: top;\n",
              "    }\n",
              "\n",
              "    .dataframe thead th {\n",
              "        text-align: right;\n",
              "    }\n",
              "</style>\n",
              "<table border=\"1\" class=\"dataframe\">\n",
              "  <thead>\n",
              "    <tr style=\"text-align: right;\">\n",
              "      <th></th>\n",
              "      <th>row_number</th>\n",
              "      <th>customer_id</th>\n",
              "      <th>surname</th>\n",
              "      <th>credit_score</th>\n",
              "      <th>geography</th>\n",
              "      <th>gender</th>\n",
              "      <th>age</th>\n",
              "      <th>tenure</th>\n",
              "      <th>balance</th>\n",
              "      <th>num_of_products</th>\n",
              "      <th>hascrcard</th>\n",
              "      <th>is_active_member</th>\n",
              "      <th>estimated_salary</th>\n",
              "      <th>exited</th>\n",
              "    </tr>\n",
              "  </thead>\n",
              "  <tbody>\n",
              "    <tr>\n",
              "      <th>0</th>\n",
              "      <td>1</td>\n",
              "      <td>15634602</td>\n",
              "      <td>Hargrave</td>\n",
              "      <td>619</td>\n",
              "      <td>France</td>\n",
              "      <td>Female</td>\n",
              "      <td>42</td>\n",
              "      <td>2.0</td>\n",
              "      <td>0.00</td>\n",
              "      <td>1</td>\n",
              "      <td>1</td>\n",
              "      <td>1</td>\n",
              "      <td>101348.88</td>\n",
              "      <td>1</td>\n",
              "    </tr>\n",
              "    <tr>\n",
              "      <th>1</th>\n",
              "      <td>2</td>\n",
              "      <td>15647311</td>\n",
              "      <td>Hill</td>\n",
              "      <td>608</td>\n",
              "      <td>Spain</td>\n",
              "      <td>Female</td>\n",
              "      <td>41</td>\n",
              "      <td>1.0</td>\n",
              "      <td>83807.86</td>\n",
              "      <td>1</td>\n",
              "      <td>0</td>\n",
              "      <td>1</td>\n",
              "      <td>112542.58</td>\n",
              "      <td>0</td>\n",
              "    </tr>\n",
              "    <tr>\n",
              "      <th>2</th>\n",
              "      <td>3</td>\n",
              "      <td>15619304</td>\n",
              "      <td>Onio</td>\n",
              "      <td>502</td>\n",
              "      <td>France</td>\n",
              "      <td>Female</td>\n",
              "      <td>42</td>\n",
              "      <td>8.0</td>\n",
              "      <td>159660.80</td>\n",
              "      <td>3</td>\n",
              "      <td>1</td>\n",
              "      <td>0</td>\n",
              "      <td>113931.57</td>\n",
              "      <td>1</td>\n",
              "    </tr>\n",
              "    <tr>\n",
              "      <th>3</th>\n",
              "      <td>4</td>\n",
              "      <td>15701354</td>\n",
              "      <td>Boni</td>\n",
              "      <td>699</td>\n",
              "      <td>France</td>\n",
              "      <td>Female</td>\n",
              "      <td>39</td>\n",
              "      <td>1.0</td>\n",
              "      <td>0.00</td>\n",
              "      <td>2</td>\n",
              "      <td>0</td>\n",
              "      <td>0</td>\n",
              "      <td>93826.63</td>\n",
              "      <td>0</td>\n",
              "    </tr>\n",
              "    <tr>\n",
              "      <th>4</th>\n",
              "      <td>5</td>\n",
              "      <td>15737888</td>\n",
              "      <td>Mitchell</td>\n",
              "      <td>850</td>\n",
              "      <td>Spain</td>\n",
              "      <td>Female</td>\n",
              "      <td>43</td>\n",
              "      <td>2.0</td>\n",
              "      <td>125510.82</td>\n",
              "      <td>1</td>\n",
              "      <td>1</td>\n",
              "      <td>1</td>\n",
              "      <td>79084.10</td>\n",
              "      <td>0</td>\n",
              "    </tr>\n",
              "  </tbody>\n",
              "</table>\n",
              "</div>"
            ],
            "text/plain": [
              "   row_number  customer_id   surname  credit_score geography  gender  age  \\\n",
              "0           1     15634602  Hargrave           619    France  Female   42   \n",
              "1           2     15647311      Hill           608     Spain  Female   41   \n",
              "2           3     15619304      Onio           502    France  Female   42   \n",
              "3           4     15701354      Boni           699    France  Female   39   \n",
              "4           5     15737888  Mitchell           850     Spain  Female   43   \n",
              "\n",
              "   tenure    balance  num_of_products  hascrcard  is_active_member  \\\n",
              "0     2.0       0.00                1          1                 1   \n",
              "1     1.0   83807.86                1          0                 1   \n",
              "2     8.0  159660.80                3          1                 0   \n",
              "3     1.0       0.00                2          0                 0   \n",
              "4     2.0  125510.82                1          1                 1   \n",
              "\n",
              "   estimated_salary  exited  \n",
              "0         101348.88       1  \n",
              "1         112542.58       0  \n",
              "2         113931.57       1  \n",
              "3          93826.63       0  \n",
              "4          79084.10       0  "
            ]
          },
          "execution_count": 7,
          "metadata": {},
          "output_type": "execute_result"
        }
      ],
      "source": [
        "#проверим результат\n",
        "data.head()"
      ]
    },
    {
      "cell_type": "code",
      "execution_count": null,
      "metadata": {
        "id": "Thh0P6IKeVCJ",
        "outputId": "f5ef269d-1e37-4639-c330-4946b67009c3"
      },
      "outputs": [
        {
          "data": {
            "text/plain": [
              "0"
            ]
          },
          "execution_count": 8,
          "metadata": {},
          "output_type": "execute_result"
        }
      ],
      "source": [
        "#проверим наличие дубликатов\n",
        "data.duplicated().sum()"
      ]
    },
    {
      "cell_type": "code",
      "execution_count": null,
      "metadata": {
        "id": "pPU7RyqVeVCJ",
        "outputId": "1ccf8ae9-6767-45ad-eb71-1ddfbc45ed08"
      },
      "outputs": [
        {
          "data": {
            "text/plain": [
              "row_number            0\n",
              "customer_id           0\n",
              "surname               0\n",
              "credit_score          0\n",
              "geography             0\n",
              "gender                0\n",
              "age                   0\n",
              "tenure              909\n",
              "balance               0\n",
              "num_of_products       0\n",
              "hascrcard             0\n",
              "is_active_member      0\n",
              "estimated_salary      0\n",
              "exited                0\n",
              "dtype: int64"
            ]
          },
          "execution_count": 9,
          "metadata": {},
          "output_type": "execute_result"
        }
      ],
      "source": [
        "#проверим пустые значения\n",
        "data.isna().sum()"
      ]
    },
    {
      "cell_type": "markdown",
      "metadata": {
        "id": "tx2_g8bHeVCJ"
      },
      "source": [
        "Отсутствует 909 значений в столбце tenure, прежде, чем обучать модель, необходимо заполнить пропуски или удалить строки без значений."
      ]
    },
    {
      "cell_type": "code",
      "execution_count": null,
      "metadata": {
        "id": "7if4QcNweVCJ",
        "outputId": "602773d3-e1b1-4ccf-8ae3-2db924af2347"
      },
      "outputs": [
        {
          "data": {
            "text/html": [
              "<div>\n",
              "<style scoped>\n",
              "    .dataframe tbody tr th:only-of-type {\n",
              "        vertical-align: middle;\n",
              "    }\n",
              "\n",
              "    .dataframe tbody tr th {\n",
              "        vertical-align: top;\n",
              "    }\n",
              "\n",
              "    .dataframe thead th {\n",
              "        text-align: right;\n",
              "    }\n",
              "</style>\n",
              "<table border=\"1\" class=\"dataframe\">\n",
              "  <thead>\n",
              "    <tr style=\"text-align: right;\">\n",
              "      <th></th>\n",
              "      <th>row_number</th>\n",
              "      <th>customer_id</th>\n",
              "      <th>surname</th>\n",
              "      <th>credit_score</th>\n",
              "      <th>geography</th>\n",
              "      <th>gender</th>\n",
              "      <th>age</th>\n",
              "      <th>tenure</th>\n",
              "      <th>balance</th>\n",
              "      <th>num_of_products</th>\n",
              "      <th>hascrcard</th>\n",
              "      <th>is_active_member</th>\n",
              "      <th>estimated_salary</th>\n",
              "      <th>exited</th>\n",
              "    </tr>\n",
              "  </thead>\n",
              "  <tbody>\n",
              "    <tr>\n",
              "      <th>30</th>\n",
              "      <td>31</td>\n",
              "      <td>15589475</td>\n",
              "      <td>Azikiwe</td>\n",
              "      <td>591</td>\n",
              "      <td>Spain</td>\n",
              "      <td>Female</td>\n",
              "      <td>39</td>\n",
              "      <td>NaN</td>\n",
              "      <td>0.00</td>\n",
              "      <td>3</td>\n",
              "      <td>1</td>\n",
              "      <td>0</td>\n",
              "      <td>140469.38</td>\n",
              "      <td>1</td>\n",
              "    </tr>\n",
              "    <tr>\n",
              "      <th>48</th>\n",
              "      <td>49</td>\n",
              "      <td>15766205</td>\n",
              "      <td>Yin</td>\n",
              "      <td>550</td>\n",
              "      <td>Germany</td>\n",
              "      <td>Male</td>\n",
              "      <td>38</td>\n",
              "      <td>NaN</td>\n",
              "      <td>103391.38</td>\n",
              "      <td>1</td>\n",
              "      <td>0</td>\n",
              "      <td>1</td>\n",
              "      <td>90878.13</td>\n",
              "      <td>0</td>\n",
              "    </tr>\n",
              "    <tr>\n",
              "      <th>51</th>\n",
              "      <td>52</td>\n",
              "      <td>15768193</td>\n",
              "      <td>Trevisani</td>\n",
              "      <td>585</td>\n",
              "      <td>Germany</td>\n",
              "      <td>Male</td>\n",
              "      <td>36</td>\n",
              "      <td>NaN</td>\n",
              "      <td>146050.97</td>\n",
              "      <td>2</td>\n",
              "      <td>0</td>\n",
              "      <td>0</td>\n",
              "      <td>86424.57</td>\n",
              "      <td>0</td>\n",
              "    </tr>\n",
              "    <tr>\n",
              "      <th>53</th>\n",
              "      <td>54</td>\n",
              "      <td>15702298</td>\n",
              "      <td>Parkhill</td>\n",
              "      <td>655</td>\n",
              "      <td>Germany</td>\n",
              "      <td>Male</td>\n",
              "      <td>41</td>\n",
              "      <td>NaN</td>\n",
              "      <td>125561.97</td>\n",
              "      <td>1</td>\n",
              "      <td>0</td>\n",
              "      <td>0</td>\n",
              "      <td>164040.94</td>\n",
              "      <td>1</td>\n",
              "    </tr>\n",
              "    <tr>\n",
              "      <th>60</th>\n",
              "      <td>61</td>\n",
              "      <td>15651280</td>\n",
              "      <td>Hunter</td>\n",
              "      <td>742</td>\n",
              "      <td>Germany</td>\n",
              "      <td>Male</td>\n",
              "      <td>35</td>\n",
              "      <td>NaN</td>\n",
              "      <td>136857.00</td>\n",
              "      <td>1</td>\n",
              "      <td>0</td>\n",
              "      <td>0</td>\n",
              "      <td>84509.57</td>\n",
              "      <td>0</td>\n",
              "    </tr>\n",
              "    <tr>\n",
              "      <th>...</th>\n",
              "      <td>...</td>\n",
              "      <td>...</td>\n",
              "      <td>...</td>\n",
              "      <td>...</td>\n",
              "      <td>...</td>\n",
              "      <td>...</td>\n",
              "      <td>...</td>\n",
              "      <td>...</td>\n",
              "      <td>...</td>\n",
              "      <td>...</td>\n",
              "      <td>...</td>\n",
              "      <td>...</td>\n",
              "      <td>...</td>\n",
              "      <td>...</td>\n",
              "    </tr>\n",
              "    <tr>\n",
              "      <th>9944</th>\n",
              "      <td>9945</td>\n",
              "      <td>15703923</td>\n",
              "      <td>Cameron</td>\n",
              "      <td>744</td>\n",
              "      <td>Germany</td>\n",
              "      <td>Male</td>\n",
              "      <td>41</td>\n",
              "      <td>NaN</td>\n",
              "      <td>190409.34</td>\n",
              "      <td>2</td>\n",
              "      <td>1</td>\n",
              "      <td>1</td>\n",
              "      <td>138361.48</td>\n",
              "      <td>0</td>\n",
              "    </tr>\n",
              "    <tr>\n",
              "      <th>9956</th>\n",
              "      <td>9957</td>\n",
              "      <td>15707861</td>\n",
              "      <td>Nucci</td>\n",
              "      <td>520</td>\n",
              "      <td>France</td>\n",
              "      <td>Female</td>\n",
              "      <td>46</td>\n",
              "      <td>NaN</td>\n",
              "      <td>85216.61</td>\n",
              "      <td>1</td>\n",
              "      <td>1</td>\n",
              "      <td>0</td>\n",
              "      <td>117369.52</td>\n",
              "      <td>1</td>\n",
              "    </tr>\n",
              "    <tr>\n",
              "      <th>9964</th>\n",
              "      <td>9965</td>\n",
              "      <td>15642785</td>\n",
              "      <td>Douglas</td>\n",
              "      <td>479</td>\n",
              "      <td>France</td>\n",
              "      <td>Male</td>\n",
              "      <td>34</td>\n",
              "      <td>NaN</td>\n",
              "      <td>117593.48</td>\n",
              "      <td>2</td>\n",
              "      <td>0</td>\n",
              "      <td>0</td>\n",
              "      <td>113308.29</td>\n",
              "      <td>0</td>\n",
              "    </tr>\n",
              "    <tr>\n",
              "      <th>9985</th>\n",
              "      <td>9986</td>\n",
              "      <td>15586914</td>\n",
              "      <td>Nepean</td>\n",
              "      <td>659</td>\n",
              "      <td>France</td>\n",
              "      <td>Male</td>\n",
              "      <td>36</td>\n",
              "      <td>NaN</td>\n",
              "      <td>123841.49</td>\n",
              "      <td>2</td>\n",
              "      <td>1</td>\n",
              "      <td>0</td>\n",
              "      <td>96833.00</td>\n",
              "      <td>0</td>\n",
              "    </tr>\n",
              "    <tr>\n",
              "      <th>9999</th>\n",
              "      <td>10000</td>\n",
              "      <td>15628319</td>\n",
              "      <td>Walker</td>\n",
              "      <td>792</td>\n",
              "      <td>France</td>\n",
              "      <td>Female</td>\n",
              "      <td>28</td>\n",
              "      <td>NaN</td>\n",
              "      <td>130142.79</td>\n",
              "      <td>1</td>\n",
              "      <td>1</td>\n",
              "      <td>0</td>\n",
              "      <td>38190.78</td>\n",
              "      <td>0</td>\n",
              "    </tr>\n",
              "  </tbody>\n",
              "</table>\n",
              "<p>909 rows × 14 columns</p>\n",
              "</div>"
            ],
            "text/plain": [
              "      row_number  customer_id    surname  credit_score geography  gender  age  \\\n",
              "30            31     15589475    Azikiwe           591     Spain  Female   39   \n",
              "48            49     15766205        Yin           550   Germany    Male   38   \n",
              "51            52     15768193  Trevisani           585   Germany    Male   36   \n",
              "53            54     15702298   Parkhill           655   Germany    Male   41   \n",
              "60            61     15651280     Hunter           742   Germany    Male   35   \n",
              "...          ...          ...        ...           ...       ...     ...  ...   \n",
              "9944        9945     15703923    Cameron           744   Germany    Male   41   \n",
              "9956        9957     15707861      Nucci           520    France  Female   46   \n",
              "9964        9965     15642785    Douglas           479    France    Male   34   \n",
              "9985        9986     15586914     Nepean           659    France    Male   36   \n",
              "9999       10000     15628319     Walker           792    France  Female   28   \n",
              "\n",
              "      tenure    balance  num_of_products  hascrcard  is_active_member  \\\n",
              "30       NaN       0.00                3          1                 0   \n",
              "48       NaN  103391.38                1          0                 1   \n",
              "51       NaN  146050.97                2          0                 0   \n",
              "53       NaN  125561.97                1          0                 0   \n",
              "60       NaN  136857.00                1          0                 0   \n",
              "...      ...        ...              ...        ...               ...   \n",
              "9944     NaN  190409.34                2          1                 1   \n",
              "9956     NaN   85216.61                1          1                 0   \n",
              "9964     NaN  117593.48                2          0                 0   \n",
              "9985     NaN  123841.49                2          1                 0   \n",
              "9999     NaN  130142.79                1          1                 0   \n",
              "\n",
              "      estimated_salary  exited  \n",
              "30           140469.38       1  \n",
              "48            90878.13       0  \n",
              "51            86424.57       0  \n",
              "53           164040.94       1  \n",
              "60            84509.57       0  \n",
              "...                ...     ...  \n",
              "9944         138361.48       0  \n",
              "9956         117369.52       1  \n",
              "9964         113308.29       0  \n",
              "9985          96833.00       0  \n",
              "9999          38190.78       0  \n",
              "\n",
              "[909 rows x 14 columns]"
            ]
          },
          "execution_count": 10,
          "metadata": {},
          "output_type": "execute_result"
        }
      ],
      "source": [
        "#проверим взаимосвязь наличия\n",
        "data[data['tenure'].isna()]"
      ]
    },
    {
      "cell_type": "code",
      "execution_count": null,
      "metadata": {
        "id": "Q7uP1jWPeVCK",
        "outputId": "bf3c3d35-3436-41cb-e2f9-35f34c16d40e"
      },
      "outputs": [
        {
          "data": {
            "text/plain": [
              "1.0     952\n",
              "2.0     950\n",
              "8.0     933\n",
              "3.0     928\n",
              "5.0     927\n",
              "7.0     925\n",
              "4.0     885\n",
              "9.0     882\n",
              "6.0     881\n",
              "10.0    446\n",
              "0.0     382\n",
              "Name: tenure, dtype: int64"
            ]
          },
          "execution_count": 11,
          "metadata": {},
          "output_type": "execute_result"
        }
      ],
      "source": [
        "data['tenure'].value_counts().sort_values(ascending = False)"
      ]
    },
    {
      "cell_type": "code",
      "execution_count": null,
      "metadata": {
        "id": "scw5s9creVCK",
        "outputId": "f39c7c17-9d53-4b4f-d7dc-1d6f4b4ebbb3"
      },
      "outputs": [
        {
          "data": {
            "text/plain": [
              "0    726\n",
              "1    183\n",
              "Name: exited, dtype: int64"
            ]
          },
          "execution_count": 12,
          "metadata": {},
          "output_type": "execute_result"
        }
      ],
      "source": [
        "data[data['tenure'].isna()]['exited'].value_counts().sort_values(ascending=False)"
      ]
    },
    {
      "cell_type": "markdown",
      "metadata": {
        "id": "K0R_a62YeVCK"
      },
      "source": [
        "Видно,что в данной выборке у клиентов, которые пользуются банком 10 лет или 0 лет, выбивающиеся из общей тенденции значения.\n",
        "\n",
        "Прежде чем заполнить пропуски и удалять строки, проверим взаимосвязь."
      ]
    },
    {
      "cell_type": "code",
      "execution_count": null,
      "metadata": {
        "id": "ljSO64LeeVCK",
        "outputId": "c2923758-0ce0-49cd-d3ac-2dd1511910c8"
      },
      "outputs": [
        {
          "data": {
            "image/png": "[encoded data removed]",
            "text/plain": [
              "<Figure size 720x576 with 1 Axes>"
            ]
          },
          "metadata": {
            "needs_background": "light"
          },
          "output_type": "display_data"
        }
      ],
      "source": [
        "# Построим график с количеством людей, ушедших из банка и оставшихся\n",
        "\n",
        "plt.figure()\n",
        "data['exited'].hist(figsize=(10,8), edgecolor='k')\n",
        "plt.title('Отношение ушедших клиентов к оставшимся', fontsize='x-large')\n",
        "plt.xlabel('Факт ухода клиента', fontsize='x-large')\n",
        "plt.ylabel('Количество клиентов', fontsize='x-large')\n",
        "plt.show()"
      ]
    },
    {
      "cell_type": "markdown",
      "metadata": {
        "id": "cu68bQhmeVCK"
      },
      "source": [
        "Выборка несбалансирована, примерно только 20% клиентов уходят из банка.\n",
        "\n",
        "Проверим корреляцию Пирсона между параметрами:"
      ]
    },
    {
      "cell_type": "code",
      "execution_count": null,
      "metadata": {
        "id": "-xOin5uVeVCK",
        "outputId": "bff678a5-8cf7-4d6e-a5f6-e709a209a05a"
      },
      "outputs": [
        {
          "data": {
            "image/png": "[encoded data removed]",
            "text/plain": [
              "<Figure size 1080x360 with 2 Axes>"
            ]
          },
          "metadata": {
            "needs_background": "light"
          },
          "output_type": "display_data"
        }
      ],
      "source": [
        "plt.figure(figsize=(15, 5))\n",
        "plt.title('Матрица корреляций зависимости фичей')\n",
        "\n",
        "sns.heatmap(data.corr(), annot = True)\n",
        "\n",
        "plt.show()"
      ]
    },
    {
      "cell_type": "markdown",
      "metadata": {
        "id": "kJZkm7fueVCL"
      },
      "source": [
        "Больше всего коррелирует между собой параметры age и exited, но не так сильно, всего на 0,29. Параметр возраста сильнее всего влияет на уход клиента из банка.\n",
        "\n",
        "Отбросим те столбцы, которые никак не связаны с расчетом модели машинного обучения (являются либо персональными данными пользователя, либо идентификаторами):\n",
        "\n",
        "* row_number — индекс строки в данных\n",
        "* customer_id — уникальный идентификатор клиента\n",
        "* surname — фамилия"
      ]
    },
    {
      "cell_type": "code",
      "execution_count": null,
      "metadata": {
        "id": "dW1Rm8kReVCL"
      },
      "outputs": [],
      "source": [
        "data = data.drop(['surname', 'row_number', 'customer_id'], axis=1)"
      ]
    },
    {
      "cell_type": "markdown",
      "metadata": {
        "id": "vzX_Zw3leVCL"
      },
      "source": [
        "Так как, чем больше значений, тем модель лучше всего себя показывает (больше данных для обучения), стоит не удалять строки, и заполнить их значениями.\n",
        "\n",
        "Особой корреляции между остальнымит параметрами и tenure нет (менее 0,1), то попробуем заполнить данные медианным значением и проверим полученную корреляцию с остальными параметрами снова:"
      ]
    },
    {
      "cell_type": "code",
      "execution_count": null,
      "metadata": {
        "id": "1S0GE7YseVCL"
      },
      "outputs": [],
      "source": [
        "# создаём новый датасет и заполняем его значениями\n",
        "\n",
        "data_filled = data\n",
        "data_filled['tenure'] = data_filled['tenure'].fillna(data_filled['tenure'].median())"
      ]
    },
    {
      "cell_type": "code",
      "execution_count": null,
      "metadata": {
        "id": "d1cf2cAneVCL",
        "outputId": "30b1e89c-a4c7-4a09-d453-f8f14eed6fa1"
      },
      "outputs": [
        {
          "data": {
            "text/plain": [
              "5.0     1836\n",
              "1.0      952\n",
              "2.0      950\n",
              "8.0      933\n",
              "3.0      928\n",
              "7.0      925\n",
              "4.0      885\n",
              "9.0      882\n",
              "6.0      881\n",
              "10.0     446\n",
              "0.0      382\n",
              "Name: tenure, dtype: int64"
            ]
          },
          "execution_count": 17,
          "metadata": {},
          "output_type": "execute_result"
        }
      ],
      "source": [
        "# проверяем количество значений\n",
        "\n",
        "data_filled['tenure'].value_counts().sort_values(ascending=False)"
      ]
    },
    {
      "cell_type": "markdown",
      "metadata": {
        "id": "tGBjA9jgeVCM"
      },
      "source": [
        "Построим хитмэп коррелляции:"
      ]
    },
    {
      "cell_type": "code",
      "execution_count": null,
      "metadata": {
        "id": "ApHLCZZueVCM",
        "outputId": "6376e7dc-e91f-4558-ed0a-e51cb6c0e9b1"
      },
      "outputs": [
        {
          "data": {
            "image/png": "[encoded data removed]",
            "text/plain": [
              "<Figure size 72x360 with 2 Axes>"
            ]
          },
          "metadata": {
            "needs_background": "light"
          },
          "output_type": "display_data"
        }
      ],
      "source": [
        "plt.figure(figsize=(1, 5))\n",
        "plt.title('Матрица корреляций зависимости фичей')\n",
        "\n",
        "sns.heatmap(data_filled.corr()[['tenure']], annot = True)\n",
        "\n",
        "plt.show()"
      ]
    },
    {
      "cell_type": "markdown",
      "metadata": {
        "id": "4z1G9RD9eVCM"
      },
      "source": [
        "Значения коэффициента Пирсона значительно не изменились, можно заменить датасет на новый:"
      ]
    },
    {
      "cell_type": "code",
      "execution_count": null,
      "metadata": {
        "id": "AyyMYpzfeVCT"
      },
      "outputs": [],
      "source": [
        "data = data_filled"
      ]
    },
    {
      "cell_type": "markdown",
      "metadata": {
        "id": "dFjxWe4yeVCT"
      },
      "source": [
        "Теперь подготовим наши данные для обработки, прежде чем обучать модель.\n",
        "Применим стандартизацию и OHE, чтобы применить несколько моделей машинного обучения (и не создавать множество датасетов)."
      ]
    },
    {
      "cell_type": "code",
      "execution_count": null,
      "metadata": {
        "id": "B8Gu-VYBeVCT",
        "outputId": "438ec5d1-e8fb-42b7-a1bc-084b3fc68eb4"
      },
      "outputs": [
        {
          "data": {
            "text/html": [
              "<div>\n",
              "<style scoped>\n",
              "    .dataframe tbody tr th:only-of-type {\n",
              "        vertical-align: middle;\n",
              "    }\n",
              "\n",
              "    .dataframe tbody tr th {\n",
              "        vertical-align: top;\n",
              "    }\n",
              "\n",
              "    .dataframe thead th {\n",
              "        text-align: right;\n",
              "    }\n",
              "</style>\n",
              "<table border=\"1\" class=\"dataframe\">\n",
              "  <thead>\n",
              "    <tr style=\"text-align: right;\">\n",
              "      <th></th>\n",
              "      <th>credit_score</th>\n",
              "      <th>age</th>\n",
              "      <th>tenure</th>\n",
              "      <th>balance</th>\n",
              "      <th>num_of_products</th>\n",
              "      <th>hascrcard</th>\n",
              "      <th>is_active_member</th>\n",
              "      <th>estimated_salary</th>\n",
              "      <th>exited</th>\n",
              "      <th>geography_Germany</th>\n",
              "      <th>geography_Spain</th>\n",
              "      <th>gender_Male</th>\n",
              "    </tr>\n",
              "  </thead>\n",
              "  <tbody>\n",
              "    <tr>\n",
              "      <th>0</th>\n",
              "      <td>619</td>\n",
              "      <td>42</td>\n",
              "      <td>2.0</td>\n",
              "      <td>0.00</td>\n",
              "      <td>1</td>\n",
              "      <td>1</td>\n",
              "      <td>1</td>\n",
              "      <td>101348.88</td>\n",
              "      <td>1</td>\n",
              "      <td>0</td>\n",
              "      <td>0</td>\n",
              "      <td>0</td>\n",
              "    </tr>\n",
              "    <tr>\n",
              "      <th>1</th>\n",
              "      <td>608</td>\n",
              "      <td>41</td>\n",
              "      <td>1.0</td>\n",
              "      <td>83807.86</td>\n",
              "      <td>1</td>\n",
              "      <td>0</td>\n",
              "      <td>1</td>\n",
              "      <td>112542.58</td>\n",
              "      <td>0</td>\n",
              "      <td>0</td>\n",
              "      <td>1</td>\n",
              "      <td>0</td>\n",
              "    </tr>\n",
              "    <tr>\n",
              "      <th>2</th>\n",
              "      <td>502</td>\n",
              "      <td>42</td>\n",
              "      <td>8.0</td>\n",
              "      <td>159660.80</td>\n",
              "      <td>3</td>\n",
              "      <td>1</td>\n",
              "      <td>0</td>\n",
              "      <td>113931.57</td>\n",
              "      <td>1</td>\n",
              "      <td>0</td>\n",
              "      <td>0</td>\n",
              "      <td>0</td>\n",
              "    </tr>\n",
              "    <tr>\n",
              "      <th>3</th>\n",
              "      <td>699</td>\n",
              "      <td>39</td>\n",
              "      <td>1.0</td>\n",
              "      <td>0.00</td>\n",
              "      <td>2</td>\n",
              "      <td>0</td>\n",
              "      <td>0</td>\n",
              "      <td>93826.63</td>\n",
              "      <td>0</td>\n",
              "      <td>0</td>\n",
              "      <td>0</td>\n",
              "      <td>0</td>\n",
              "    </tr>\n",
              "    <tr>\n",
              "      <th>4</th>\n",
              "      <td>850</td>\n",
              "      <td>43</td>\n",
              "      <td>2.0</td>\n",
              "      <td>125510.82</td>\n",
              "      <td>1</td>\n",
              "      <td>1</td>\n",
              "      <td>1</td>\n",
              "      <td>79084.10</td>\n",
              "      <td>0</td>\n",
              "      <td>0</td>\n",
              "      <td>1</td>\n",
              "      <td>0</td>\n",
              "    </tr>\n",
              "    <tr>\n",
              "      <th>...</th>\n",
              "      <td>...</td>\n",
              "      <td>...</td>\n",
              "      <td>...</td>\n",
              "      <td>...</td>\n",
              "      <td>...</td>\n",
              "      <td>...</td>\n",
              "      <td>...</td>\n",
              "      <td>...</td>\n",
              "      <td>...</td>\n",
              "      <td>...</td>\n",
              "      <td>...</td>\n",
              "      <td>...</td>\n",
              "    </tr>\n",
              "    <tr>\n",
              "      <th>9995</th>\n",
              "      <td>771</td>\n",
              "      <td>39</td>\n",
              "      <td>5.0</td>\n",
              "      <td>0.00</td>\n",
              "      <td>2</td>\n",
              "      <td>1</td>\n",
              "      <td>0</td>\n",
              "      <td>96270.64</td>\n",
              "      <td>0</td>\n",
              "      <td>0</td>\n",
              "      <td>0</td>\n",
              "      <td>1</td>\n",
              "    </tr>\n",
              "    <tr>\n",
              "      <th>9996</th>\n",
              "      <td>516</td>\n",
              "      <td>35</td>\n",
              "      <td>10.0</td>\n",
              "      <td>57369.61</td>\n",
              "      <td>1</td>\n",
              "      <td>1</td>\n",
              "      <td>1</td>\n",
              "      <td>101699.77</td>\n",
              "      <td>0</td>\n",
              "      <td>0</td>\n",
              "      <td>0</td>\n",
              "      <td>1</td>\n",
              "    </tr>\n",
              "    <tr>\n",
              "      <th>9997</th>\n",
              "      <td>709</td>\n",
              "      <td>36</td>\n",
              "      <td>7.0</td>\n",
              "      <td>0.00</td>\n",
              "      <td>1</td>\n",
              "      <td>0</td>\n",
              "      <td>1</td>\n",
              "      <td>42085.58</td>\n",
              "      <td>1</td>\n",
              "      <td>0</td>\n",
              "      <td>0</td>\n",
              "      <td>0</td>\n",
              "    </tr>\n",
              "    <tr>\n",
              "      <th>9998</th>\n",
              "      <td>772</td>\n",
              "      <td>42</td>\n",
              "      <td>3.0</td>\n",
              "      <td>75075.31</td>\n",
              "      <td>2</td>\n",
              "      <td>1</td>\n",
              "      <td>0</td>\n",
              "      <td>92888.52</td>\n",
              "      <td>1</td>\n",
              "      <td>1</td>\n",
              "      <td>0</td>\n",
              "      <td>1</td>\n",
              "    </tr>\n",
              "    <tr>\n",
              "      <th>9999</th>\n",
              "      <td>792</td>\n",
              "      <td>28</td>\n",
              "      <td>5.0</td>\n",
              "      <td>130142.79</td>\n",
              "      <td>1</td>\n",
              "      <td>1</td>\n",
              "      <td>0</td>\n",
              "      <td>38190.78</td>\n",
              "      <td>0</td>\n",
              "      <td>0</td>\n",
              "      <td>0</td>\n",
              "      <td>0</td>\n",
              "    </tr>\n",
              "  </tbody>\n",
              "</table>\n",
              "<p>10000 rows × 12 columns</p>\n",
              "</div>"
            ],
            "text/plain": [
              "      credit_score  age  tenure    balance  num_of_products  hascrcard  \\\n",
              "0              619   42     2.0       0.00                1          1   \n",
              "1              608   41     1.0   83807.86                1          0   \n",
              "2              502   42     8.0  159660.80                3          1   \n",
              "3              699   39     1.0       0.00                2          0   \n",
              "4              850   43     2.0  125510.82                1          1   \n",
              "...            ...  ...     ...        ...              ...        ...   \n",
              "9995           771   39     5.0       0.00                2          1   \n",
              "9996           516   35    10.0   57369.61                1          1   \n",
              "9997           709   36     7.0       0.00                1          0   \n",
              "9998           772   42     3.0   75075.31                2          1   \n",
              "9999           792   28     5.0  130142.79                1          1   \n",
              "\n",
              "      is_active_member  estimated_salary  exited  geography_Germany  \\\n",
              "0                    1         101348.88       1                  0   \n",
              "1                    1         112542.58       0                  0   \n",
              "2                    0         113931.57       1                  0   \n",
              "3                    0          93826.63       0                  0   \n",
              "4                    1          79084.10       0                  0   \n",
              "...                ...               ...     ...                ...   \n",
              "9995                 0          96270.64       0                  0   \n",
              "9996                 1         101699.77       0                  0   \n",
              "9997                 1          42085.58       1                  0   \n",
              "9998                 0          92888.52       1                  1   \n",
              "9999                 0          38190.78       0                  0   \n",
              "\n",
              "      geography_Spain  gender_Male  \n",
              "0                   0            0  \n",
              "1                   1            0  \n",
              "2                   0            0  \n",
              "3                   0            0  \n",
              "4                   1            0  \n",
              "...               ...          ...  \n",
              "9995                0            1  \n",
              "9996                0            1  \n",
              "9997                0            0  \n",
              "9998                0            1  \n",
              "9999                0            0  \n",
              "\n",
              "[10000 rows x 12 columns]"
            ]
          },
          "execution_count": 20,
          "metadata": {},
          "output_type": "execute_result"
        }
      ],
      "source": [
        "data = pd.get_dummies(data, drop_first = True)\n",
        "data"
      ]
    },
    {
      "cell_type": "markdown",
      "metadata": {
        "id": "pwew8eX6eVCU"
      },
      "source": [
        "Прежде, чем масштабировать признаки, необходимо разделить выборки на тестовую, валидационную и тренировочную, и обучить на этих данных стандартизацию:"
      ]
    },
    {
      "cell_type": "code",
      "execution_count": null,
      "metadata": {
        "id": "QLv325HMeVCU"
      },
      "outputs": [],
      "source": [
        "data_features = data.drop('exited', axis = 1)\n",
        "data_target = data['exited']"
      ]
    },
    {
      "cell_type": "markdown",
      "metadata": {
        "id": "NIfP7gZXeVCU"
      },
      "source": [
        "Спрятанной тестовой выборки нет. Значит, данные нужно разбить на три части: обучающую, валидационную и тестовую. Размеры тестового и валидационного наборов обычно равны. Исходные данные разбивают в соотношении 3:1:1."
      ]
    },
    {
      "cell_type": "code",
      "execution_count": null,
      "metadata": {
        "id": "3nJrurwheVCU"
      },
      "outputs": [],
      "source": [
        "# воспользуемся train_test_split с стратификацией по target\n",
        "\n",
        "data_f_train, data_f_test, data_t_train, data_t_test = train_test_split(data_features,\n",
        "                                                                data_target,\n",
        "                                                                test_size=0.2,\n",
        "                                                                random_state=12345,\n",
        "                                                                stratify=data_target)"
      ]
    },
    {
      "cell_type": "code",
      "execution_count": null,
      "metadata": {
        "id": "GojL8fQfeVCV"
      },
      "outputs": [],
      "source": [
        "# воспользуемся train_test_split с стратификацией по target\n",
        "\n",
        "data_f_train, data_f_valid, data_t_train, data_t_valid = train_test_split(data_f_train,\n",
        "                                                                data_t_train,\n",
        "                                                                test_size=0.25,\n",
        "                                                                random_state=12345,\n",
        "                                                                stratify=data_t_train)"
      ]
    },
    {
      "cell_type": "markdown",
      "metadata": {
        "id": "Gnkd-qCzeVCV"
      },
      "source": [
        "Стандартизируем параметры:"
      ]
    },
    {
      "cell_type": "code",
      "execution_count": null,
      "metadata": {
        "id": "PGLDEbxFeVCV"
      },
      "outputs": [],
      "source": [
        "# необходимые параметры для стандартизации\n",
        "numeric = ['credit_score', 'age', 'tenure', 'balance', 'num_of_products', 'estimated_salary']\n",
        "\n",
        "# обучаем стандартизацию\n",
        "scaler = StandardScaler()\n",
        "scaler.fit(data_f_train[numeric])\n",
        "data_f_train[numeric] = scaler.transform(data_f_train[numeric])\n",
        "data_f_valid[numeric] = scaler.transform(data_f_valid[numeric])"
      ]
    },
    {
      "cell_type": "code",
      "execution_count": null,
      "metadata": {
        "id": "dyDh-xuueVCV"
      },
      "outputs": [],
      "source": [
        "warnings.filterwarnings('ignore')\n",
        "data_f_test[numeric] = scaler.transform(data_f_test[numeric])"
      ]
    },
    {
      "cell_type": "markdown",
      "metadata": {
        "id": "8fNtjag0eVCV"
      },
      "source": [
        "**Вывод**\n",
        "\n",
        "Датасет состоит из 10000 строк, часть пропущенных значений заполнена.\n",
        "\n",
        "Выборка несбалансирована, примерно только 20% клиентов уходят из банка.\n",
        "\n",
        "Данные предобратоны, заполнены пропущенные значения и предварительно обучена модель для стандартизации данных и дальнейшего обучения модели, приступим к исследованию моделей машинного обучения:"
      ]
    },
    {
      "cell_type": "markdown",
      "metadata": {
        "id": "dMp3AdtOeVCW"
      },
      "source": [
        "## Исследование задачи"
      ]
    },
    {
      "cell_type": "markdown",
      "metadata": {
        "id": "qX1MNOSWeVCW"
      },
      "source": [
        "Обучим модель без учета дисбаланса.\n",
        "Прежде чем обучать модель, создадим функцию, которая создает кривую  и выводит значение AUC-ROC:"
      ]
    },
    {
      "cell_type": "code",
      "execution_count": null,
      "metadata": {
        "id": "LyDB2j12eVCW"
      },
      "outputs": [],
      "source": [
        "#функция с построением графика и расчета площади под кривой\n",
        "def roc_auc_fig(model, features_valid = data_f_valid, target_valid = data_t_valid):\n",
        "    probabilities_valid = model.predict_proba(features_valid)\n",
        "    probabilities_one_valid = probabilities_valid[:, 1]\n",
        "    print('Площадь под кривой ROC: {:.4f}'.format(roc_auc_score(target_valid, probabilities_one_valid)))\n",
        "    fpr, tpr, thresholds = roc_curve(target_valid, probabilities_one_valid)\n",
        "    plt.figure(figsize=(10,10))\n",
        "    plt.plot(fpr, tpr)\n",
        "    plt.plot([0, 1], [0, 1], linestyle='--')\n",
        "    plt.xlim([0.0, 1.0])\n",
        "    plt.ylim([0.0, 1.0])\n",
        "    plt.xlabel('False Positive Rate')\n",
        "    plt.ylabel('True Positive Rate')\n",
        "    plt.title('ROC-кривая')\n",
        "    plt.show()"
      ]
    },
    {
      "cell_type": "markdown",
      "metadata": {
        "id": "WqCulpDCeVCW"
      },
      "source": [
        "<div class=\"alert alert-success\">\n",
        "<h2> Комментарий ревьюера <a class=\"tocSkip\"> </h2>\n",
        "\n",
        "👍  Супер. Удобно, чтобы не писать этот код каждый раз. Всегда прошу так делать :)\n",
        "</div>  \n",
        ""
      ]
    },
    {
      "cell_type": "markdown",
      "metadata": {
        "id": "xpsVeyoKeVCW"
      },
      "source": [
        "Для машинного обучения на тренировочной выборке воспользуемся ранее изученными способами классификации:\n",
        "\n",
        "Дерево решений\n",
        "Случайный лес\n",
        "Линейная регрессия\n",
        "И так же подберём гиперпараметры на валидацонной выборке.\n",
        "\n",
        "Для метрики качества воспользуемся функцией classification_report, которая выведет все необходимые метрики классификации.\n",
        "\n"
      ]
    },
    {
      "cell_type": "markdown",
      "metadata": {
        "id": "TrwaZfM9eVCW"
      },
      "source": [
        "При использовании автоматических подборов параметров GridSearchCV модели очень долго обучались, от 20 минут до часа времени. Для ускорения процесса, использовался ручной подбор параметров"
      ]
    },
    {
      "cell_type": "markdown",
      "metadata": {
        "id": "fnlhsBJaeVCX"
      },
      "source": [
        "### Дерево решений"
      ]
    },
    {
      "cell_type": "markdown",
      "metadata": {
        "id": "fhNsv1tReVCX"
      },
      "source": [
        "Рассмотрим одну популярную модель — решающее дерево. Оно может описывать процесс принятия решения почти в любой ситуации. На основе значений признаков формулируются ответы, а затем выстраивается дерево с ответами «Да»/«Нет» и различными вариантами действий:\n",
        "\n",
        "Сразу подберём лучшие параметры для несбалансированной выборки:"
      ]
    },
    {
      "cell_type": "code",
      "execution_count": null,
      "metadata": {
        "id": "qAxy-IqmeVCX",
        "outputId": "dc05bbcc-feea-4be0-a420-b8f0fa0b5dbc"
      },
      "outputs": [
        {
          "name": "stderr",
          "output_type": "stream",
          "text": [
            "100%|██████████| 18/18 [00:00<00:00, 39.12it/s]\n"
          ]
        }
      ],
      "source": [
        "best_depth_t = 0\n",
        "f1_best_t = 0\n",
        "\n",
        "for depth in tqdm(range(2, 20)):\n",
        "    model = DecisionTreeClassifier(random_state = 12345, max_depth = depth)\n",
        "    model.fit(data_f_train, data_t_train)\n",
        "    predictions_valid = model.predict(data_f_valid)\n",
        "    f1 = f1_score(data_t_valid, predictions_valid)\n",
        "    if f1 > f1_best_t:\n",
        "        best_depth_t = depth\n",
        "        f1_best_t = f1\n",
        "\n",
        "#сохраним лучшие параметры в словаре\n",
        "tree_best = {'depth':best_depth_t}"
      ]
    },
    {
      "cell_type": "markdown",
      "metadata": {
        "id": "HvHQMeQteVCX"
      },
      "source": [
        "Проверим метрики качества:"
      ]
    },
    {
      "cell_type": "code",
      "execution_count": null,
      "metadata": {
        "id": "z5TjI0yFeVCX",
        "outputId": "d284f5d7-fa83-4f5c-d4a4-3455a7a04d1d"
      },
      "outputs": [
        {
          "data": {
            "text/html": [
              "<div>\n",
              "<style scoped>\n",
              "    .dataframe tbody tr th:only-of-type {\n",
              "        vertical-align: middle;\n",
              "    }\n",
              "\n",
              "    .dataframe tbody tr th {\n",
              "        vertical-align: top;\n",
              "    }\n",
              "\n",
              "    .dataframe thead th {\n",
              "        text-align: right;\n",
              "    }\n",
              "</style>\n",
              "<table border=\"1\" class=\"dataframe\">\n",
              "  <thead>\n",
              "    <tr style=\"text-align: right;\">\n",
              "      <th></th>\n",
              "      <th>precision</th>\n",
              "      <th>recall</th>\n",
              "      <th>f1-score</th>\n",
              "      <th>support</th>\n",
              "    </tr>\n",
              "  </thead>\n",
              "  <tbody>\n",
              "    <tr>\n",
              "      <th>Non-exited</th>\n",
              "      <td>0.880632</td>\n",
              "      <td>0.944758</td>\n",
              "      <td>0.911569</td>\n",
              "      <td>1593.000</td>\n",
              "    </tr>\n",
              "    <tr>\n",
              "      <th>exited</th>\n",
              "      <td>0.697595</td>\n",
              "      <td>0.498771</td>\n",
              "      <td>0.581662</td>\n",
              "      <td>407.000</td>\n",
              "    </tr>\n",
              "    <tr>\n",
              "      <th>accuracy</th>\n",
              "      <td>0.854000</td>\n",
              "      <td>0.854000</td>\n",
              "      <td>0.854000</td>\n",
              "      <td>0.854</td>\n",
              "    </tr>\n",
              "    <tr>\n",
              "      <th>macro avg</th>\n",
              "      <td>0.789113</td>\n",
              "      <td>0.721765</td>\n",
              "      <td>0.746615</td>\n",
              "      <td>2000.000</td>\n",
              "    </tr>\n",
              "    <tr>\n",
              "      <th>weighted avg</th>\n",
              "      <td>0.843384</td>\n",
              "      <td>0.854000</td>\n",
              "      <td>0.844433</td>\n",
              "      <td>2000.000</td>\n",
              "    </tr>\n",
              "  </tbody>\n",
              "</table>\n",
              "</div>"
            ],
            "text/plain": [
              "              precision    recall  f1-score   support\n",
              "Non-exited     0.880632  0.944758  0.911569  1593.000\n",
              "exited         0.697595  0.498771  0.581662   407.000\n",
              "accuracy       0.854000  0.854000  0.854000     0.854\n",
              "macro avg      0.789113  0.721765  0.746615  2000.000\n",
              "weighted avg   0.843384  0.854000  0.844433  2000.000"
            ]
          },
          "execution_count": 28,
          "metadata": {},
          "output_type": "execute_result"
        }
      ],
      "source": [
        "model = DecisionTreeClassifier(random_state = 12345, max_depth = best_depth_t)\n",
        "model.fit(data_f_train, data_t_train)\n",
        "predictions_valid = model.predict(data_f_valid)\n",
        "report = classification_report(data_t_valid, predictions_valid, target_names = ['Non-exited', 'exited'], output_dict = True)\n",
        "report = pd.DataFrame(report).transpose()\n",
        "report"
      ]
    },
    {
      "cell_type": "code",
      "execution_count": null,
      "metadata": {
        "id": "aj1KwtRjeVCX",
        "outputId": "1e60ca55-2a91-4bb2-a596-f01fc3233af3"
      },
      "outputs": [
        {
          "name": "stdout",
          "output_type": "stream",
          "text": [
            "Площадь под кривой ROC: 0.8097\n"
          ]
        },
        {
          "data": {
            "image/png": "[encoded data removed]",
            "text/plain": [
              "<Figure size 720x720 with 1 Axes>"
            ]
          },
          "metadata": {
            "needs_background": "light"
          },
          "output_type": "display_data"
        }
      ],
      "source": [
        "roc_auc_fig(model)"
      ]
    },
    {
      "cell_type": "markdown",
      "metadata": {
        "id": "iRq30dtseVCY"
      },
      "source": [
        "**Вывод**\n",
        "\n",
        "* значение F1-меры меньше чем 0.59 - 0.58\n",
        "* площадь под кривой ROC - 0.8\n",
        "\n",
        "Метрики качества не соответствуют необходимым."
      ]
    },
    {
      "cell_type": "markdown",
      "metadata": {
        "id": "69X0dZt_eVCY"
      },
      "source": [
        "### Случайный лес"
      ]
    },
    {
      "cell_type": "markdown",
      "metadata": {
        "id": "gQdc862seVCY"
      },
      "source": [
        "Один из алгоритмов классификации — случайный лес (random forest). Алгоритм обучает большое количество независимых друг от друга деревьев, а потом принимает решение на основе голосования.\n",
        "\n",
        "Сразу подберём лучшие параметры для несбалансированной выборки:"
      ]
    },
    {
      "cell_type": "code",
      "execution_count": null,
      "metadata": {
        "id": "nD0tdH7feVCY",
        "outputId": "f20e467c-5e86-494d-92a0-ff5415fb229a"
      },
      "outputs": [
        {
          "name": "stderr",
          "output_type": "stream",
          "text": [
            "100%|██████████| 5/5 [00:04<00:00,  1.09it/s]\n"
          ]
        }
      ],
      "source": [
        "best_depth_f = 0\n",
        "best_est_f = 0\n",
        "f1_best_f = 0\n",
        "\n",
        "for est in tqdm(range(1, 51, 10)):\n",
        "    for depth in range (2, 11):\n",
        "        model = RandomForestClassifier(random_state=12345, n_estimators=est, max_depth=depth)\n",
        "        model.fit(data_f_train, data_t_train)\n",
        "        predictions_valid = model.predict(data_f_valid)\n",
        "        f1 = f1_score(data_t_valid, predictions_valid)\n",
        "        if f1 > f1_best_f:\n",
        "            best_depth_f = depth\n",
        "            best_est_f = est\n",
        "            f1_best_f = f1\n",
        "\n",
        "# сохраняем параметры в словаре\n",
        "forest_best = {'depth':best_depth_f, 'n_estimators':best_est_f}"
      ]
    },
    {
      "cell_type": "code",
      "execution_count": null,
      "metadata": {
        "id": "jE_oKpfJeVCY",
        "outputId": "dbd3186d-5f6e-4a42-bdcb-3a9008237a62"
      },
      "outputs": [
        {
          "data": {
            "text/html": [
              "<div>\n",
              "<style scoped>\n",
              "    .dataframe tbody tr th:only-of-type {\n",
              "        vertical-align: middle;\n",
              "    }\n",
              "\n",
              "    .dataframe tbody tr th {\n",
              "        vertical-align: top;\n",
              "    }\n",
              "\n",
              "    .dataframe thead th {\n",
              "        text-align: right;\n",
              "    }\n",
              "</style>\n",
              "<table border=\"1\" class=\"dataframe\">\n",
              "  <thead>\n",
              "    <tr style=\"text-align: right;\">\n",
              "      <th></th>\n",
              "      <th>precision</th>\n",
              "      <th>recall</th>\n",
              "      <th>f1-score</th>\n",
              "      <th>support</th>\n",
              "    </tr>\n",
              "  </thead>\n",
              "  <tbody>\n",
              "    <tr>\n",
              "      <th>Non-exited</th>\n",
              "      <td>0.869687</td>\n",
              "      <td>0.976146</td>\n",
              "      <td>0.919846</td>\n",
              "      <td>1593.0000</td>\n",
              "    </tr>\n",
              "    <tr>\n",
              "      <th>exited</th>\n",
              "      <td>0.820755</td>\n",
              "      <td>0.427518</td>\n",
              "      <td>0.562197</td>\n",
              "      <td>407.0000</td>\n",
              "    </tr>\n",
              "    <tr>\n",
              "      <th>accuracy</th>\n",
              "      <td>0.864500</td>\n",
              "      <td>0.864500</td>\n",
              "      <td>0.864500</td>\n",
              "      <td>0.8645</td>\n",
              "    </tr>\n",
              "    <tr>\n",
              "      <th>macro avg</th>\n",
              "      <td>0.845221</td>\n",
              "      <td>0.701832</td>\n",
              "      <td>0.741022</td>\n",
              "      <td>2000.0000</td>\n",
              "    </tr>\n",
              "    <tr>\n",
              "      <th>weighted avg</th>\n",
              "      <td>0.859729</td>\n",
              "      <td>0.864500</td>\n",
              "      <td>0.847065</td>\n",
              "      <td>2000.0000</td>\n",
              "    </tr>\n",
              "  </tbody>\n",
              "</table>\n",
              "</div>"
            ],
            "text/plain": [
              "              precision    recall  f1-score    support\n",
              "Non-exited     0.869687  0.976146  0.919846  1593.0000\n",
              "exited         0.820755  0.427518  0.562197   407.0000\n",
              "accuracy       0.864500  0.864500  0.864500     0.8645\n",
              "macro avg      0.845221  0.701832  0.741022  2000.0000\n",
              "weighted avg   0.859729  0.864500  0.847065  2000.0000"
            ]
          },
          "execution_count": 31,
          "metadata": {},
          "output_type": "execute_result"
        }
      ],
      "source": [
        "model = RandomForestClassifier(random_state=12345,\n",
        "                               n_estimators=best_est_f,\n",
        "                               max_depth=best_depth_f)\n",
        "model.fit(data_f_train, data_t_train)\n",
        "predictions_valid = model.predict(data_f_valid)\n",
        "report = classification_report(data_t_valid, predictions_valid, target_names=['Non-exited', 'exited'], output_dict=True)\n",
        "report = pd.DataFrame(report).transpose()\n",
        "report"
      ]
    },
    {
      "cell_type": "code",
      "execution_count": null,
      "metadata": {
        "id": "jKJ-k3bneVCZ",
        "outputId": "0a651459-185b-4a57-c394-b6697126996e"
      },
      "outputs": [
        {
          "name": "stdout",
          "output_type": "stream",
          "text": [
            "Площадь под кривой ROC: 0.8663\n"
          ]
        },
        {
          "data": {
            "image/png": "[encoded data removed]",
            "text/plain": [
              "<Figure size 720x720 with 1 Axes>"
            ]
          },
          "metadata": {
            "needs_background": "light"
          },
          "output_type": "display_data"
        }
      ],
      "source": [
        "roc_auc_fig(model)"
      ]
    },
    {
      "cell_type": "markdown",
      "metadata": {
        "id": "wWIZ9Ru4eVCZ"
      },
      "source": [
        "**Вывод**\n",
        "\n",
        "Значения F1-меры меньше, чем 0.59 - 0.56, площадь под кривой ROC - 0.86.\n",
        "\n",
        "Метрики качества не соответствуют необходимым."
      ]
    },
    {
      "cell_type": "markdown",
      "metadata": {
        "id": "3zAyFAAceVCZ"
      },
      "source": [
        "### Логистическая регрессия"
      ]
    },
    {
      "cell_type": "code",
      "execution_count": null,
      "metadata": {
        "id": "_CQ2Xi2jeVCZ",
        "outputId": "280e6dca-2445-4ab6-ab43-9fe39cdcd12b"
      },
      "outputs": [
        {
          "data": {
            "text/html": [
              "<div>\n",
              "<style scoped>\n",
              "    .dataframe tbody tr th:only-of-type {\n",
              "        vertical-align: middle;\n",
              "    }\n",
              "\n",
              "    .dataframe tbody tr th {\n",
              "        vertical-align: top;\n",
              "    }\n",
              "\n",
              "    .dataframe thead th {\n",
              "        text-align: right;\n",
              "    }\n",
              "</style>\n",
              "<table border=\"1\" class=\"dataframe\">\n",
              "  <thead>\n",
              "    <tr style=\"text-align: right;\">\n",
              "      <th></th>\n",
              "      <th>precision</th>\n",
              "      <th>recall</th>\n",
              "      <th>f1-score</th>\n",
              "      <th>support</th>\n",
              "    </tr>\n",
              "  </thead>\n",
              "  <tbody>\n",
              "    <tr>\n",
              "      <th>Non-exited</th>\n",
              "      <td>0.828526</td>\n",
              "      <td>0.973635</td>\n",
              "      <td>0.895238</td>\n",
              "      <td>1593.0000</td>\n",
              "    </tr>\n",
              "    <tr>\n",
              "      <th>exited</th>\n",
              "      <td>0.671875</td>\n",
              "      <td>0.211302</td>\n",
              "      <td>0.321495</td>\n",
              "      <td>407.0000</td>\n",
              "    </tr>\n",
              "    <tr>\n",
              "      <th>accuracy</th>\n",
              "      <td>0.818500</td>\n",
              "      <td>0.818500</td>\n",
              "      <td>0.818500</td>\n",
              "      <td>0.8185</td>\n",
              "    </tr>\n",
              "    <tr>\n",
              "      <th>macro avg</th>\n",
              "      <td>0.750200</td>\n",
              "      <td>0.592468</td>\n",
              "      <td>0.608367</td>\n",
              "      <td>2000.0000</td>\n",
              "    </tr>\n",
              "    <tr>\n",
              "      <th>weighted avg</th>\n",
              "      <td>0.796647</td>\n",
              "      <td>0.818500</td>\n",
              "      <td>0.778481</td>\n",
              "      <td>2000.0000</td>\n",
              "    </tr>\n",
              "  </tbody>\n",
              "</table>\n",
              "</div>"
            ],
            "text/plain": [
              "              precision    recall  f1-score    support\n",
              "Non-exited     0.828526  0.973635  0.895238  1593.0000\n",
              "exited         0.671875  0.211302  0.321495   407.0000\n",
              "accuracy       0.818500  0.818500  0.818500     0.8185\n",
              "macro avg      0.750200  0.592468  0.608367  2000.0000\n",
              "weighted avg   0.796647  0.818500  0.778481  2000.0000"
            ]
          },
          "execution_count": 33,
          "metadata": {},
          "output_type": "execute_result"
        }
      ],
      "source": [
        "model = LogisticRegression(random_state = 12345)\n",
        "model.fit(data_f_train, data_t_train)\n",
        "predictions_valid = model.predict(data_f_valid)\n",
        "\n",
        "report = classification_report(data_t_valid, predictions_valid, target_names = ['Non-exited', 'exited'], output_dict = True)\n",
        "report = pd.DataFrame(report).transpose()\n",
        "report"
      ]
    },
    {
      "cell_type": "code",
      "execution_count": null,
      "metadata": {
        "id": "6D8lDulreVCa",
        "outputId": "4cd884cf-e482-4eaf-822a-30f6c61d0e31"
      },
      "outputs": [
        {
          "name": "stdout",
          "output_type": "stream",
          "text": [
            "Площадь под кривой ROC: 0.7876\n"
          ]
        },
        {
          "data": {
            "image/png": "[encoded data removed]",
            "text/plain": [
              "<Figure size 720x720 with 1 Axes>"
            ]
          },
          "metadata": {
            "needs_background": "light"
          },
          "output_type": "display_data"
        }
      ],
      "source": [
        "roc_auc_fig(model)"
      ]
    },
    {
      "cell_type": "markdown",
      "metadata": {
        "id": "ukeoXjIqeVCa"
      },
      "source": [
        "**Вывод**\n",
        "\n",
        "* значения F1-меры меньше, чем 0.59 - 0.32\n",
        "* площадь под кривой ROC - 0.78\n",
        "\n",
        "Метрики качества не соответствуют необходимым."
      ]
    },
    {
      "cell_type": "markdown",
      "metadata": {
        "id": "aSKfGzIneVCa"
      },
      "source": [
        "Создадим таблицу и посмотрим значения метрик F1-меры:"
      ]
    },
    {
      "cell_type": "code",
      "execution_count": null,
      "metadata": {
        "id": "Cm9Gj1g5eVCa",
        "outputId": "4b53d66f-3ade-48db-8160-b773e068488e"
      },
      "outputs": [
        {
          "data": {
            "text/html": [
              "<div>\n",
              "<style scoped>\n",
              "    .dataframe tbody tr th:only-of-type {\n",
              "        vertical-align: middle;\n",
              "    }\n",
              "\n",
              "    .dataframe tbody tr th {\n",
              "        vertical-align: top;\n",
              "    }\n",
              "\n",
              "    .dataframe thead th {\n",
              "        text-align: right;\n",
              "    }\n",
              "</style>\n",
              "<table border=\"1\" class=\"dataframe\">\n",
              "  <thead>\n",
              "    <tr style=\"text-align: right;\">\n",
              "      <th></th>\n",
              "      <th>model</th>\n",
              "      <th>f1_score</th>\n",
              "    </tr>\n",
              "  </thead>\n",
              "  <tbody>\n",
              "    <tr>\n",
              "      <th>0</th>\n",
              "      <td>tree</td>\n",
              "      <td>0.581662</td>\n",
              "    </tr>\n",
              "    <tr>\n",
              "      <th>1</th>\n",
              "      <td>forest</td>\n",
              "      <td>0.562197</td>\n",
              "    </tr>\n",
              "    <tr>\n",
              "      <th>2</th>\n",
              "      <td>lgr</td>\n",
              "      <td>0.321495</td>\n",
              "    </tr>\n",
              "  </tbody>\n",
              "</table>\n",
              "</div>"
            ],
            "text/plain": [
              "    model  f1_score\n",
              "0    tree  0.581662\n",
              "1  forest  0.562197\n",
              "2     lgr  0.321495"
            ]
          },
          "execution_count": 35,
          "metadata": {},
          "output_type": "execute_result"
        }
      ],
      "source": [
        "f1_lgr = report.loc['exited', 'f1-score']\n",
        "f1_lgr\n",
        "\n",
        "models = ['tree', 'forest', 'lgr']\n",
        "f1_scores = [f1_best_t, f1_best_f, f1_lgr]\n",
        "\n",
        "best_param_model = pd.DataFrame({'model':models, 'f1_score':f1_scores})\n",
        "best_param_model"
      ]
    },
    {
      "cell_type": "code",
      "execution_count": null,
      "metadata": {
        "id": "tgMVitOieVCa",
        "outputId": "64645f6b-dd22-45fc-cc02-1d2b1990ffcc"
      },
      "outputs": [
        {
          "data": {
            "image/png": "[encoded data removed]",
            "text/plain": [
              "<Figure size 576x576 with 1 Axes>"
            ]
          },
          "metadata": {
            "needs_background": "light"
          },
          "output_type": "display_data"
        }
      ],
      "source": [
        "best_param_model.plot.bar(x='model', figsize=(8,8), rot=0, fontsize='large')\n",
        "plt.title('Сравнение F1-меры на тестовой выборке', fontsize='x-large')\n",
        "plt.xlabel('Модель', fontsize='x-large')\n",
        "plt.ylabel('F1-мера', fontsize='x-large')\n",
        "plt.show()"
      ]
    },
    {
      "cell_type": "markdown",
      "metadata": {
        "id": "yXpA6FsPeVCb"
      },
      "source": [
        "Самые лучшие значения метрик на несбалансированной выборке получились у модели случайного леса:\n",
        "\n",
        "* F1-мера - 0.56\n",
        "* Площадь под кривой ROC - 0.86\n",
        "\n",
        "Но значение F1-меры меньше, чем 0.59, соответсвенно, нужно провести борьбу с дисбалансом."
      ]
    },
    {
      "cell_type": "markdown",
      "metadata": {
        "id": "kXxTeCTPeVCb"
      },
      "source": [
        "## Борьба с дисбалансом"
      ]
    },
    {
      "cell_type": "markdown",
      "metadata": {
        "id": "5nLXI2dieVCb"
      },
      "source": [
        "Проведем борьбу с дисбалансом классов с помощью нескольких популярных способов:\n",
        "\n",
        "* Увеличение выборки\n",
        "* Уменьшение выборки\n",
        "* Взвешивание классов\n",
        "* Изменение порога классификации"
      ]
    },
    {
      "cell_type": "markdown",
      "metadata": {
        "id": "kTKMkzj-eVCb"
      },
      "source": [
        "### Взвешивание классов"
      ]
    },
    {
      "cell_type": "markdown",
      "metadata": {
        "id": "6oIDIyzFeVCb"
      },
      "source": [
        "#### Логистическая регрессия"
      ]
    },
    {
      "cell_type": "markdown",
      "metadata": {
        "id": "4-oH6sHieVCb"
      },
      "source": [
        "Проверим параметр class_weight на логистической регрессии:"
      ]
    },
    {
      "cell_type": "code",
      "execution_count": null,
      "metadata": {
        "id": "fTYaDzegeVCb",
        "outputId": "dff7ab2c-438a-4470-e057-8768e5a86b41"
      },
      "outputs": [
        {
          "data": {
            "text/html": [
              "<div>\n",
              "<style scoped>\n",
              "    .dataframe tbody tr th:only-of-type {\n",
              "        vertical-align: middle;\n",
              "    }\n",
              "\n",
              "    .dataframe tbody tr th {\n",
              "        vertical-align: top;\n",
              "    }\n",
              "\n",
              "    .dataframe thead th {\n",
              "        text-align: right;\n",
              "    }\n",
              "</style>\n",
              "<table border=\"1\" class=\"dataframe\">\n",
              "  <thead>\n",
              "    <tr style=\"text-align: right;\">\n",
              "      <th></th>\n",
              "      <th>precision</th>\n",
              "      <th>recall</th>\n",
              "      <th>f1-score</th>\n",
              "      <th>support</th>\n",
              "    </tr>\n",
              "  </thead>\n",
              "  <tbody>\n",
              "    <tr>\n",
              "      <th>Non-exited</th>\n",
              "      <td>0.910103</td>\n",
              "      <td>0.718142</td>\n",
              "      <td>0.802807</td>\n",
              "      <td>1593.000</td>\n",
              "    </tr>\n",
              "    <tr>\n",
              "      <th>exited</th>\n",
              "      <td>0.395693</td>\n",
              "      <td>0.722359</td>\n",
              "      <td>0.511304</td>\n",
              "      <td>407.000</td>\n",
              "    </tr>\n",
              "    <tr>\n",
              "      <th>accuracy</th>\n",
              "      <td>0.719000</td>\n",
              "      <td>0.719000</td>\n",
              "      <td>0.719000</td>\n",
              "      <td>0.719</td>\n",
              "    </tr>\n",
              "    <tr>\n",
              "      <th>macro avg</th>\n",
              "      <td>0.652898</td>\n",
              "      <td>0.720250</td>\n",
              "      <td>0.657056</td>\n",
              "      <td>2000.000</td>\n",
              "    </tr>\n",
              "    <tr>\n",
              "      <th>weighted avg</th>\n",
              "      <td>0.805421</td>\n",
              "      <td>0.719000</td>\n",
              "      <td>0.743486</td>\n",
              "      <td>2000.000</td>\n",
              "    </tr>\n",
              "  </tbody>\n",
              "</table>\n",
              "</div>"
            ],
            "text/plain": [
              "              precision    recall  f1-score   support\n",
              "Non-exited     0.910103  0.718142  0.802807  1593.000\n",
              "exited         0.395693  0.722359  0.511304   407.000\n",
              "accuracy       0.719000  0.719000  0.719000     0.719\n",
              "macro avg      0.652898  0.720250  0.657056  2000.000\n",
              "weighted avg   0.805421  0.719000  0.743486  2000.000"
            ]
          },
          "execution_count": 37,
          "metadata": {},
          "output_type": "execute_result"
        }
      ],
      "source": [
        "model = LogisticRegression(random_state=12345, solver='liblinear', class_weight='balanced')\n",
        "model.fit(data_f_train, data_t_train)\n",
        "predictions_valid = model.predict(data_f_valid)\n",
        "\n",
        "report = classification_report(data_t_valid, predictions_valid, target_names=['Non-exited', 'exited'], output_dict=True)\n",
        "report = pd.DataFrame(report).transpose()\n",
        "report"
      ]
    },
    {
      "cell_type": "code",
      "execution_count": null,
      "metadata": {
        "id": "psIZhUVaeVCc",
        "outputId": "af873c89-ed09-4c7e-f600-026365d63c4c"
      },
      "outputs": [
        {
          "name": "stdout",
          "output_type": "stream",
          "text": [
            "Площадь под кривой ROC: 0.7918\n"
          ]
        },
        {
          "data": {
            "image/png": "[encoded data removed]",
            "text/plain": [
              "<Figure size 720x720 with 1 Axes>"
            ]
          },
          "metadata": {
            "needs_background": "light"
          },
          "output_type": "display_data"
        }
      ],
      "source": [
        "roc_auc_fig(model)"
      ]
    },
    {
      "cell_type": "markdown",
      "metadata": {
        "id": "3t2wOCdseVCc"
      },
      "source": [
        "**Вывод**\n",
        "\n",
        "* значения F1-меры меньше, чем 0.59 - 0.51\n",
        "* площадь под кривой ROC - 0.79\n",
        "\n",
        "Метрики качества не соответстуют необходимым."
      ]
    },
    {
      "cell_type": "markdown",
      "metadata": {
        "id": "PEnoiuRaeVCc"
      },
      "source": [
        "#### Случайный лес"
      ]
    },
    {
      "cell_type": "code",
      "execution_count": null,
      "metadata": {
        "id": "3Br_cBsbeVCc",
        "outputId": "1d1fcd00-08f6-4ba3-826c-dfa8e643430a"
      },
      "outputs": [
        {
          "name": "stderr",
          "output_type": "stream",
          "text": [
            "100%|██████████| 5/5 [00:04<00:00,  1.08it/s]\n"
          ]
        }
      ],
      "source": [
        "best_depth_f = 0\n",
        "best_est_f = 0\n",
        "f1_best_f = 0\n",
        "\n",
        "for est in tqdm(range(1, 51, 10)):\n",
        "    for depth in range (2, 11):\n",
        "        model = RandomForestClassifier(random_state=12345, n_estimators=est, max_depth=depth, class_weight = 'balanced')\n",
        "        model.fit(data_f_train, data_t_train)\n",
        "        predictions_valid = model.predict(data_f_valid)\n",
        "        f1 = f1_score(data_t_valid, predictions_valid)\n",
        "        if f1 > f1_best_f:\n",
        "            best_depth_f = depth\n",
        "            best_est_f = est\n",
        "            f1_best_f = f1"
      ]
    },
    {
      "cell_type": "code",
      "execution_count": null,
      "metadata": {
        "id": "gYYzGT7ZeVCc",
        "outputId": "fe17dea8-3f76-40eb-cbdf-867b9e4463e0"
      },
      "outputs": [
        {
          "data": {
            "text/html": [
              "<div>\n",
              "<style scoped>\n",
              "    .dataframe tbody tr th:only-of-type {\n",
              "        vertical-align: middle;\n",
              "    }\n",
              "\n",
              "    .dataframe tbody tr th {\n",
              "        vertical-align: top;\n",
              "    }\n",
              "\n",
              "    .dataframe thead th {\n",
              "        text-align: right;\n",
              "    }\n",
              "</style>\n",
              "<table border=\"1\" class=\"dataframe\">\n",
              "  <thead>\n",
              "    <tr style=\"text-align: right;\">\n",
              "      <th></th>\n",
              "      <th>precision</th>\n",
              "      <th>recall</th>\n",
              "      <th>f1-score</th>\n",
              "      <th>support</th>\n",
              "    </tr>\n",
              "  </thead>\n",
              "  <tbody>\n",
              "    <tr>\n",
              "      <th>Non-exited</th>\n",
              "      <td>0.908286</td>\n",
              "      <td>0.901444</td>\n",
              "      <td>0.904852</td>\n",
              "      <td>1593.000</td>\n",
              "    </tr>\n",
              "    <tr>\n",
              "      <th>exited</th>\n",
              "      <td>0.625298</td>\n",
              "      <td>0.643735</td>\n",
              "      <td>0.634383</td>\n",
              "      <td>407.000</td>\n",
              "    </tr>\n",
              "    <tr>\n",
              "      <th>accuracy</th>\n",
              "      <td>0.849000</td>\n",
              "      <td>0.849000</td>\n",
              "      <td>0.849000</td>\n",
              "      <td>0.849</td>\n",
              "    </tr>\n",
              "    <tr>\n",
              "      <th>macro avg</th>\n",
              "      <td>0.766792</td>\n",
              "      <td>0.772589</td>\n",
              "      <td>0.769617</td>\n",
              "      <td>2000.000</td>\n",
              "    </tr>\n",
              "    <tr>\n",
              "      <th>weighted avg</th>\n",
              "      <td>0.850698</td>\n",
              "      <td>0.849000</td>\n",
              "      <td>0.849811</td>\n",
              "      <td>2000.000</td>\n",
              "    </tr>\n",
              "  </tbody>\n",
              "</table>\n",
              "</div>"
            ],
            "text/plain": [
              "              precision    recall  f1-score   support\n",
              "Non-exited     0.908286  0.901444  0.904852  1593.000\n",
              "exited         0.625298  0.643735  0.634383   407.000\n",
              "accuracy       0.849000  0.849000  0.849000     0.849\n",
              "macro avg      0.766792  0.772589  0.769617  2000.000\n",
              "weighted avg   0.850698  0.849000  0.849811  2000.000"
            ]
          },
          "execution_count": 40,
          "metadata": {},
          "output_type": "execute_result"
        }
      ],
      "source": [
        "model = RandomForestClassifier(random_state=12345,\n",
        "                               n_estimators=best_est_f,\n",
        "                               max_depth=best_depth_f,\n",
        "                              class_weight = 'balanced')\n",
        "model.fit(data_f_train, data_t_train)\n",
        "predictions_valid = model.predict(data_f_valid)\n",
        "report = classification_report(data_t_valid, predictions_valid, target_names=['Non-exited', 'exited'], output_dict=True)\n",
        "report = pd.DataFrame(report).transpose()\n",
        "report"
      ]
    },
    {
      "cell_type": "code",
      "execution_count": null,
      "metadata": {
        "id": "OIrvSIvleVCd",
        "outputId": "6e683756-4121-4c61-8530-eb5a52383d20"
      },
      "outputs": [
        {
          "name": "stdout",
          "output_type": "stream",
          "text": [
            "Площадь под кривой ROC: 0.8622\n"
          ]
        },
        {
          "data": {
            "image/png": "[encoded data removed]",
            "text/plain": [
              "<Figure size 720x720 with 1 Axes>"
            ]
          },
          "metadata": {
            "needs_background": "light"
          },
          "output_type": "display_data"
        }
      ],
      "source": [
        "roc_auc_fig(model)"
      ]
    },
    {
      "cell_type": "markdown",
      "metadata": {
        "id": "J3l7o9k8eVCd"
      },
      "source": [
        "**Вывод**\n",
        "\n",
        "* значения F1-меры больше, чем 0.59 - 0.63\n",
        "* площадь под кривой ROC - 0.86\n",
        "\n",
        "Метрики качества соответстуют необходимым."
      ]
    },
    {
      "cell_type": "markdown",
      "metadata": {
        "id": "Ew0eWIzqeVCd"
      },
      "source": [
        "#### Дерево решений"
      ]
    },
    {
      "cell_type": "code",
      "execution_count": null,
      "metadata": {
        "id": "luwbRK7OeVCd",
        "outputId": "d06e2b56-24c9-4045-aa4b-9db7d9b2409f"
      },
      "outputs": [
        {
          "name": "stderr",
          "output_type": "stream",
          "text": [
            "100%|██████████| 18/18 [00:00<00:00, 37.06it/s]\n"
          ]
        }
      ],
      "source": [
        "best_depth_t = 0\n",
        "f1_best_t = 0\n",
        "\n",
        "for depth in tqdm(range(2, 20)):\n",
        "    model = DecisionTreeClassifier(random_state = 12345, max_depth = depth, class_weight = 'balanced')\n",
        "    model.fit(data_f_train, data_t_train)\n",
        "    predictions_valid = model.predict(data_f_valid)\n",
        "    f1 = f1_score(data_t_valid, predictions_valid)\n",
        "    if f1 > f1_best_f:\n",
        "        best_depth_f = depth\n",
        "        f1_best_f = f1"
      ]
    },
    {
      "cell_type": "code",
      "execution_count": null,
      "metadata": {
        "id": "Yl9lik47eVCd",
        "outputId": "e9f92cc1-aa69-4ab1-ba40-24ffcb69a668"
      },
      "outputs": [
        {
          "data": {
            "text/html": [
              "<div>\n",
              "<style scoped>\n",
              "    .dataframe tbody tr th:only-of-type {\n",
              "        vertical-align: middle;\n",
              "    }\n",
              "\n",
              "    .dataframe tbody tr th {\n",
              "        vertical-align: top;\n",
              "    }\n",
              "\n",
              "    .dataframe thead th {\n",
              "        text-align: right;\n",
              "    }\n",
              "</style>\n",
              "<table border=\"1\" class=\"dataframe\">\n",
              "  <thead>\n",
              "    <tr style=\"text-align: right;\">\n",
              "      <th></th>\n",
              "      <th>precision</th>\n",
              "      <th>recall</th>\n",
              "      <th>f1-score</th>\n",
              "      <th>support</th>\n",
              "    </tr>\n",
              "  </thead>\n",
              "  <tbody>\n",
              "    <tr>\n",
              "      <th>Non-exited</th>\n",
              "      <td>0.901244</td>\n",
              "      <td>0.773384</td>\n",
              "      <td>0.832432</td>\n",
              "      <td>1593.000</td>\n",
              "    </tr>\n",
              "    <tr>\n",
              "      <th>exited</th>\n",
              "      <td>0.429700</td>\n",
              "      <td>0.668305</td>\n",
              "      <td>0.523077</td>\n",
              "      <td>407.000</td>\n",
              "    </tr>\n",
              "    <tr>\n",
              "      <th>accuracy</th>\n",
              "      <td>0.752000</td>\n",
              "      <td>0.752000</td>\n",
              "      <td>0.752000</td>\n",
              "      <td>0.752</td>\n",
              "    </tr>\n",
              "    <tr>\n",
              "      <th>macro avg</th>\n",
              "      <td>0.665472</td>\n",
              "      <td>0.720844</td>\n",
              "      <td>0.677755</td>\n",
              "      <td>2000.000</td>\n",
              "    </tr>\n",
              "    <tr>\n",
              "      <th>weighted avg</th>\n",
              "      <td>0.805284</td>\n",
              "      <td>0.752000</td>\n",
              "      <td>0.769479</td>\n",
              "      <td>2000.000</td>\n",
              "    </tr>\n",
              "  </tbody>\n",
              "</table>\n",
              "</div>"
            ],
            "text/plain": [
              "              precision    recall  f1-score   support\n",
              "Non-exited     0.901244  0.773384  0.832432  1593.000\n",
              "exited         0.429700  0.668305  0.523077   407.000\n",
              "accuracy       0.752000  0.752000  0.752000     0.752\n",
              "macro avg      0.665472  0.720844  0.677755  2000.000\n",
              "weighted avg   0.805284  0.752000  0.769479  2000.000"
            ]
          },
          "execution_count": 43,
          "metadata": {},
          "output_type": "execute_result"
        }
      ],
      "source": [
        "model = DecisionTreeClassifier(random_state = 12345, max_depth = best_depth_f, class_weight = 'balanced')\n",
        "model.fit(data_f_train, data_t_train)\n",
        "predictions_valid = model.predict(data_f_valid)\n",
        "report = classification_report(data_t_valid, predictions_valid, target_names=['Non-exited', 'exited'], output_dict=True)\n",
        "report = pd.DataFrame(report).transpose()\n",
        "report"
      ]
    },
    {
      "cell_type": "code",
      "execution_count": null,
      "metadata": {
        "id": "Kt1yMVDseVCd",
        "outputId": "0e0cc03f-7dfc-4d9b-922d-c67f32d35d10"
      },
      "outputs": [
        {
          "name": "stdout",
          "output_type": "stream",
          "text": [
            "Площадь под кривой ROC: 0.7408\n"
          ]
        },
        {
          "data": {
            "image/png": "[encoded data removed]",
            "text/plain": [
              "<Figure size 720x720 with 1 Axes>"
            ]
          },
          "metadata": {
            "needs_background": "light"
          },
          "output_type": "display_data"
        }
      ],
      "source": [
        "roc_auc_fig(model)"
      ]
    },
    {
      "cell_type": "markdown",
      "metadata": {
        "id": "KFOg_dgoeVCe"
      },
      "source": [
        "**Вывод**\n",
        "\n",
        "* F1-мера меньше, чем 0.59 - 0.52\n",
        "* Площадь под кривой ROC - 0.74\n",
        "\n",
        "Данные показатели не удовлетворяют."
      ]
    },
    {
      "cell_type": "markdown",
      "metadata": {
        "id": "_RfIAnbLeVCe"
      },
      "source": [
        "### Увеличение выборки"
      ]
    },
    {
      "cell_type": "markdown",
      "metadata": {
        "id": "PAc2yhSseVCe"
      },
      "source": [
        "Для улучшения качества модели увеличим обучающую выборку, обучим модель и проверим полученные метрики."
      ]
    },
    {
      "cell_type": "code",
      "execution_count": null,
      "metadata": {
        "id": "Tny1HUqheVCe"
      },
      "outputs": [],
      "source": [
        "#создадим функцию, которая увеличивает обучаю выборку и перемешивает ее\n",
        "\n",
        "def upsample(features, target, repeat):\n",
        "    features_zeros = features[target == 0]\n",
        "    features_ones = features[target == 1]\n",
        "    target_zeros = target[target == 0]\n",
        "    target_ones = target[target == 1]\n",
        "\n",
        "    features_upsampled = pd.concat([features_zeros] + [features_ones] * repeat)\n",
        "    target_upsampled = pd.concat([target_zeros] + [target_ones] * repeat)\n",
        "\n",
        "    features_upsampled, target_upsampled = shuffle(\n",
        "        features_upsampled, target_upsampled, random_state=12345)\n",
        "\n",
        "    return features_upsampled, target_upsampled"
      ]
    },
    {
      "cell_type": "markdown",
      "metadata": {
        "id": "qk4xQHtxeVCe"
      },
      "source": [
        "Увеличим выборку в 4 раза, так как 20% клиентов уходят из банка."
      ]
    },
    {
      "cell_type": "code",
      "execution_count": null,
      "metadata": {
        "id": "FDC0gX4IeVCe"
      },
      "outputs": [],
      "source": [
        "data_f_upsampled, data_t_upsampled = upsample(data_f_train, data_t_train, 4)"
      ]
    },
    {
      "cell_type": "markdown",
      "metadata": {
        "id": "HvezGKXleVCf"
      },
      "source": [
        "Проверим качество модели на увеличенной обучающей выборке:"
      ]
    },
    {
      "cell_type": "markdown",
      "metadata": {
        "id": "OkV8a4m2eVCf"
      },
      "source": [
        "#### Дерево решений"
      ]
    },
    {
      "cell_type": "code",
      "execution_count": null,
      "metadata": {
        "id": "abyI8oj-eVCf",
        "outputId": "616f0be9-b505-44e2-b1fa-6fe074c662a4"
      },
      "outputs": [
        {
          "name": "stderr",
          "output_type": "stream",
          "text": [
            "100%|██████████| 18/18 [00:00<00:00, 32.32it/s]\n"
          ]
        }
      ],
      "source": [
        "best_depth_t = 0\n",
        "f1_best_t = 0\n",
        "\n",
        "for depth in tqdm(range(2, 20)):\n",
        "    model = DecisionTreeClassifier(random_state = 12345, max_depth = depth)\n",
        "    model.fit(data_f_upsampled, data_t_upsampled)\n",
        "    predictions_valid = model.predict(data_f_valid)\n",
        "    f1 = f1_score(data_t_valid, predictions_valid)\n",
        "    if f1 > f1_best_t:\n",
        "        best_depth_t = depth\n",
        "        f1_best_t = f1"
      ]
    },
    {
      "cell_type": "code",
      "execution_count": null,
      "metadata": {
        "id": "eWTLIUZdeVCf",
        "outputId": "dea240ac-11f9-432e-a477-407100767855"
      },
      "outputs": [
        {
          "data": {
            "text/html": [
              "<div>\n",
              "<style scoped>\n",
              "    .dataframe tbody tr th:only-of-type {\n",
              "        vertical-align: middle;\n",
              "    }\n",
              "\n",
              "    .dataframe tbody tr th {\n",
              "        vertical-align: top;\n",
              "    }\n",
              "\n",
              "    .dataframe thead th {\n",
              "        text-align: right;\n",
              "    }\n",
              "</style>\n",
              "<table border=\"1\" class=\"dataframe\">\n",
              "  <thead>\n",
              "    <tr style=\"text-align: right;\">\n",
              "      <th></th>\n",
              "      <th>precision</th>\n",
              "      <th>recall</th>\n",
              "      <th>f1-score</th>\n",
              "      <th>support</th>\n",
              "    </tr>\n",
              "  </thead>\n",
              "  <tbody>\n",
              "    <tr>\n",
              "      <th>Non-exited</th>\n",
              "      <td>0.934109</td>\n",
              "      <td>0.756434</td>\n",
              "      <td>0.835935</td>\n",
              "      <td>1593.0000</td>\n",
              "    </tr>\n",
              "    <tr>\n",
              "      <th>exited</th>\n",
              "      <td>0.453521</td>\n",
              "      <td>0.791155</td>\n",
              "      <td>0.576544</td>\n",
              "      <td>407.0000</td>\n",
              "    </tr>\n",
              "    <tr>\n",
              "      <th>accuracy</th>\n",
              "      <td>0.763500</td>\n",
              "      <td>0.763500</td>\n",
              "      <td>0.763500</td>\n",
              "      <td>0.7635</td>\n",
              "    </tr>\n",
              "    <tr>\n",
              "      <th>macro avg</th>\n",
              "      <td>0.693815</td>\n",
              "      <td>0.773795</td>\n",
              "      <td>0.706240</td>\n",
              "      <td>2000.0000</td>\n",
              "    </tr>\n",
              "    <tr>\n",
              "      <th>weighted avg</th>\n",
              "      <td>0.836309</td>\n",
              "      <td>0.763500</td>\n",
              "      <td>0.783149</td>\n",
              "      <td>2000.0000</td>\n",
              "    </tr>\n",
              "  </tbody>\n",
              "</table>\n",
              "</div>"
            ],
            "text/plain": [
              "              precision    recall  f1-score    support\n",
              "Non-exited     0.934109  0.756434  0.835935  1593.0000\n",
              "exited         0.453521  0.791155  0.576544   407.0000\n",
              "accuracy       0.763500  0.763500  0.763500     0.7635\n",
              "macro avg      0.693815  0.773795  0.706240  2000.0000\n",
              "weighted avg   0.836309  0.763500  0.783149  2000.0000"
            ]
          },
          "execution_count": 48,
          "metadata": {},
          "output_type": "execute_result"
        }
      ],
      "source": [
        "model = DecisionTreeClassifier(random_state=12345,\n",
        "                               max_depth=best_depth_t)\n",
        "model.fit(data_f_upsampled, data_t_upsampled)\n",
        "predictions_valid = model.predict(data_f_valid)\n",
        "report = classification_report(data_t_valid, predictions_valid, target_names=['Non-exited', 'exited'], output_dict=True)\n",
        "report = pd.DataFrame(report).transpose()\n",
        "report"
      ]
    },
    {
      "cell_type": "code",
      "execution_count": null,
      "metadata": {
        "id": "L5xzMSTueVCf",
        "outputId": "c0b8b469-2cd3-4ec6-e2a8-b03f737e2356"
      },
      "outputs": [
        {
          "name": "stdout",
          "output_type": "stream",
          "text": [
            "Площадь под кривой ROC: 0.8364\n"
          ]
        },
        {
          "data": {
            "image/png": "[encoded data removed]",
            "text/plain": [
              "<Figure size 720x720 with 1 Axes>"
            ]
          },
          "metadata": {
            "needs_background": "light"
          },
          "output_type": "display_data"
        }
      ],
      "source": [
        "roc_auc_fig(model)"
      ]
    },
    {
      "cell_type": "markdown",
      "metadata": {
        "id": "wBBak3BFeVCf"
      },
      "source": [
        "**Вывод**\n",
        "\n",
        "* F1-мера меньше, чем 0.59 - 0.57\n",
        "* площадь под кривой ROC - 0.83\n",
        "\n",
        "Все также не подходит."
      ]
    },
    {
      "cell_type": "markdown",
      "metadata": {
        "id": "Dcu1y-F8eVCg"
      },
      "source": [
        "#### Случайный лес"
      ]
    },
    {
      "cell_type": "code",
      "execution_count": null,
      "metadata": {
        "id": "ujLdiNrueVCg",
        "outputId": "6a6f14cf-3fb6-4c8a-9f79-a9f35d67e347"
      },
      "outputs": [
        {
          "name": "stderr",
          "output_type": "stream",
          "text": [
            "100%|██████████| 5/5 [00:08<00:00,  1.71s/it]\n"
          ]
        }
      ],
      "source": [
        "best_depth_f = 0\n",
        "best_est_f = 0\n",
        "f1_best_f = 0\n",
        "\n",
        "for est in tqdm(range(10, 51, 10)):\n",
        "    for depth in range (2, 11):\n",
        "        model = RandomForestClassifier(random_state=12345, n_estimators=est, max_depth=depth)\n",
        "        model.fit(data_f_upsampled, data_t_upsampled)\n",
        "        predictions_valid = model.predict(data_f_valid)\n",
        "        f1 = f1_score(data_t_valid, predictions_valid)\n",
        "        if f1 > f1_best_f:\n",
        "            best_depth_f = depth\n",
        "            best_est_f = est\n",
        "            f1_best_f = f1"
      ]
    },
    {
      "cell_type": "code",
      "execution_count": null,
      "metadata": {
        "id": "7jEtb4ZFeVCg",
        "outputId": "38493b44-d51b-4147-a5f8-6ca8fcee7b40"
      },
      "outputs": [
        {
          "data": {
            "text/html": [
              "<div>\n",
              "<style scoped>\n",
              "    .dataframe tbody tr th:only-of-type {\n",
              "        vertical-align: middle;\n",
              "    }\n",
              "\n",
              "    .dataframe tbody tr th {\n",
              "        vertical-align: top;\n",
              "    }\n",
              "\n",
              "    .dataframe thead th {\n",
              "        text-align: right;\n",
              "    }\n",
              "</style>\n",
              "<table border=\"1\" class=\"dataframe\">\n",
              "  <thead>\n",
              "    <tr style=\"text-align: right;\">\n",
              "      <th></th>\n",
              "      <th>precision</th>\n",
              "      <th>recall</th>\n",
              "      <th>f1-score</th>\n",
              "      <th>support</th>\n",
              "    </tr>\n",
              "  </thead>\n",
              "  <tbody>\n",
              "    <tr>\n",
              "      <th>Non-exited</th>\n",
              "      <td>0.927148</td>\n",
              "      <td>0.846830</td>\n",
              "      <td>0.885171</td>\n",
              "      <td>1593.000</td>\n",
              "    </tr>\n",
              "    <tr>\n",
              "      <th>exited</th>\n",
              "      <td>0.552294</td>\n",
              "      <td>0.739558</td>\n",
              "      <td>0.632353</td>\n",
              "      <td>407.000</td>\n",
              "    </tr>\n",
              "    <tr>\n",
              "      <th>accuracy</th>\n",
              "      <td>0.825000</td>\n",
              "      <td>0.825000</td>\n",
              "      <td>0.825000</td>\n",
              "      <td>0.825</td>\n",
              "    </tr>\n",
              "    <tr>\n",
              "      <th>macro avg</th>\n",
              "      <td>0.739721</td>\n",
              "      <td>0.793194</td>\n",
              "      <td>0.758762</td>\n",
              "      <td>2000.000</td>\n",
              "    </tr>\n",
              "    <tr>\n",
              "      <th>weighted avg</th>\n",
              "      <td>0.850865</td>\n",
              "      <td>0.825000</td>\n",
              "      <td>0.833722</td>\n",
              "      <td>2000.000</td>\n",
              "    </tr>\n",
              "  </tbody>\n",
              "</table>\n",
              "</div>"
            ],
            "text/plain": [
              "              precision    recall  f1-score   support\n",
              "Non-exited     0.927148  0.846830  0.885171  1593.000\n",
              "exited         0.552294  0.739558  0.632353   407.000\n",
              "accuracy       0.825000  0.825000  0.825000     0.825\n",
              "macro avg      0.739721  0.793194  0.758762  2000.000\n",
              "weighted avg   0.850865  0.825000  0.833722  2000.000"
            ]
          },
          "execution_count": 51,
          "metadata": {},
          "output_type": "execute_result"
        }
      ],
      "source": [
        "model = RandomForestClassifier(random_state=12345,\n",
        "                               n_estimators=best_est_f,\n",
        "                               max_depth=best_depth_f)\n",
        "model.fit(data_f_upsampled, data_t_upsampled)\n",
        "predictions_valid = model.predict(data_f_valid)\n",
        "report = classification_report(data_t_valid, predictions_valid, target_names=['Non-exited', 'exited'], output_dict=True)\n",
        "report = pd.DataFrame(report).transpose()\n",
        "report"
      ]
    },
    {
      "cell_type": "code",
      "execution_count": null,
      "metadata": {
        "id": "vLEx5MlkeVCg",
        "outputId": "287cc376-24e0-4b39-dfbf-24f8423875cb"
      },
      "outputs": [
        {
          "name": "stdout",
          "output_type": "stream",
          "text": [
            "Площадь под кривой ROC: 0.8679\n"
          ]
        },
        {
          "data": {
            "image/png": "[encoded data removed]",
            "text/plain": [
              "<Figure size 720x720 with 1 Axes>"
            ]
          },
          "metadata": {
            "needs_background": "light"
          },
          "output_type": "display_data"
        }
      ],
      "source": [
        "roc_auc_fig(model)"
      ]
    },
    {
      "cell_type": "markdown",
      "metadata": {
        "id": "fT3Fz3QheVCg"
      },
      "source": [
        "**Вывод**\n",
        "\n",
        "* F1-мера больше, чем 0.59 - 0.63\n",
        "* площадь под кривой ROC - 0.86\n",
        "\n",
        "Метрики качества теперь соответствуют необходимымЮ следовательно, такую модель можно использовать дальше."
      ]
    },
    {
      "cell_type": "markdown",
      "metadata": {
        "id": "O0b3mE1VeVCg"
      },
      "source": [
        "#### Логистическая регрессия"
      ]
    },
    {
      "cell_type": "code",
      "execution_count": null,
      "metadata": {
        "id": "tyVS59pteVCg",
        "outputId": "ca6263a0-898c-4614-9c11-209c7d405e16"
      },
      "outputs": [
        {
          "data": {
            "text/html": [
              "<div>\n",
              "<style scoped>\n",
              "    .dataframe tbody tr th:only-of-type {\n",
              "        vertical-align: middle;\n",
              "    }\n",
              "\n",
              "    .dataframe tbody tr th {\n",
              "        vertical-align: top;\n",
              "    }\n",
              "\n",
              "    .dataframe thead th {\n",
              "        text-align: right;\n",
              "    }\n",
              "</style>\n",
              "<table border=\"1\" class=\"dataframe\">\n",
              "  <thead>\n",
              "    <tr style=\"text-align: right;\">\n",
              "      <th></th>\n",
              "      <th>precision</th>\n",
              "      <th>recall</th>\n",
              "      <th>f1-score</th>\n",
              "      <th>support</th>\n",
              "    </tr>\n",
              "  </thead>\n",
              "  <tbody>\n",
              "    <tr>\n",
              "      <th>Non-exited</th>\n",
              "      <td>0.910484</td>\n",
              "      <td>0.708726</td>\n",
              "      <td>0.797035</td>\n",
              "      <td>1593.0000</td>\n",
              "    </tr>\n",
              "    <tr>\n",
              "      <th>exited</th>\n",
              "      <td>0.389474</td>\n",
              "      <td>0.727273</td>\n",
              "      <td>0.507284</td>\n",
              "      <td>407.0000</td>\n",
              "    </tr>\n",
              "    <tr>\n",
              "      <th>accuracy</th>\n",
              "      <td>0.712500</td>\n",
              "      <td>0.712500</td>\n",
              "      <td>0.712500</td>\n",
              "      <td>0.7125</td>\n",
              "    </tr>\n",
              "    <tr>\n",
              "      <th>macro avg</th>\n",
              "      <td>0.649979</td>\n",
              "      <td>0.717999</td>\n",
              "      <td>0.652159</td>\n",
              "      <td>2000.0000</td>\n",
              "    </tr>\n",
              "    <tr>\n",
              "      <th>weighted avg</th>\n",
              "      <td>0.804458</td>\n",
              "      <td>0.712500</td>\n",
              "      <td>0.738071</td>\n",
              "      <td>2000.0000</td>\n",
              "    </tr>\n",
              "  </tbody>\n",
              "</table>\n",
              "</div>"
            ],
            "text/plain": [
              "              precision    recall  f1-score    support\n",
              "Non-exited     0.910484  0.708726  0.797035  1593.0000\n",
              "exited         0.389474  0.727273  0.507284   407.0000\n",
              "accuracy       0.712500  0.712500  0.712500     0.7125\n",
              "macro avg      0.649979  0.717999  0.652159  2000.0000\n",
              "weighted avg   0.804458  0.712500  0.738071  2000.0000"
            ]
          },
          "execution_count": 53,
          "metadata": {},
          "output_type": "execute_result"
        }
      ],
      "source": [
        "model = LogisticRegression(random_state=12345)\n",
        "model.fit(data_f_upsampled, data_t_upsampled)\n",
        "predictions_valid = model.predict(data_f_valid)\n",
        "\n",
        "report = classification_report(data_t_valid, predictions_valid, target_names=['Non-exited', 'exited'], output_dict=True)\n",
        "report = pd.DataFrame(report).transpose()\n",
        "report"
      ]
    },
    {
      "cell_type": "code",
      "execution_count": null,
      "metadata": {
        "id": "lRW5JrfYeVCh",
        "outputId": "1951813c-45b3-4731-e2bd-7c81e5760684"
      },
      "outputs": [
        {
          "name": "stdout",
          "output_type": "stream",
          "text": [
            "Площадь под кривой ROC: 0.7919\n"
          ]
        },
        {
          "data": {
            "image/png": "[encoded data removed]",
            "text/plain": [
              "<Figure size 720x720 with 1 Axes>"
            ]
          },
          "metadata": {
            "needs_background": "light"
          },
          "output_type": "display_data"
        }
      ],
      "source": [
        "roc_auc_fig(model)"
      ]
    },
    {
      "cell_type": "markdown",
      "metadata": {
        "id": "AwgnqjvxeVCh"
      },
      "source": [
        "**Вывод**\n",
        "\n",
        "* Значения F1-меры меньше, чем 0.59 - 0.50\n",
        "* Площадь под кривой ROC - 0.79\n",
        "\n",
        "Метрики качества не соответствуют необходимым."
      ]
    },
    {
      "cell_type": "markdown",
      "metadata": {
        "id": "q6MKX2_CeVCh"
      },
      "source": [
        "По двум мделям необходимое качество модели не достигнуто. Только случайный лес после увеличения выборки смог достичь необходимых значений F1-меры. Проверим следующие способы борьбы с несбалансированными классами."
      ]
    },
    {
      "cell_type": "markdown",
      "metadata": {
        "id": "0jmtRGWReVCh"
      },
      "source": [
        "### Уменьшение выборки"
      ]
    },
    {
      "cell_type": "markdown",
      "metadata": {
        "id": "eqj0K3EAeVCi"
      },
      "source": [
        "<br/>\n",
        "<div class=\"alert alert-info\">\n",
        "Да, верно) Поправил\n",
        "</div>"
      ]
    },
    {
      "cell_type": "markdown",
      "metadata": {
        "id": "LGqPrwKpeVCi"
      },
      "source": [
        "Для улучшения качества модели уменьшим обучающую выборку, обучим модель и проверим полученные метрики."
      ]
    },
    {
      "cell_type": "code",
      "execution_count": null,
      "metadata": {
        "id": "FXgiF58SeVCi"
      },
      "outputs": [],
      "source": [
        "# Создаём функцию, которая уменьшает обучающую выборку и перемешивает ее\n",
        "\n",
        "def downsample(features, target, fraction):\n",
        "    features_zeros = features[target == 0]\n",
        "    features_ones = features[target == 1]\n",
        "    target_zeros = target[target == 0]\n",
        "    target_ones = target[target == 1]\n",
        "\n",
        "    features_downsampled = pd.concat(\n",
        "        [features_zeros.sample(frac=fraction, random_state=12345)] + [features_ones])\n",
        "    target_downsampled = pd.concat(\n",
        "        [target_zeros.sample(frac=fraction, random_state=12345)] + [target_ones])\n",
        "\n",
        "    features_downsampled, target_downsampled = shuffle(\n",
        "        features_downsampled, target_downsampled, random_state=12345)\n",
        "\n",
        "    return features_downsampled, target_downsampled"
      ]
    },
    {
      "cell_type": "markdown",
      "metadata": {
        "id": "XQoXzyrAeVCi"
      },
      "source": [
        "Уменьшим выборку в 4 раза, так как 20% клиентов уходят из банка:"
      ]
    },
    {
      "cell_type": "code",
      "execution_count": null,
      "metadata": {
        "id": "blPLfQdceVCi"
      },
      "outputs": [],
      "source": [
        "data_f_downsampled, data_t_downsampled = downsample(data_f_train, data_t_train, 0.25)"
      ]
    },
    {
      "cell_type": "markdown",
      "metadata": {
        "id": "HaqTqIiTeVCi"
      },
      "source": [
        "#### Дерево решений"
      ]
    },
    {
      "cell_type": "code",
      "execution_count": null,
      "metadata": {
        "id": "h9NSYYeWeVCi",
        "outputId": "ee535bee-d68f-4b2a-ccb0-332064f3d2c3"
      },
      "outputs": [
        {
          "name": "stderr",
          "output_type": "stream",
          "text": [
            "100%|██████████| 18/18 [00:00<00:00, 81.25it/s]\n"
          ]
        }
      ],
      "source": [
        "best_depth_t = 0\n",
        "f1_best_t = 0\n",
        "\n",
        "for depth in tqdm(range(2, 20)):\n",
        "    model = DecisionTreeClassifier(random_state=12345, max_depth=depth)\n",
        "    model.fit(data_f_downsampled, data_t_downsampled)\n",
        "    predictions_valid = model.predict(data_f_valid)\n",
        "    f1 = f1_score(data_t_valid, predictions_valid)\n",
        "    if f1 > f1_best_t:\n",
        "        best_depth_t = depth\n",
        "        f1_best_t = f1"
      ]
    },
    {
      "cell_type": "code",
      "execution_count": null,
      "metadata": {
        "id": "mT0-z4E0eVCi",
        "outputId": "05464595-0157-432b-ad8f-c1f42ee0db2e"
      },
      "outputs": [
        {
          "data": {
            "text/html": [
              "<div>\n",
              "<style scoped>\n",
              "    .dataframe tbody tr th:only-of-type {\n",
              "        vertical-align: middle;\n",
              "    }\n",
              "\n",
              "    .dataframe tbody tr th {\n",
              "        vertical-align: top;\n",
              "    }\n",
              "\n",
              "    .dataframe thead th {\n",
              "        text-align: right;\n",
              "    }\n",
              "</style>\n",
              "<table border=\"1\" class=\"dataframe\">\n",
              "  <thead>\n",
              "    <tr style=\"text-align: right;\">\n",
              "      <th></th>\n",
              "      <th>precision</th>\n",
              "      <th>recall</th>\n",
              "      <th>f1-score</th>\n",
              "      <th>support</th>\n",
              "    </tr>\n",
              "  </thead>\n",
              "  <tbody>\n",
              "    <tr>\n",
              "      <th>Non-exited</th>\n",
              "      <td>0.920198</td>\n",
              "      <td>0.817954</td>\n",
              "      <td>0.866068</td>\n",
              "      <td>1593.0000</td>\n",
              "    </tr>\n",
              "    <tr>\n",
              "      <th>exited</th>\n",
              "      <td>0.503425</td>\n",
              "      <td>0.722359</td>\n",
              "      <td>0.593340</td>\n",
              "      <td>407.0000</td>\n",
              "    </tr>\n",
              "    <tr>\n",
              "      <th>accuracy</th>\n",
              "      <td>0.798500</td>\n",
              "      <td>0.798500</td>\n",
              "      <td>0.798500</td>\n",
              "      <td>0.7985</td>\n",
              "    </tr>\n",
              "    <tr>\n",
              "      <th>macro avg</th>\n",
              "      <td>0.711811</td>\n",
              "      <td>0.770156</td>\n",
              "      <td>0.729704</td>\n",
              "      <td>2000.0000</td>\n",
              "    </tr>\n",
              "    <tr>\n",
              "      <th>weighted avg</th>\n",
              "      <td>0.835384</td>\n",
              "      <td>0.798500</td>\n",
              "      <td>0.810568</td>\n",
              "      <td>2000.0000</td>\n",
              "    </tr>\n",
              "  </tbody>\n",
              "</table>\n",
              "</div>"
            ],
            "text/plain": [
              "              precision    recall  f1-score    support\n",
              "Non-exited     0.920198  0.817954  0.866068  1593.0000\n",
              "exited         0.503425  0.722359  0.593340   407.0000\n",
              "accuracy       0.798500  0.798500  0.798500     0.7985\n",
              "macro avg      0.711811  0.770156  0.729704  2000.0000\n",
              "weighted avg   0.835384  0.798500  0.810568  2000.0000"
            ]
          },
          "execution_count": 58,
          "metadata": {},
          "output_type": "execute_result"
        }
      ],
      "source": [
        "model = DecisionTreeClassifier(random_state=12345,\n",
        "                               max_depth=best_depth_t)\n",
        "model.fit(data_f_downsampled, data_t_downsampled)\n",
        "predictions_valid = model.predict(data_f_valid)\n",
        "report = classification_report(data_t_valid, predictions_valid, target_names=['Non-exited', 'exited'], output_dict=True)\n",
        "report = pd.DataFrame(report).transpose()\n",
        "report"
      ]
    },
    {
      "cell_type": "code",
      "execution_count": null,
      "metadata": {
        "id": "g57WzECOeVCj",
        "outputId": "5b8feb31-5f57-467f-e48b-98f087ce9754"
      },
      "outputs": [
        {
          "name": "stdout",
          "output_type": "stream",
          "text": [
            "Площадь под кривой ROC: 0.8435\n"
          ]
        },
        {
          "data": {
            "image/png": "[encoded data removed]",
            "text/plain": [
              "<Figure size 720x720 with 1 Axes>"
            ]
          },
          "metadata": {
            "needs_background": "light"
          },
          "output_type": "display_data"
        }
      ],
      "source": [
        "roc_auc_fig(model)"
      ]
    },
    {
      "cell_type": "markdown",
      "metadata": {
        "id": "mfjEgshreVCj"
      },
      "source": [
        "**Вывод**\n",
        "\n",
        "* Значения F1-меры чуть больше, чем 0.59 - 0.593\n",
        "* Площадь под кривой ROC - 0.84\n",
        "\n",
        "Метрики качества соответствуют необходим, но метрики увеличились незначительно."
      ]
    },
    {
      "cell_type": "markdown",
      "metadata": {
        "id": "XlhZw_SVeVCj"
      },
      "source": [
        "#### Случайный лес"
      ]
    },
    {
      "cell_type": "code",
      "execution_count": null,
      "metadata": {
        "id": "uhBTKVRTeVCj",
        "outputId": "9c4341b2-1ba8-49a7-8c58-82ffa6b4bb6d"
      },
      "outputs": [
        {
          "name": "stderr",
          "output_type": "stream",
          "text": [
            "100%|██████████| 5/5 [00:03<00:00,  1.27it/s]\n"
          ]
        }
      ],
      "source": [
        "best_depth_f = 0\n",
        "best_est_f = 0\n",
        "f1_best_f = 0\n",
        "\n",
        "for est in tqdm(range(10, 51, 10)):\n",
        "    for depth in range (2, 11):\n",
        "        model = RandomForestClassifier(random_state=12345, n_estimators=est, max_depth=depth)\n",
        "        model.fit(data_f_downsampled, data_t_downsampled)\n",
        "        predictions_valid = model.predict(data_f_valid)\n",
        "        f1 = f1_score(data_t_valid, predictions_valid)\n",
        "        if f1 > f1_best_f:\n",
        "            best_depth_f = depth\n",
        "            best_est_f = est\n",
        "            f1_best_f = f1"
      ]
    },
    {
      "cell_type": "code",
      "execution_count": null,
      "metadata": {
        "id": "17mJK6FueVCj",
        "outputId": "1e5d4a35-e0c9-409d-deee-628d20fe0fbb"
      },
      "outputs": [
        {
          "data": {
            "text/html": [
              "<div>\n",
              "<style scoped>\n",
              "    .dataframe tbody tr th:only-of-type {\n",
              "        vertical-align: middle;\n",
              "    }\n",
              "\n",
              "    .dataframe tbody tr th {\n",
              "        vertical-align: top;\n",
              "    }\n",
              "\n",
              "    .dataframe thead th {\n",
              "        text-align: right;\n",
              "    }\n",
              "</style>\n",
              "<table border=\"1\" class=\"dataframe\">\n",
              "  <thead>\n",
              "    <tr style=\"text-align: right;\">\n",
              "      <th></th>\n",
              "      <th>precision</th>\n",
              "      <th>recall</th>\n",
              "      <th>f1-score</th>\n",
              "      <th>support</th>\n",
              "    </tr>\n",
              "  </thead>\n",
              "  <tbody>\n",
              "    <tr>\n",
              "      <th>Non-exited</th>\n",
              "      <td>0.931408</td>\n",
              "      <td>0.809793</td>\n",
              "      <td>0.866353</td>\n",
              "      <td>1593.000</td>\n",
              "    </tr>\n",
              "    <tr>\n",
              "      <th>exited</th>\n",
              "      <td>0.507317</td>\n",
              "      <td>0.766585</td>\n",
              "      <td>0.610568</td>\n",
              "      <td>407.000</td>\n",
              "    </tr>\n",
              "    <tr>\n",
              "      <th>accuracy</th>\n",
              "      <td>0.801000</td>\n",
              "      <td>0.801000</td>\n",
              "      <td>0.801000</td>\n",
              "      <td>0.801</td>\n",
              "    </tr>\n",
              "    <tr>\n",
              "      <th>macro avg</th>\n",
              "      <td>0.719363</td>\n",
              "      <td>0.788189</td>\n",
              "      <td>0.738460</td>\n",
              "      <td>2000.000</td>\n",
              "    </tr>\n",
              "    <tr>\n",
              "      <th>weighted avg</th>\n",
              "      <td>0.845105</td>\n",
              "      <td>0.801000</td>\n",
              "      <td>0.814301</td>\n",
              "      <td>2000.000</td>\n",
              "    </tr>\n",
              "  </tbody>\n",
              "</table>\n",
              "</div>"
            ],
            "text/plain": [
              "              precision    recall  f1-score   support\n",
              "Non-exited     0.931408  0.809793  0.866353  1593.000\n",
              "exited         0.507317  0.766585  0.610568   407.000\n",
              "accuracy       0.801000  0.801000  0.801000     0.801\n",
              "macro avg      0.719363  0.788189  0.738460  2000.000\n",
              "weighted avg   0.845105  0.801000  0.814301  2000.000"
            ]
          },
          "execution_count": 61,
          "metadata": {},
          "output_type": "execute_result"
        }
      ],
      "source": [
        "model = RandomForestClassifier(random_state=12345,\n",
        "                               n_estimators=best_est_f,\n",
        "                               max_depth=best_depth_f)\n",
        "model.fit(data_f_downsampled, data_t_downsampled)\n",
        "predictions_valid = model.predict(data_f_valid)\n",
        "report = classification_report(data_t_valid, predictions_valid, target_names=['Non-exited', 'exited'], output_dict=True)\n",
        "report = pd.DataFrame(report).transpose()\n",
        "report"
      ]
    },
    {
      "cell_type": "code",
      "execution_count": null,
      "metadata": {
        "id": "EQlzA7ideVCj",
        "outputId": "d8f9f556-ea3f-4149-f9c3-60479255669b"
      },
      "outputs": [
        {
          "name": "stdout",
          "output_type": "stream",
          "text": [
            "Площадь под кривой ROC: 0.8722\n"
          ]
        },
        {
          "data": {
            "image/png": "[encoded data removed]",
            "text/plain": [
              "<Figure size 720x720 with 1 Axes>"
            ]
          },
          "metadata": {
            "needs_background": "light"
          },
          "output_type": "display_data"
        }
      ],
      "source": [
        "roc_auc_fig(model)"
      ]
    },
    {
      "cell_type": "markdown",
      "metadata": {
        "id": "-2bNpJgieVCk"
      },
      "source": [
        "**Вывод**\n",
        "\n",
        "* значения F1-меры больше, чем 0.59 - 0.61\n",
        "* площадь под кривой ROC - 0.87\n",
        "\n",
        "Метрики качеста соответствуют необходимым, следовательно такой способ можно использовать для увеличения качества модели."
      ]
    },
    {
      "cell_type": "markdown",
      "metadata": {
        "id": "I51399CCeVCk"
      },
      "source": [
        "#### Логистическая регрессия"
      ]
    },
    {
      "cell_type": "code",
      "execution_count": null,
      "metadata": {
        "id": "ZGwnCMuzeVCk",
        "outputId": "c3cef593-b454-4280-ed09-e13e9b138a3c"
      },
      "outputs": [
        {
          "data": {
            "text/html": [
              "<div>\n",
              "<style scoped>\n",
              "    .dataframe tbody tr th:only-of-type {\n",
              "        vertical-align: middle;\n",
              "    }\n",
              "\n",
              "    .dataframe tbody tr th {\n",
              "        vertical-align: top;\n",
              "    }\n",
              "\n",
              "    .dataframe thead th {\n",
              "        text-align: right;\n",
              "    }\n",
              "</style>\n",
              "<table border=\"1\" class=\"dataframe\">\n",
              "  <thead>\n",
              "    <tr style=\"text-align: right;\">\n",
              "      <th></th>\n",
              "      <th>precision</th>\n",
              "      <th>recall</th>\n",
              "      <th>f1-score</th>\n",
              "      <th>support</th>\n",
              "    </tr>\n",
              "  </thead>\n",
              "  <tbody>\n",
              "    <tr>\n",
              "      <th>Non-exited</th>\n",
              "      <td>0.908944</td>\n",
              "      <td>0.708098</td>\n",
              "      <td>0.796048</td>\n",
              "      <td>1593.000</td>\n",
              "    </tr>\n",
              "    <tr>\n",
              "      <th>exited</th>\n",
              "      <td>0.387352</td>\n",
              "      <td>0.722359</td>\n",
              "      <td>0.504288</td>\n",
              "      <td>407.000</td>\n",
              "    </tr>\n",
              "    <tr>\n",
              "      <th>accuracy</th>\n",
              "      <td>0.711000</td>\n",
              "      <td>0.711000</td>\n",
              "      <td>0.711000</td>\n",
              "      <td>0.711</td>\n",
              "    </tr>\n",
              "    <tr>\n",
              "      <th>macro avg</th>\n",
              "      <td>0.648148</td>\n",
              "      <td>0.715228</td>\n",
              "      <td>0.650168</td>\n",
              "      <td>2000.000</td>\n",
              "    </tr>\n",
              "    <tr>\n",
              "      <th>weighted avg</th>\n",
              "      <td>0.802800</td>\n",
              "      <td>0.711000</td>\n",
              "      <td>0.736675</td>\n",
              "      <td>2000.000</td>\n",
              "    </tr>\n",
              "  </tbody>\n",
              "</table>\n",
              "</div>"
            ],
            "text/plain": [
              "              precision    recall  f1-score   support\n",
              "Non-exited     0.908944  0.708098  0.796048  1593.000\n",
              "exited         0.387352  0.722359  0.504288   407.000\n",
              "accuracy       0.711000  0.711000  0.711000     0.711\n",
              "macro avg      0.648148  0.715228  0.650168  2000.000\n",
              "weighted avg   0.802800  0.711000  0.736675  2000.000"
            ]
          },
          "execution_count": 63,
          "metadata": {},
          "output_type": "execute_result"
        }
      ],
      "source": [
        "model = LogisticRegression(random_state=12345)\n",
        "model.fit(data_f_downsampled, data_t_downsampled)\n",
        "predictions_valid = model.predict(data_f_valid)\n",
        "\n",
        "report = classification_report(data_t_valid, predictions_valid, target_names=['Non-exited', 'exited'], output_dict=True)\n",
        "report = pd.DataFrame(report).transpose()\n",
        "report"
      ]
    },
    {
      "cell_type": "code",
      "execution_count": null,
      "metadata": {
        "id": "44vRGPZpeVCk",
        "outputId": "5a1c2e1f-0fa4-46b2-e425-f623deb7b12d"
      },
      "outputs": [
        {
          "name": "stdout",
          "output_type": "stream",
          "text": [
            "Площадь под кривой ROC: 0.7913\n"
          ]
        },
        {
          "data": {
            "image/png": "[encoded data removed]",
            "text/plain": [
              "<Figure size 720x720 with 1 Axes>"
            ]
          },
          "metadata": {
            "needs_background": "light"
          },
          "output_type": "display_data"
        }
      ],
      "source": [
        "roc_auc_fig(model)"
      ]
    },
    {
      "cell_type": "markdown",
      "metadata": {
        "id": "0xQSEyv6eVCk"
      },
      "source": [
        "**Вывод**\n",
        "\n",
        "* F1 меньше, чем 0.59 - 0.5\n",
        "* площадь под кривой ROC - 0.79\n",
        "\n",
        "Метрики качеста не соответствуют необходимым."
      ]
    },
    {
      "cell_type": "markdown",
      "metadata": {
        "id": "uHTfyFqAeVCk"
      },
      "source": [
        "По одной модели машинного обучения необходимое качество модели не достигнуто.\n",
        "\n",
        "Модель дерева решений и случайного леса смогли достичь метрики F1-меры до необходимых значений, причем модель случайного леса показала большее значение. Проверим другие способы борьбы"
      ]
    },
    {
      "cell_type": "markdown",
      "metadata": {
        "id": "nmeGrqmieVCl"
      },
      "source": [
        "### Изменение порога"
      ]
    },
    {
      "cell_type": "markdown",
      "metadata": {
        "id": "rzfkoafreVCl"
      },
      "source": [
        "Чтобы определить ответ, модель вычисляет, к какому классу близок объект, затем сравнивает результат с нулём. Для удобства близость к классам переведём в вероятность классов: модель пытается оценить, насколько вероятен тот или иной класс. У нас всего два класса (ноль и единица). Нам достаточно вероятности класса «1». Число будет от нуля до единицы: если больше 0.5 — объект положительный, меньше — отрицательный.\n",
        "\n",
        "Поменяем значения вероятности класса и проверим, как это повлияет на метрики качества моделей."
      ]
    },
    {
      "cell_type": "markdown",
      "metadata": {
        "id": "xPic89B4eVCl"
      },
      "source": [
        "Проверим качество модели на подборе порога значений классификации:"
      ]
    },
    {
      "cell_type": "markdown",
      "metadata": {
        "id": "yOC9vA4eeVCl"
      },
      "source": [
        "#### Дерево решений"
      ]
    },
    {
      "cell_type": "code",
      "execution_count": null,
      "metadata": {
        "id": "UV8fieVKeVCl"
      },
      "outputs": [],
      "source": [
        "model = DecisionTreeClassifier(random_state=12345, max_depth=tree_best['depth'])\n",
        "model.fit(data_f_train, data_t_train)\n",
        "probabilities_valid = model.predict_proba(data_f_valid)\n",
        "probabilities_one_valid = probabilities_valid[:, 1]\n",
        "\n",
        "f1_best = 0\n",
        "predicted_best = []\n",
        "for threshold in np.arange(0, 1.1, 0.02):\n",
        "    predicted_valid = probabilities_one_valid > threshold\n",
        "    f1 = f1_score(data_t_valid, predicted_valid)\n",
        "    if f1 > f1_best:\n",
        "        f1_best = f1\n",
        "        predicted_best = predicted_valid"
      ]
    },
    {
      "cell_type": "code",
      "execution_count": null,
      "metadata": {
        "id": "Jc8guSHCeVCl",
        "outputId": "76490be8-c76c-45ef-e628-b1f54adf4f7d"
      },
      "outputs": [
        {
          "data": {
            "text/html": [
              "<div>\n",
              "<style scoped>\n",
              "    .dataframe tbody tr th:only-of-type {\n",
              "        vertical-align: middle;\n",
              "    }\n",
              "\n",
              "    .dataframe tbody tr th {\n",
              "        vertical-align: top;\n",
              "    }\n",
              "\n",
              "    .dataframe thead th {\n",
              "        text-align: right;\n",
              "    }\n",
              "</style>\n",
              "<table border=\"1\" class=\"dataframe\">\n",
              "  <thead>\n",
              "    <tr style=\"text-align: right;\">\n",
              "      <th></th>\n",
              "      <th>precision</th>\n",
              "      <th>recall</th>\n",
              "      <th>f1-score</th>\n",
              "      <th>support</th>\n",
              "    </tr>\n",
              "  </thead>\n",
              "  <tbody>\n",
              "    <tr>\n",
              "      <th>Non-exited</th>\n",
              "      <td>0.893210</td>\n",
              "      <td>0.908349</td>\n",
              "      <td>0.900716</td>\n",
              "      <td>1593.0000</td>\n",
              "    </tr>\n",
              "    <tr>\n",
              "      <th>exited</th>\n",
              "      <td>0.615789</td>\n",
              "      <td>0.574939</td>\n",
              "      <td>0.594663</td>\n",
              "      <td>407.0000</td>\n",
              "    </tr>\n",
              "    <tr>\n",
              "      <th>accuracy</th>\n",
              "      <td>0.840500</td>\n",
              "      <td>0.840500</td>\n",
              "      <td>0.840500</td>\n",
              "      <td>0.8405</td>\n",
              "    </tr>\n",
              "    <tr>\n",
              "      <th>macro avg</th>\n",
              "      <td>0.754500</td>\n",
              "      <td>0.741644</td>\n",
              "      <td>0.747690</td>\n",
              "      <td>2000.0000</td>\n",
              "    </tr>\n",
              "    <tr>\n",
              "      <th>weighted avg</th>\n",
              "      <td>0.836755</td>\n",
              "      <td>0.840500</td>\n",
              "      <td>0.838434</td>\n",
              "      <td>2000.0000</td>\n",
              "    </tr>\n",
              "  </tbody>\n",
              "</table>\n",
              "</div>"
            ],
            "text/plain": [
              "              precision    recall  f1-score    support\n",
              "Non-exited     0.893210  0.908349  0.900716  1593.0000\n",
              "exited         0.615789  0.574939  0.594663   407.0000\n",
              "accuracy       0.840500  0.840500  0.840500     0.8405\n",
              "macro avg      0.754500  0.741644  0.747690  2000.0000\n",
              "weighted avg   0.836755  0.840500  0.838434  2000.0000"
            ]
          },
          "execution_count": 66,
          "metadata": {},
          "output_type": "execute_result"
        }
      ],
      "source": [
        "report = classification_report(data_t_valid, predicted_best, target_names=['Non-exited', 'exited'], output_dict=True)\n",
        "report = pd.DataFrame(report).transpose()\n",
        "report"
      ]
    },
    {
      "cell_type": "code",
      "execution_count": null,
      "metadata": {
        "id": "RDwcwvsJeVCm",
        "outputId": "74f789c4-a2b0-4f74-dae0-b833022b829a"
      },
      "outputs": [
        {
          "name": "stdout",
          "output_type": "stream",
          "text": [
            "Площадь под кривой ROC: 0.8097\n"
          ]
        },
        {
          "data": {
            "image/png": "[encoded data removed]",
            "text/plain": [
              "<Figure size 720x720 with 1 Axes>"
            ]
          },
          "metadata": {
            "needs_background": "light"
          },
          "output_type": "display_data"
        }
      ],
      "source": [
        "roc_auc_fig(model)"
      ]
    },
    {
      "cell_type": "markdown",
      "metadata": {
        "id": "y4jusYYUeVCm"
      },
      "source": [
        "**Вывод**\n",
        "\n",
        "* Значения F1-меры чуть больше, чем 0.59 - 0.594\n",
        "* Площадь под кривой ROC - 0.8\n",
        "\n",
        "Метрики качества соответствуют необходимым, но метрики увеличились незначительно."
      ]
    },
    {
      "cell_type": "markdown",
      "metadata": {
        "id": "2yopPi-QeVCm"
      },
      "source": [
        "#### Случайный лес"
      ]
    },
    {
      "cell_type": "code",
      "execution_count": null,
      "metadata": {
        "id": "gNf1qseKeVCm"
      },
      "outputs": [],
      "source": [
        "model = RandomForestClassifier(random_state=12345,\n",
        "                               max_depth=forest_best['depth'],\n",
        "                               n_estimators=forest_best['n_estimators'])\n",
        "model.fit(data_f_train, data_t_train)\n",
        "probabilities_valid = model.predict_proba(data_f_valid)\n",
        "probabilities_one_valid = probabilities_valid[:, 1]\n",
        "\n",
        "f1_best = 0\n",
        "for threshold in np.arange(0, 1.1, 0.02):\n",
        "    predicted_valid = probabilities_one_valid > threshold\n",
        "    f1 = f1_score(data_t_valid, predicted_valid)\n",
        "    if f1 > f1_best:\n",
        "        f1_best = f1\n",
        "        predicted_best = predicted_valid"
      ]
    },
    {
      "cell_type": "code",
      "execution_count": null,
      "metadata": {
        "id": "E8TCyPPkeVCm",
        "outputId": "0b57509f-b8a7-4273-9aab-a097bb0d1faa"
      },
      "outputs": [
        {
          "data": {
            "text/html": [
              "<div>\n",
              "<style scoped>\n",
              "    .dataframe tbody tr th:only-of-type {\n",
              "        vertical-align: middle;\n",
              "    }\n",
              "\n",
              "    .dataframe tbody tr th {\n",
              "        vertical-align: top;\n",
              "    }\n",
              "\n",
              "    .dataframe thead th {\n",
              "        text-align: right;\n",
              "    }\n",
              "</style>\n",
              "<table border=\"1\" class=\"dataframe\">\n",
              "  <thead>\n",
              "    <tr style=\"text-align: right;\">\n",
              "      <th></th>\n",
              "      <th>precision</th>\n",
              "      <th>recall</th>\n",
              "      <th>f1-score</th>\n",
              "      <th>support</th>\n",
              "    </tr>\n",
              "  </thead>\n",
              "  <tbody>\n",
              "    <tr>\n",
              "      <th>Non-exited</th>\n",
              "      <td>0.914618</td>\n",
              "      <td>0.887633</td>\n",
              "      <td>0.900924</td>\n",
              "      <td>1593.0000</td>\n",
              "    </tr>\n",
              "    <tr>\n",
              "      <th>exited</th>\n",
              "      <td>0.605727</td>\n",
              "      <td>0.675676</td>\n",
              "      <td>0.638792</td>\n",
              "      <td>407.0000</td>\n",
              "    </tr>\n",
              "    <tr>\n",
              "      <th>accuracy</th>\n",
              "      <td>0.844500</td>\n",
              "      <td>0.844500</td>\n",
              "      <td>0.844500</td>\n",
              "      <td>0.8445</td>\n",
              "    </tr>\n",
              "    <tr>\n",
              "      <th>macro avg</th>\n",
              "      <td>0.760173</td>\n",
              "      <td>0.781655</td>\n",
              "      <td>0.769858</td>\n",
              "      <td>2000.0000</td>\n",
              "    </tr>\n",
              "    <tr>\n",
              "      <th>weighted avg</th>\n",
              "      <td>0.851759</td>\n",
              "      <td>0.844500</td>\n",
              "      <td>0.847580</td>\n",
              "      <td>2000.0000</td>\n",
              "    </tr>\n",
              "  </tbody>\n",
              "</table>\n",
              "</div>"
            ],
            "text/plain": [
              "              precision    recall  f1-score    support\n",
              "Non-exited     0.914618  0.887633  0.900924  1593.0000\n",
              "exited         0.605727  0.675676  0.638792   407.0000\n",
              "accuracy       0.844500  0.844500  0.844500     0.8445\n",
              "macro avg      0.760173  0.781655  0.769858  2000.0000\n",
              "weighted avg   0.851759  0.844500  0.847580  2000.0000"
            ]
          },
          "execution_count": 69,
          "metadata": {},
          "output_type": "execute_result"
        }
      ],
      "source": [
        "report = classification_report(data_t_valid, predicted_best, target_names=['Non-exited', 'exited'], output_dict=True)\n",
        "report = pd.DataFrame(report).transpose()\n",
        "report"
      ]
    },
    {
      "cell_type": "code",
      "execution_count": null,
      "metadata": {
        "id": "wj9a_-FleVCm",
        "outputId": "fb2d9735-3c90-4312-a82f-8ef501129eff"
      },
      "outputs": [
        {
          "name": "stdout",
          "output_type": "stream",
          "text": [
            "Площадь под кривой ROC: 0.8663\n"
          ]
        },
        {
          "data": {
            "image/png": "[encoded data removed]",
            "text/plain": [
              "<Figure size 720x720 with 1 Axes>"
            ]
          },
          "metadata": {
            "needs_background": "light"
          },
          "output_type": "display_data"
        }
      ],
      "source": [
        "roc_auc_fig(model)"
      ]
    },
    {
      "cell_type": "markdown",
      "metadata": {
        "id": "9-6xLtOreVCn"
      },
      "source": [
        "**Вывод**\n",
        "\n",
        "* Значения F1-меры стало больше, чем 0.59 - 0.63\n",
        "* Площадь под кривой ROC - 0.86\n",
        "\n",
        "Метрики качества теперь соответствуют необходимым, такую модель можно использовать дальше."
      ]
    },
    {
      "cell_type": "markdown",
      "metadata": {
        "id": "L7QZuPwseVCn"
      },
      "source": [
        "#### Логистическая регрессия"
      ]
    },
    {
      "cell_type": "code",
      "execution_count": null,
      "metadata": {
        "id": "r2TU7RJ_eVCn"
      },
      "outputs": [],
      "source": [
        "model = LogisticRegression(random_state=12345)\n",
        "model.fit(data_f_train, data_t_train)\n",
        "probabilities_valid = model.predict_proba(data_f_valid)\n",
        "probabilities_one_valid = probabilities_valid[:, 1]\n",
        "\n",
        "f1_best = 0\n",
        "for threshold in np.arange(0, 1.1, 0.02):\n",
        "    predicted_valid = probabilities_one_valid > threshold\n",
        "    f1 = f1_score(data_t_valid, predicted_valid)\n",
        "    if f1 > f1_best:\n",
        "        f1_best = f1\n",
        "        predicted_best = predicted_valid"
      ]
    },
    {
      "cell_type": "code",
      "execution_count": null,
      "metadata": {
        "id": "u7p-_KKMeVCn",
        "outputId": "64328f48-d644-4efb-a83c-d255a266a2d5"
      },
      "outputs": [
        {
          "data": {
            "text/html": [
              "<div>\n",
              "<style scoped>\n",
              "    .dataframe tbody tr th:only-of-type {\n",
              "        vertical-align: middle;\n",
              "    }\n",
              "\n",
              "    .dataframe tbody tr th {\n",
              "        vertical-align: top;\n",
              "    }\n",
              "\n",
              "    .dataframe thead th {\n",
              "        text-align: right;\n",
              "    }\n",
              "</style>\n",
              "<table border=\"1\" class=\"dataframe\">\n",
              "  <thead>\n",
              "    <tr style=\"text-align: right;\">\n",
              "      <th></th>\n",
              "      <th>precision</th>\n",
              "      <th>recall</th>\n",
              "      <th>f1-score</th>\n",
              "      <th>support</th>\n",
              "    </tr>\n",
              "  </thead>\n",
              "  <tbody>\n",
              "    <tr>\n",
              "      <th>Non-exited</th>\n",
              "      <td>0.900145</td>\n",
              "      <td>0.780917</td>\n",
              "      <td>0.836303</td>\n",
              "      <td>1593.0000</td>\n",
              "    </tr>\n",
              "    <tr>\n",
              "      <th>exited</th>\n",
              "      <td>0.435275</td>\n",
              "      <td>0.660934</td>\n",
              "      <td>0.524878</td>\n",
              "      <td>407.0000</td>\n",
              "    </tr>\n",
              "    <tr>\n",
              "      <th>accuracy</th>\n",
              "      <td>0.756500</td>\n",
              "      <td>0.756500</td>\n",
              "      <td>0.756500</td>\n",
              "      <td>0.7565</td>\n",
              "    </tr>\n",
              "    <tr>\n",
              "      <th>macro avg</th>\n",
              "      <td>0.667710</td>\n",
              "      <td>0.720925</td>\n",
              "      <td>0.680590</td>\n",
              "      <td>2000.0000</td>\n",
              "    </tr>\n",
              "    <tr>\n",
              "      <th>weighted avg</th>\n",
              "      <td>0.805544</td>\n",
              "      <td>0.756500</td>\n",
              "      <td>0.772928</td>\n",
              "      <td>2000.0000</td>\n",
              "    </tr>\n",
              "  </tbody>\n",
              "</table>\n",
              "</div>"
            ],
            "text/plain": [
              "              precision    recall  f1-score    support\n",
              "Non-exited     0.900145  0.780917  0.836303  1593.0000\n",
              "exited         0.435275  0.660934  0.524878   407.0000\n",
              "accuracy       0.756500  0.756500  0.756500     0.7565\n",
              "macro avg      0.667710  0.720925  0.680590  2000.0000\n",
              "weighted avg   0.805544  0.756500  0.772928  2000.0000"
            ]
          },
          "execution_count": 72,
          "metadata": {},
          "output_type": "execute_result"
        }
      ],
      "source": [
        "report = classification_report(data_t_valid, predicted_best, target_names=['Non-exited', 'exited'], output_dict=True)\n",
        "report = pd.DataFrame(report).transpose()\n",
        "report"
      ]
    },
    {
      "cell_type": "code",
      "execution_count": null,
      "metadata": {
        "id": "_rWfcicReVCn",
        "outputId": "50d7a858-b917-4dd9-c8fb-da45dc0fc8f5"
      },
      "outputs": [
        {
          "name": "stdout",
          "output_type": "stream",
          "text": [
            "Площадь под кривой ROC: 0.7876\n"
          ]
        },
        {
          "data": {
            "image/png": "[encoded data removed]",
            "text/plain": [
              "<Figure size 720x720 with 1 Axes>"
            ]
          },
          "metadata": {
            "needs_background": "light"
          },
          "output_type": "display_data"
        }
      ],
      "source": [
        "roc_auc_fig(model)"
      ]
    },
    {
      "cell_type": "markdown",
      "metadata": {
        "id": "XPPBHCwveVCo"
      },
      "source": [
        "**Вывод**\n",
        "\n",
        "* Значения F1-меры меньше, чем 0.59 - 0.52\n",
        "* Площадь под кривой ROC - 0.78\n",
        "\n",
        "Метрики качества не соответствуют необходимым, но метрики увеличились."
      ]
    },
    {
      "cell_type": "markdown",
      "metadata": {
        "id": "OUebu_gXeVCo"
      },
      "source": [
        "По одной модели машинного обучения необходимое качество модели не достигнуто.\n",
        "\n",
        "Модель дерева решений и случайного леса смогли достичь метрики F1-меры до необходимых значений, причем модель случайного леса показала большее значение. Воспользуемся моделью случайного леса."
      ]
    },
    {
      "cell_type": "markdown",
      "metadata": {
        "id": "4F4EBW0weVCo"
      },
      "source": [
        "#### Объединение способов"
      ]
    },
    {
      "cell_type": "markdown",
      "metadata": {
        "id": "POx-F15ZeVCo"
      },
      "source": [
        "Для дальнейшего тестирования модели, попробуем объединить два способа борьбы с дисбалансом, которые выдали наибольшие значения метрик F1-меры:\n",
        "\n",
        "1. Увеличение выборки\n",
        "2. Подбор вероятности порога классификации\n",
        "3. Взвешивание классов\n",
        "\n",
        "Проверим качество модели при объединении двух способов. Если метрика будет выше - можно тестировать модель."
      ]
    },
    {
      "cell_type": "code",
      "execution_count": null,
      "metadata": {
        "id": "tUEcTs2DeVCo",
        "outputId": "00fa528f-ccb5-4da2-a35c-718ff913c40a"
      },
      "outputs": [
        {
          "name": "stderr",
          "output_type": "stream",
          "text": [
            "100%|██████████| 5/5 [00:08<00:00,  1.75s/it]\n"
          ]
        }
      ],
      "source": [
        "# подбираем гиперпараметры на увеличенной выборке\n",
        "\n",
        "best_depth_f = 0\n",
        "best_est_f = 0\n",
        "f1_best_f = 0\n",
        "\n",
        "for est in tqdm(range(10, 51, 10)):\n",
        "    for depth in range (2, 11):\n",
        "        model = RandomForestClassifier(random_state=12345, n_estimators=est, max_depth=depth, class_weight = 'balanced')\n",
        "        model.fit(data_f_upsampled, data_t_upsampled)\n",
        "        predictions_valid = model.predict(data_f_valid)\n",
        "        f1 = f1_score(data_t_valid, predictions_valid)\n",
        "        if f1 > f1_best_f:\n",
        "            best_depth_f = depth\n",
        "            best_est_f = est\n",
        "            f1_best_f = f1"
      ]
    },
    {
      "cell_type": "code",
      "execution_count": null,
      "metadata": {
        "id": "P72MTSXQeVCp"
      },
      "outputs": [],
      "source": [
        "# подбираем порог классификации для обученной модели\n",
        "\n",
        "model = RandomForestClassifier(random_state=12345,\n",
        "                               n_estimators=best_est_f,\n",
        "                               max_depth=best_depth_f,\n",
        "                              class_weight = 'balanced')\n",
        "model.fit(data_f_upsampled, data_t_upsampled)\n",
        "probabilities_valid = model.predict_proba(data_f_valid)\n",
        "probabilities_one_valid = probabilities_valid[:, 1]\n",
        "\n",
        "f1_best = 0\n",
        "for threshold in np.arange(0, 1.1, 0.02):\n",
        "    predicted_valid = probabilities_one_valid > threshold\n",
        "    f1 = f1_score(data_t_valid, predicted_valid)\n",
        "    if f1 > f1_best:\n",
        "        f1_best = f1\n",
        "        predicted_best = predicted_valid"
      ]
    },
    {
      "cell_type": "code",
      "execution_count": null,
      "metadata": {
        "id": "t8DQ0RX0eVCp",
        "outputId": "5468533e-d398-4f1b-c775-f81c5df3c8bd"
      },
      "outputs": [
        {
          "data": {
            "text/html": [
              "<div>\n",
              "<style scoped>\n",
              "    .dataframe tbody tr th:only-of-type {\n",
              "        vertical-align: middle;\n",
              "    }\n",
              "\n",
              "    .dataframe tbody tr th {\n",
              "        vertical-align: top;\n",
              "    }\n",
              "\n",
              "    .dataframe thead th {\n",
              "        text-align: right;\n",
              "    }\n",
              "</style>\n",
              "<table border=\"1\" class=\"dataframe\">\n",
              "  <thead>\n",
              "    <tr style=\"text-align: right;\">\n",
              "      <th></th>\n",
              "      <th>precision</th>\n",
              "      <th>recall</th>\n",
              "      <th>f1-score</th>\n",
              "      <th>support</th>\n",
              "    </tr>\n",
              "  </thead>\n",
              "  <tbody>\n",
              "    <tr>\n",
              "      <th>Non-exited</th>\n",
              "      <td>0.922512</td>\n",
              "      <td>0.866918</td>\n",
              "      <td>0.893851</td>\n",
              "      <td>1593.000</td>\n",
              "    </tr>\n",
              "    <tr>\n",
              "      <th>exited</th>\n",
              "      <td>0.578529</td>\n",
              "      <td>0.714988</td>\n",
              "      <td>0.639560</td>\n",
              "      <td>407.000</td>\n",
              "    </tr>\n",
              "    <tr>\n",
              "      <th>accuracy</th>\n",
              "      <td>0.836000</td>\n",
              "      <td>0.836000</td>\n",
              "      <td>0.836000</td>\n",
              "      <td>0.836</td>\n",
              "    </tr>\n",
              "    <tr>\n",
              "      <th>macro avg</th>\n",
              "      <td>0.750520</td>\n",
              "      <td>0.790953</td>\n",
              "      <td>0.766706</td>\n",
              "      <td>2000.000</td>\n",
              "    </tr>\n",
              "    <tr>\n",
              "      <th>weighted avg</th>\n",
              "      <td>0.852511</td>\n",
              "      <td>0.836000</td>\n",
              "      <td>0.842103</td>\n",
              "      <td>2000.000</td>\n",
              "    </tr>\n",
              "  </tbody>\n",
              "</table>\n",
              "</div>"
            ],
            "text/plain": [
              "              precision    recall  f1-score   support\n",
              "Non-exited     0.922512  0.866918  0.893851  1593.000\n",
              "exited         0.578529  0.714988  0.639560   407.000\n",
              "accuracy       0.836000  0.836000  0.836000     0.836\n",
              "macro avg      0.750520  0.790953  0.766706  2000.000\n",
              "weighted avg   0.852511  0.836000  0.842103  2000.000"
            ]
          },
          "execution_count": 76,
          "metadata": {},
          "output_type": "execute_result"
        }
      ],
      "source": [
        "report = classification_report(data_t_valid, predicted_best, target_names=['Non-exited', 'exited'], output_dict=True)\n",
        "report = pd.DataFrame(report).transpose()\n",
        "report"
      ]
    },
    {
      "cell_type": "code",
      "execution_count": null,
      "metadata": {
        "id": "rO_0KG7PeVCp",
        "outputId": "2596c037-a0a6-42a7-f426-71f687a4d881"
      },
      "outputs": [
        {
          "name": "stdout",
          "output_type": "stream",
          "text": [
            "Площадь под кривой ROC: 0.8638\n"
          ]
        },
        {
          "data": {
            "image/png": "[encoded data removed]",
            "text/plain": [
              "<Figure size 720x720 with 1 Axes>"
            ]
          },
          "metadata": {
            "needs_background": "light"
          },
          "output_type": "display_data"
        }
      ],
      "source": [
        "roc_auc_fig(model)"
      ]
    },
    {
      "cell_type": "markdown",
      "metadata": {
        "id": "_SpWWle1eVCp"
      },
      "source": [
        "## Тестирование модели"
      ]
    },
    {
      "cell_type": "markdown",
      "metadata": {
        "id": "568dYdifeVCq"
      },
      "source": [
        "Проведем тестирование модели на тестовой выборке с помощью:\n",
        "\n",
        "* Модели случайного леса\n",
        "* Увеличения выборки\n",
        "* Подбора порога классификации\n",
        "\n",
        "Так как данный способ показал наивысшую метрику качества F1-меры - 0.639560\n",
        "\n",
        "**Прежде, чем проверять метрики лучшей модели и способа борьбы с дисбалансом, необходимо:**\n",
        "\n",
        "*  стандартизировать данные в тестовой выборке с помоoью ранее обученной модели стандартизации\n",
        "* объединить обучающую и валидационную выборку и увеличить"
      ]
    },
    {
      "cell_type": "code",
      "execution_count": null,
      "metadata": {
        "id": "T6ZDO6xreVCq"
      },
      "outputs": [],
      "source": [
        "# объединяем финальные обучающие выборки\n",
        "\n",
        "final_f = pd.concat([data_f_train, data_f_valid])\n",
        "final_t = pd.concat([data_t_train, data_t_valid])"
      ]
    },
    {
      "cell_type": "markdown",
      "metadata": {
        "id": "eV_O2UwGeVCr"
      },
      "source": [
        "Проверим дисбаланс классов:"
      ]
    },
    {
      "cell_type": "code",
      "execution_count": null,
      "metadata": {
        "id": "uKQi8JJteVCr",
        "outputId": "157f8bea-8f92-45d5-9e7d-9fe2b9e4fbd6"
      },
      "outputs": [
        {
          "data": {
            "text/plain": [
              "1630"
            ]
          },
          "metadata": {},
          "output_type": "display_data"
        },
        {
          "data": {
            "text/plain": [
              "8000"
            ]
          },
          "metadata": {},
          "output_type": "display_data"
        }
      ],
      "source": [
        "display(final_t.sum(), final_t.count())"
      ]
    },
    {
      "cell_type": "markdown",
      "metadata": {
        "id": "M01sHc00eVCr"
      },
      "source": [
        "Разница чуть больше, чуть меньше, чем в 5 раз."
      ]
    },
    {
      "cell_type": "markdown",
      "metadata": {
        "id": "xbwH-FbgeVCr"
      },
      "source": [
        "Увеличим выборку примерно в 4 раза и посмотрим результат."
      ]
    },
    {
      "cell_type": "code",
      "execution_count": null,
      "metadata": {
        "id": "J8JBwWy0eVCr"
      },
      "outputs": [],
      "source": [
        "# увеличиваем выборку\n",
        "\n",
        "final_f, final_t = upsample(final_f, final_t, 4)"
      ]
    },
    {
      "cell_type": "code",
      "execution_count": null,
      "metadata": {
        "id": "B1-tsmY7eVCr",
        "outputId": "f66a20b7-47cf-4159-a1fa-65be0a40f6fd"
      },
      "outputs": [
        {
          "name": "stdout",
          "output_type": "stream",
          "text": [
            "Площадь под кривой ROC: 0.9693\n"
          ]
        },
        {
          "data": {
            "image/png": "[encoded data removed]",
            "text/plain": [
              "<Figure size 720x720 with 1 Axes>"
            ]
          },
          "metadata": {
            "needs_background": "light"
          },
          "output_type": "display_data"
        },
        {
          "name": "stdout",
          "output_type": "stream",
          "text": [
            "Accuracy: 0.8275\n",
            "Recall: 0.7174447174447175\n",
            "F1: 0.628632938643703\n"
          ]
        }
      ],
      "source": [
        "model = RandomForestClassifier(random_state = 12345,\n",
        "                               n_estimators = best_est_f,\n",
        "                               max_depth = best_depth_f,\n",
        "                               class_weight = 'balanced')\n",
        "model.fit(final_f, final_t)\n",
        "predictions = model.predict(data_f_test)\n",
        "probabilities = model.predict_proba(data_f_test)\n",
        "probabilities_one = probabilities[:, 1]\n",
        "\n",
        "accuracy = accuracy_score(data_t_test, predictions)\n",
        "recall = recall_score(data_t_test, predictions)\n",
        "f1 = f1_score(data_t_test, predictions)\n",
        "\n",
        "roc_auc_fig(model)\n",
        "\n",
        "print('Accuracy:', accuracy)\n",
        "print('Recall:', recall)\n",
        "print('F1:', f1)"
      ]
    },
    {
      "cell_type": "markdown",
      "metadata": {
        "id": "cevYTi_feVCs"
      },
      "source": [
        "**ИТОГ**\n",
        "\n",
        "* Значения F1-меры - 0.62\n",
        "* Площадь под кривой ROC - 0.82\n",
        "\n",
        "**Необходимые метрики достигнуты.**"
      ]
    },
    {
      "cell_type": "code",
      "execution_count": null,
      "metadata": {
        "id": "vUevG2vyeVCt"
      },
      "outputs": [],
      "source": []
    }
  ],
  "metadata": {
    "ExecuteTimeLog": [
      {
        "duration": 1720,
        "start_time": "2023-04-02T19:00:59.402Z"
      },
      {
        "duration": 187,
        "start_time": "2023-04-02T19:01:01.124Z"
      },
      {
        "duration": 40,
        "start_time": "2023-04-02T19:03:58.474Z"
      },
      {
        "duration": 14,
        "start_time": "2023-04-02T19:03:58.812Z"
      },
      {
        "duration": 19,
        "start_time": "2023-04-02T19:04:16.273Z"
      },
      {
        "duration": 3,
        "start_time": "2023-04-02T19:12:47.592Z"
      },
      {
        "duration": 3,
        "start_time": "2023-04-02T19:19:00.392Z"
      },
      {
        "duration": 5,
        "start_time": "2023-04-02T19:19:03.939Z"
      },
      {
        "duration": 38,
        "start_time": "2023-04-02T19:19:04.332Z"
      },
      {
        "duration": 12,
        "start_time": "2023-04-02T19:19:04.511Z"
      },
      {
        "duration": 14,
        "start_time": "2023-04-02T19:19:04.691Z"
      },
      {
        "duration": 4,
        "start_time": "2023-04-02T19:19:05.101Z"
      },
      {
        "duration": 3,
        "start_time": "2023-04-02T19:23:56.071Z"
      },
      {
        "duration": 4,
        "start_time": "2023-04-02T19:23:56.344Z"
      },
      {
        "duration": 12,
        "start_time": "2023-04-02T19:24:51.231Z"
      },
      {
        "duration": 12,
        "start_time": "2023-04-02T19:25:08.044Z"
      },
      {
        "duration": 13,
        "start_time": "2023-04-02T19:25:33.900Z"
      },
      {
        "duration": 7,
        "start_time": "2023-04-02T19:26:18.184Z"
      },
      {
        "duration": 7,
        "start_time": "2023-04-02T19:32:16.412Z"
      },
      {
        "duration": 21,
        "start_time": "2023-04-02T19:32:19.332Z"
      },
      {
        "duration": 6,
        "start_time": "2023-04-02T20:39:03.856Z"
      },
      {
        "duration": 5,
        "start_time": "2023-04-02T20:43:55.073Z"
      },
      {
        "duration": 109,
        "start_time": "2023-04-02T20:45:43.893Z"
      },
      {
        "duration": 4,
        "start_time": "2023-04-02T20:45:49.888Z"
      },
      {
        "duration": 39,
        "start_time": "2023-04-02T20:45:50.360Z"
      },
      {
        "duration": 12,
        "start_time": "2023-04-02T20:45:50.525Z"
      },
      {
        "duration": 13,
        "start_time": "2023-04-02T20:45:50.713Z"
      },
      {
        "duration": 3,
        "start_time": "2023-04-02T20:45:51.092Z"
      },
      {
        "duration": 4,
        "start_time": "2023-04-02T20:45:51.293Z"
      },
      {
        "duration": 11,
        "start_time": "2023-04-02T20:45:51.492Z"
      },
      {
        "duration": 12,
        "start_time": "2023-04-02T20:45:51.693Z"
      },
      {
        "duration": 7,
        "start_time": "2023-04-02T20:45:51.912Z"
      },
      {
        "duration": 17,
        "start_time": "2023-04-02T20:45:52.343Z"
      },
      {
        "duration": 9,
        "start_time": "2023-04-02T20:45:52.572Z"
      },
      {
        "duration": 4,
        "start_time": "2023-04-02T20:45:53.092Z"
      },
      {
        "duration": 8,
        "start_time": "2023-04-02T20:45:53.825Z"
      },
      {
        "duration": 217,
        "start_time": "2023-04-02T20:46:03.634Z"
      },
      {
        "duration": 67,
        "start_time": "2023-04-02T20:47:01.035Z"
      },
      {
        "duration": 13,
        "start_time": "2023-04-02T20:48:01.156Z"
      },
      {
        "duration": 14,
        "start_time": "2023-04-02T20:48:02.373Z"
      },
      {
        "duration": 12,
        "start_time": "2023-04-02T20:48:02.916Z"
      },
      {
        "duration": 60,
        "start_time": "2023-04-02T20:48:33.452Z"
      },
      {
        "duration": 60,
        "start_time": "2023-04-02T20:48:56.292Z"
      },
      {
        "duration": 10,
        "start_time": "2023-04-02T20:49:38.457Z"
      },
      {
        "duration": 21,
        "start_time": "2023-04-02T20:49:46.564Z"
      },
      {
        "duration": 1518,
        "start_time": "2023-04-03T07:18:37.020Z"
      },
      {
        "duration": 78,
        "start_time": "2023-04-03T07:18:38.540Z"
      },
      {
        "duration": 15,
        "start_time": "2023-04-03T07:18:38.620Z"
      },
      {
        "duration": 21,
        "start_time": "2023-04-03T07:18:38.637Z"
      },
      {
        "duration": 3,
        "start_time": "2023-04-03T07:18:38.660Z"
      },
      {
        "duration": 8,
        "start_time": "2023-04-03T07:18:38.665Z"
      },
      {
        "duration": 24,
        "start_time": "2023-04-03T07:18:38.674Z"
      },
      {
        "duration": 30,
        "start_time": "2023-04-03T07:18:38.700Z"
      },
      {
        "duration": 9,
        "start_time": "2023-04-03T07:18:38.732Z"
      },
      {
        "duration": 22,
        "start_time": "2023-04-03T07:18:38.742Z"
      },
      {
        "duration": 6,
        "start_time": "2023-04-03T07:18:38.766Z"
      },
      {
        "duration": 11,
        "start_time": "2023-04-03T07:18:38.773Z"
      },
      {
        "duration": 225,
        "start_time": "2023-04-03T07:18:38.785Z"
      },
      {
        "duration": 76,
        "start_time": "2023-04-03T07:18:39.011Z"
      },
      {
        "duration": 70,
        "start_time": "2023-04-03T07:18:39.089Z"
      },
      {
        "duration": 71,
        "start_time": "2023-04-03T07:18:39.161Z"
      },
      {
        "duration": 24,
        "start_time": "2023-04-03T07:18:39.234Z"
      },
      {
        "duration": 12,
        "start_time": "2023-04-03T07:18:39.275Z"
      },
      {
        "duration": 368,
        "start_time": "2023-04-03T07:24:46.971Z"
      },
      {
        "duration": 7965,
        "start_time": "2023-04-03T07:24:54.029Z"
      },
      {
        "duration": 128,
        "start_time": "2023-04-03T07:28:05.014Z"
      },
      {
        "duration": 8076,
        "start_time": "2023-04-03T07:28:27.333Z"
      },
      {
        "duration": 123,
        "start_time": "2023-04-03T07:28:45.495Z"
      },
      {
        "duration": 8086,
        "start_time": "2023-04-03T07:29:07.879Z"
      },
      {
        "duration": 424,
        "start_time": "2023-04-03T07:29:17.936Z"
      },
      {
        "duration": 10,
        "start_time": "2023-04-03T07:29:44.391Z"
      },
      {
        "duration": 5,
        "start_time": "2023-04-03T07:29:56.928Z"
      },
      {
        "duration": 7913,
        "start_time": "2023-04-03T07:29:58.468Z"
      },
      {
        "duration": 460,
        "start_time": "2023-04-03T07:30:06.384Z"
      },
      {
        "duration": 216,
        "start_time": "2023-04-03T07:30:06.846Z"
      },
      {
        "duration": 16085,
        "start_time": "2023-04-03T07:59:02.336Z"
      },
      {
        "duration": 286,
        "start_time": "2023-04-03T08:02:01.396Z"
      },
      {
        "duration": 286,
        "start_time": "2023-04-03T08:18:56.000Z"
      },
      {
        "duration": 15765,
        "start_time": "2023-04-03T08:18:58.840Z"
      },
      {
        "duration": 276,
        "start_time": "2023-04-03T08:19:45.695Z"
      },
      {
        "duration": 1515,
        "start_time": "2023-04-03T08:21:17.652Z"
      },
      {
        "duration": 43,
        "start_time": "2023-04-03T08:21:19.169Z"
      },
      {
        "duration": 14,
        "start_time": "2023-04-03T08:21:19.214Z"
      },
      {
        "duration": 25,
        "start_time": "2023-04-03T08:21:19.230Z"
      },
      {
        "duration": 27,
        "start_time": "2023-04-03T08:21:19.256Z"
      },
      {
        "duration": 12,
        "start_time": "2023-04-03T08:21:19.285Z"
      },
      {
        "duration": 41,
        "start_time": "2023-04-03T08:21:19.299Z"
      },
      {
        "duration": 33,
        "start_time": "2023-04-03T08:21:19.342Z"
      },
      {
        "duration": 7,
        "start_time": "2023-04-03T08:21:19.377Z"
      },
      {
        "duration": 33,
        "start_time": "2023-04-03T08:21:19.387Z"
      },
      {
        "duration": 6,
        "start_time": "2023-04-03T08:21:19.422Z"
      },
      {
        "duration": 16,
        "start_time": "2023-04-03T08:21:19.430Z"
      },
      {
        "duration": 233,
        "start_time": "2023-04-03T08:21:19.448Z"
      },
      {
        "duration": 67,
        "start_time": "2023-04-03T08:21:19.683Z"
      },
      {
        "duration": 82,
        "start_time": "2023-04-03T08:21:19.751Z"
      },
      {
        "duration": 63,
        "start_time": "2023-04-03T08:21:19.835Z"
      },
      {
        "duration": 24,
        "start_time": "2023-04-03T08:21:19.900Z"
      },
      {
        "duration": 10,
        "start_time": "2023-04-03T08:21:19.925Z"
      },
      {
        "duration": 8246,
        "start_time": "2023-04-03T08:21:19.936Z"
      },
      {
        "duration": 446,
        "start_time": "2023-04-03T08:21:28.184Z"
      },
      {
        "duration": 215,
        "start_time": "2023-04-03T08:21:28.631Z"
      },
      {
        "duration": 15913,
        "start_time": "2023-04-03T08:21:28.848Z"
      },
      {
        "duration": 277,
        "start_time": "2023-04-03T08:21:44.762Z"
      },
      {
        "duration": 207,
        "start_time": "2023-04-03T08:21:45.041Z"
      },
      {
        "duration": 15511,
        "start_time": "2023-04-03T08:27:46.811Z"
      },
      {
        "duration": 297,
        "start_time": "2023-04-03T08:28:04.262Z"
      },
      {
        "duration": 204,
        "start_time": "2023-04-03T08:28:07.089Z"
      },
      {
        "duration": 23155,
        "start_time": "2023-04-03T08:31:25.943Z"
      },
      {
        "duration": 613,
        "start_time": "2023-04-03T08:31:51.593Z"
      },
      {
        "duration": 38063,
        "start_time": "2023-04-03T08:38:19.950Z"
      },
      {
        "duration": 187,
        "start_time": "2023-04-03T08:38:59.691Z"
      },
      {
        "duration": 388746,
        "start_time": "2023-04-03T08:39:19.013Z"
      },
      {
        "duration": 230,
        "start_time": "2023-04-03T08:46:02.265Z"
      },
      {
        "duration": 8,
        "start_time": "2023-04-03T08:47:03.123Z"
      },
      {
        "duration": 7,
        "start_time": "2023-04-03T08:47:10.531Z"
      },
      {
        "duration": 7,
        "start_time": "2023-04-03T08:47:10.882Z"
      },
      {
        "duration": 5,
        "start_time": "2023-04-03T08:47:38.531Z"
      },
      {
        "duration": 33,
        "start_time": "2023-04-03T08:47:39.154Z"
      },
      {
        "duration": 12,
        "start_time": "2023-04-03T08:47:39.754Z"
      },
      {
        "duration": 15,
        "start_time": "2023-04-03T08:47:40.739Z"
      },
      {
        "duration": 3,
        "start_time": "2023-04-03T08:47:42.619Z"
      },
      {
        "duration": 5,
        "start_time": "2023-04-03T08:47:43.155Z"
      },
      {
        "duration": 18,
        "start_time": "2023-04-03T08:47:43.675Z"
      },
      {
        "duration": 11,
        "start_time": "2023-04-03T08:47:44.835Z"
      },
      {
        "duration": 9,
        "start_time": "2023-04-03T08:47:45.698Z"
      },
      {
        "duration": 20,
        "start_time": "2023-04-03T08:47:50.267Z"
      },
      {
        "duration": 6,
        "start_time": "2023-04-03T08:47:55.651Z"
      },
      {
        "duration": 9,
        "start_time": "2023-04-03T08:47:56.786Z"
      },
      {
        "duration": 115,
        "start_time": "2023-04-03T08:48:39.732Z"
      },
      {
        "duration": 222,
        "start_time": "2023-04-03T08:48:48.148Z"
      },
      {
        "duration": 189,
        "start_time": "2023-04-03T08:49:03.052Z"
      },
      {
        "duration": 137,
        "start_time": "2023-04-03T08:49:24.900Z"
      },
      {
        "duration": 1137,
        "start_time": "2023-04-03T08:49:31.212Z"
      },
      {
        "duration": 7,
        "start_time": "2023-04-03T08:50:14.197Z"
      },
      {
        "duration": 5,
        "start_time": "2023-04-03T08:50:55.409Z"
      },
      {
        "duration": 11,
        "start_time": "2023-04-03T08:51:21.765Z"
      },
      {
        "duration": 6,
        "start_time": "2023-04-03T08:51:27.238Z"
      },
      {
        "duration": 344,
        "start_time": "2023-04-03T08:51:56.758Z"
      },
      {
        "duration": 3,
        "start_time": "2023-04-03T08:52:29.678Z"
      },
      {
        "duration": 27,
        "start_time": "2023-04-03T08:52:33.135Z"
      },
      {
        "duration": 7,
        "start_time": "2023-04-03T08:52:36.478Z"
      },
      {
        "duration": 14,
        "start_time": "2023-04-03T08:52:37.382Z"
      },
      {
        "duration": 9,
        "start_time": "2023-04-03T08:52:37.830Z"
      },
      {
        "duration": 24,
        "start_time": "2023-04-03T08:52:38.807Z"
      },
      {
        "duration": 4,
        "start_time": "2023-04-03T08:52:40.936Z"
      },
      {
        "duration": 469,
        "start_time": "2023-04-03T08:52:42.662Z"
      },
      {
        "duration": 43,
        "start_time": "2023-04-03T08:52:46.806Z"
      },
      {
        "duration": 170,
        "start_time": "2023-04-03T08:52:53.934Z"
      },
      {
        "duration": 4515,
        "start_time": "2023-04-03T08:53:05.862Z"
      },
      {
        "duration": 301,
        "start_time": "2023-04-03T08:53:12.575Z"
      },
      {
        "duration": 178,
        "start_time": "2023-04-03T08:53:16.375Z"
      },
      {
        "duration": 587,
        "start_time": "2023-04-03T12:53:27.797Z"
      },
      {
        "duration": 10,
        "start_time": "2023-04-03T12:54:05.037Z"
      },
      {
        "duration": 329,
        "start_time": "2023-04-03T12:54:10.104Z"
      },
      {
        "duration": 9,
        "start_time": "2023-04-03T13:05:16.485Z"
      },
      {
        "duration": 274,
        "start_time": "2023-04-03T13:05:34.316Z"
      },
      {
        "duration": 63,
        "start_time": "2023-04-03T13:07:51.119Z"
      },
      {
        "duration": 259,
        "start_time": "2023-04-03T13:08:12.338Z"
      },
      {
        "duration": 4,
        "start_time": "2023-04-03T13:11:45.839Z"
      },
      {
        "duration": 15,
        "start_time": "2023-04-03T13:14:02.000Z"
      },
      {
        "duration": 612,
        "start_time": "2023-04-03T13:17:58.497Z"
      },
      {
        "duration": 15,
        "start_time": "2023-04-03T13:17:59.920Z"
      },
      {
        "duration": 53,
        "start_time": "2023-04-03T13:18:08.035Z"
      },
      {
        "duration": 153,
        "start_time": "2023-04-03T13:18:22.517Z"
      },
      {
        "duration": 8573,
        "start_time": "2023-04-03T13:20:26.550Z"
      },
      {
        "duration": 176,
        "start_time": "2023-04-03T13:20:52.716Z"
      },
      {
        "duration": 228,
        "start_time": "2023-04-03T13:21:11.029Z"
      },
      {
        "duration": 669,
        "start_time": "2023-04-03T13:24:39.648Z"
      },
      {
        "duration": 344,
        "start_time": "2023-04-03T13:24:49.899Z"
      },
      {
        "duration": 5,
        "start_time": "2023-04-03T13:28:58.427Z"
      },
      {
        "duration": 11,
        "start_time": "2023-04-03T13:29:49.636Z"
      },
      {
        "duration": 12,
        "start_time": "2023-04-03T13:29:56.123Z"
      },
      {
        "duration": 252,
        "start_time": "2023-04-03T13:30:34.394Z"
      },
      {
        "duration": 27,
        "start_time": "2023-04-03T13:30:54.341Z"
      },
      {
        "duration": 158,
        "start_time": "2023-04-03T13:31:09.604Z"
      },
      {
        "duration": 4245,
        "start_time": "2023-04-03T13:32:41.665Z"
      },
      {
        "duration": 177,
        "start_time": "2023-04-03T13:33:03.543Z"
      },
      {
        "duration": 234,
        "start_time": "2023-04-03T13:34:38.109Z"
      },
      {
        "duration": 381,
        "start_time": "2023-04-03T13:35:17.713Z"
      },
      {
        "duration": 288,
        "start_time": "2023-04-03T13:35:27.552Z"
      },
      {
        "duration": 101,
        "start_time": "2023-04-03T13:41:32.686Z"
      },
      {
        "duration": 15,
        "start_time": "2023-04-03T13:41:39.185Z"
      },
      {
        "duration": 18,
        "start_time": "2023-04-03T13:41:52.213Z"
      },
      {
        "duration": 162,
        "start_time": "2023-04-03T13:42:04.845Z"
      },
      {
        "duration": 359,
        "start_time": "2023-04-03T13:43:36.639Z"
      },
      {
        "duration": 16,
        "start_time": "2023-04-03T13:43:51.425Z"
      },
      {
        "duration": 182,
        "start_time": "2023-04-03T13:44:00.015Z"
      },
      {
        "duration": 712,
        "start_time": "2023-04-03T13:45:38.705Z"
      },
      {
        "duration": 21,
        "start_time": "2023-04-03T13:45:52.829Z"
      },
      {
        "duration": 314,
        "start_time": "2023-04-03T13:46:00.561Z"
      },
      {
        "duration": 8476,
        "start_time": "2023-04-03T13:50:38.813Z"
      },
      {
        "duration": 252,
        "start_time": "2023-04-03T13:51:44.297Z"
      },
      {
        "duration": 17,
        "start_time": "2023-04-03T13:52:01.939Z"
      },
      {
        "duration": 167,
        "start_time": "2023-04-03T13:52:12.051Z"
      },
      {
        "duration": 11,
        "start_time": "2023-04-03T13:55:01.505Z"
      },
      {
        "duration": 12,
        "start_time": "2023-04-03T13:55:15.438Z"
      },
      {
        "duration": 6,
        "start_time": "2023-04-03T13:55:35.985Z"
      },
      {
        "duration": 7,
        "start_time": "2023-04-03T13:56:08.385Z"
      },
      {
        "duration": 11,
        "start_time": "2023-04-03T13:56:54.047Z"
      },
      {
        "duration": 240,
        "start_time": "2023-04-03T13:56:56.767Z"
      },
      {
        "duration": 293,
        "start_time": "2023-04-03T13:57:15.138Z"
      },
      {
        "duration": 17,
        "start_time": "2023-04-03T13:57:26.486Z"
      },
      {
        "duration": 209,
        "start_time": "2023-04-03T13:57:44.102Z"
      },
      {
        "duration": 166,
        "start_time": "2023-04-03T13:58:05.737Z"
      },
      {
        "duration": 1749,
        "start_time": "2023-04-04T12:46:32.437Z"
      },
      {
        "duration": 6,
        "start_time": "2023-04-04T12:56:18.589Z"
      },
      {
        "duration": 77,
        "start_time": "2023-04-04T12:56:21.211Z"
      },
      {
        "duration": 19,
        "start_time": "2023-04-04T12:56:21.626Z"
      },
      {
        "duration": 23,
        "start_time": "2023-04-04T12:56:22.010Z"
      },
      {
        "duration": 4,
        "start_time": "2023-04-04T12:56:22.885Z"
      },
      {
        "duration": 4,
        "start_time": "2023-04-04T12:56:23.275Z"
      },
      {
        "duration": 13,
        "start_time": "2023-04-04T12:56:24.020Z"
      },
      {
        "duration": 14,
        "start_time": "2023-04-04T12:56:24.499Z"
      },
      {
        "duration": 10,
        "start_time": "2023-04-04T12:56:25.083Z"
      },
      {
        "duration": 25,
        "start_time": "2023-04-04T12:56:26.043Z"
      },
      {
        "duration": 8,
        "start_time": "2023-04-04T12:56:26.482Z"
      },
      {
        "duration": 8,
        "start_time": "2023-04-04T12:56:27.173Z"
      },
      {
        "duration": 203,
        "start_time": "2023-04-04T12:56:28.581Z"
      },
      {
        "duration": 1274,
        "start_time": "2023-04-04T12:56:30.451Z"
      },
      {
        "duration": 5,
        "start_time": "2023-04-04T12:56:32.859Z"
      },
      {
        "duration": 5,
        "start_time": "2023-04-04T12:56:34.395Z"
      },
      {
        "duration": 7,
        "start_time": "2023-04-04T12:56:35.411Z"
      },
      {
        "duration": 341,
        "start_time": "2023-04-04T12:56:36.955Z"
      },
      {
        "duration": 3,
        "start_time": "2023-04-04T12:56:38.219Z"
      },
      {
        "duration": 25,
        "start_time": "2023-04-04T12:56:39.427Z"
      },
      {
        "duration": 5,
        "start_time": "2023-04-04T12:56:41.931Z"
      },
      {
        "duration": 8,
        "start_time": "2023-04-04T12:56:43.213Z"
      },
      {
        "duration": 8,
        "start_time": "2023-04-04T12:56:43.684Z"
      },
      {
        "duration": 24,
        "start_time": "2023-04-04T12:56:44.707Z"
      },
      {
        "duration": 11,
        "start_time": "2023-04-04T12:56:46.611Z"
      },
      {
        "duration": 5,
        "start_time": "2023-04-04T12:58:41.685Z"
      },
      {
        "duration": 10,
        "start_time": "2023-04-04T12:59:24.038Z"
      },
      {
        "duration": 10,
        "start_time": "2023-04-04T12:59:35.013Z"
      },
      {
        "duration": 133,
        "start_time": "2023-04-04T13:01:24.198Z"
      },
      {
        "duration": 1481,
        "start_time": "2023-04-04T13:01:44.943Z"
      },
      {
        "duration": 40,
        "start_time": "2023-04-04T13:01:46.426Z"
      },
      {
        "duration": 15,
        "start_time": "2023-04-04T13:01:46.468Z"
      },
      {
        "duration": 22,
        "start_time": "2023-04-04T13:01:46.486Z"
      },
      {
        "duration": 4,
        "start_time": "2023-04-04T13:01:46.510Z"
      },
      {
        "duration": 6,
        "start_time": "2023-04-04T13:01:46.527Z"
      },
      {
        "duration": 14,
        "start_time": "2023-04-04T13:01:46.535Z"
      },
      {
        "duration": 14,
        "start_time": "2023-04-04T13:01:46.551Z"
      },
      {
        "duration": 7,
        "start_time": "2023-04-04T13:01:46.566Z"
      },
      {
        "duration": 55,
        "start_time": "2023-04-04T13:01:46.578Z"
      },
      {
        "duration": 7,
        "start_time": "2023-04-04T13:01:46.634Z"
      },
      {
        "duration": 10,
        "start_time": "2023-04-04T13:01:46.642Z"
      },
      {
        "duration": 233,
        "start_time": "2023-04-04T13:01:46.653Z"
      },
      {
        "duration": 1228,
        "start_time": "2023-04-04T13:01:46.888Z"
      },
      {
        "duration": 5,
        "start_time": "2023-04-04T13:01:48.118Z"
      },
      {
        "duration": 13,
        "start_time": "2023-04-04T13:01:48.124Z"
      },
      {
        "duration": 8,
        "start_time": "2023-04-04T13:01:48.139Z"
      },
      {
        "duration": 318,
        "start_time": "2023-04-04T13:01:48.148Z"
      },
      {
        "duration": 3,
        "start_time": "2023-04-04T13:01:48.468Z"
      },
      {
        "duration": 32,
        "start_time": "2023-04-04T13:01:48.473Z"
      },
      {
        "duration": 18,
        "start_time": "2023-04-04T13:01:48.507Z"
      },
      {
        "duration": 19,
        "start_time": "2023-04-04T13:01:48.528Z"
      },
      {
        "duration": 7,
        "start_time": "2023-04-04T13:01:48.549Z"
      },
      {
        "duration": 28,
        "start_time": "2023-04-04T13:01:48.558Z"
      },
      {
        "duration": 12,
        "start_time": "2023-04-04T13:01:48.588Z"
      },
      {
        "duration": 6,
        "start_time": "2023-04-04T13:01:48.601Z"
      },
      {
        "duration": 466,
        "start_time": "2023-04-04T13:01:48.624Z"
      },
      {
        "duration": 48,
        "start_time": "2023-04-04T13:01:49.094Z"
      },
      {
        "duration": 167,
        "start_time": "2023-04-04T13:01:49.144Z"
      },
      {
        "duration": 4578,
        "start_time": "2023-04-04T13:01:49.313Z"
      },
      {
        "duration": 273,
        "start_time": "2023-04-04T13:01:53.893Z"
      },
      {
        "duration": 186,
        "start_time": "2023-04-04T13:01:54.168Z"
      },
      {
        "duration": 272,
        "start_time": "2023-04-04T13:01:54.356Z"
      },
      {
        "duration": 332,
        "start_time": "2023-04-04T13:01:54.630Z"
      },
      {
        "duration": 10,
        "start_time": "2023-04-04T13:01:54.964Z"
      },
      {
        "duration": 251,
        "start_time": "2023-04-04T13:01:54.976Z"
      },
      {
        "duration": 100,
        "start_time": "2023-04-04T13:01:55.229Z"
      },
      {
        "duration": 371,
        "start_time": "2023-04-04T13:01:55.333Z"
      },
      {
        "duration": 131,
        "start_time": "2023-04-04T13:01:55.707Z"
      },
      {
        "duration": 0,
        "start_time": "2023-04-04T13:01:55.840Z"
      },
      {
        "duration": 0,
        "start_time": "2023-04-04T13:01:55.841Z"
      },
      {
        "duration": 0,
        "start_time": "2023-04-04T13:01:55.843Z"
      },
      {
        "duration": 0,
        "start_time": "2023-04-04T13:01:55.845Z"
      },
      {
        "duration": 0,
        "start_time": "2023-04-04T13:01:55.846Z"
      },
      {
        "duration": 0,
        "start_time": "2023-04-04T13:01:55.847Z"
      },
      {
        "duration": 0,
        "start_time": "2023-04-04T13:01:55.849Z"
      },
      {
        "duration": 0,
        "start_time": "2023-04-04T13:01:55.850Z"
      },
      {
        "duration": 0,
        "start_time": "2023-04-04T13:01:55.852Z"
      },
      {
        "duration": 0,
        "start_time": "2023-04-04T13:01:55.853Z"
      },
      {
        "duration": 0,
        "start_time": "2023-04-04T13:01:55.854Z"
      },
      {
        "duration": 0,
        "start_time": "2023-04-04T13:01:55.855Z"
      },
      {
        "duration": 0,
        "start_time": "2023-04-04T13:01:55.856Z"
      },
      {
        "duration": 0,
        "start_time": "2023-04-04T13:01:55.858Z"
      },
      {
        "duration": 0,
        "start_time": "2023-04-04T13:01:55.859Z"
      },
      {
        "duration": 0,
        "start_time": "2023-04-04T13:01:55.860Z"
      },
      {
        "duration": 0,
        "start_time": "2023-04-04T13:01:55.861Z"
      },
      {
        "duration": 0,
        "start_time": "2023-04-04T13:01:55.862Z"
      },
      {
        "duration": 0,
        "start_time": "2023-04-04T13:01:55.863Z"
      },
      {
        "duration": 0,
        "start_time": "2023-04-04T13:01:55.864Z"
      },
      {
        "duration": 0,
        "start_time": "2023-04-04T13:01:55.865Z"
      },
      {
        "duration": 0,
        "start_time": "2023-04-04T13:01:55.866Z"
      },
      {
        "duration": 0,
        "start_time": "2023-04-04T13:01:55.867Z"
      },
      {
        "duration": 0,
        "start_time": "2023-04-04T13:01:55.868Z"
      },
      {
        "duration": 0,
        "start_time": "2023-04-04T13:01:55.869Z"
      },
      {
        "duration": 0,
        "start_time": "2023-04-04T13:01:55.870Z"
      },
      {
        "duration": 0,
        "start_time": "2023-04-04T13:01:55.924Z"
      },
      {
        "duration": 0,
        "start_time": "2023-04-04T13:01:55.925Z"
      },
      {
        "duration": 0,
        "start_time": "2023-04-04T13:01:55.926Z"
      },
      {
        "duration": 0,
        "start_time": "2023-04-04T13:01:55.927Z"
      },
      {
        "duration": 1,
        "start_time": "2023-04-04T13:01:55.928Z"
      },
      {
        "duration": 0,
        "start_time": "2023-04-04T13:01:55.930Z"
      },
      {
        "duration": 0,
        "start_time": "2023-04-04T13:01:55.931Z"
      },
      {
        "duration": 0,
        "start_time": "2023-04-04T13:01:55.932Z"
      },
      {
        "duration": 0,
        "start_time": "2023-04-04T13:01:55.933Z"
      },
      {
        "duration": 0,
        "start_time": "2023-04-04T13:01:55.934Z"
      },
      {
        "duration": 0,
        "start_time": "2023-04-04T13:01:55.936Z"
      },
      {
        "duration": 0,
        "start_time": "2023-04-04T13:01:55.936Z"
      },
      {
        "duration": 0,
        "start_time": "2023-04-04T13:01:55.937Z"
      },
      {
        "duration": 22,
        "start_time": "2023-04-04T13:10:22.396Z"
      },
      {
        "duration": 4737,
        "start_time": "2023-04-04T13:10:51.493Z"
      },
      {
        "duration": 283,
        "start_time": "2023-04-04T13:10:56.233Z"
      },
      {
        "duration": 288,
        "start_time": "2023-04-04T13:11:00.733Z"
      },
      {
        "duration": 196,
        "start_time": "2023-04-04T13:11:01.140Z"
      },
      {
        "duration": 264,
        "start_time": "2023-04-04T13:11:05.564Z"
      },
      {
        "duration": 352,
        "start_time": "2023-04-04T13:11:06.220Z"
      },
      {
        "duration": 10,
        "start_time": "2023-04-04T13:11:08.116Z"
      },
      {
        "duration": 160,
        "start_time": "2023-04-04T13:11:08.892Z"
      },
      {
        "duration": 90,
        "start_time": "2023-04-04T13:11:13.940Z"
      },
      {
        "duration": 323,
        "start_time": "2023-04-04T13:11:14.700Z"
      },
      {
        "duration": 4713,
        "start_time": "2023-04-04T13:12:51.350Z"
      },
      {
        "duration": 279,
        "start_time": "2023-04-04T13:14:06.047Z"
      },
      {
        "duration": 205,
        "start_time": "2023-04-04T13:14:20.167Z"
      },
      {
        "duration": 193,
        "start_time": "2023-04-04T13:16:13.359Z"
      },
      {
        "duration": 179,
        "start_time": "2023-04-04T13:16:20.856Z"
      },
      {
        "duration": 49,
        "start_time": "2023-04-04T13:26:52.144Z"
      },
      {
        "duration": 1580,
        "start_time": "2023-04-04T13:27:09.678Z"
      },
      {
        "duration": 37,
        "start_time": "2023-04-04T13:27:11.260Z"
      },
      {
        "duration": 14,
        "start_time": "2023-04-04T13:27:11.299Z"
      },
      {
        "duration": 31,
        "start_time": "2023-04-04T13:27:11.315Z"
      },
      {
        "duration": 4,
        "start_time": "2023-04-04T13:27:11.348Z"
      },
      {
        "duration": 11,
        "start_time": "2023-04-04T13:27:11.353Z"
      },
      {
        "duration": 25,
        "start_time": "2023-04-04T13:27:11.366Z"
      },
      {
        "duration": 20,
        "start_time": "2023-04-04T13:27:11.392Z"
      },
      {
        "duration": 9,
        "start_time": "2023-04-04T13:27:11.423Z"
      },
      {
        "duration": 27,
        "start_time": "2023-04-04T13:27:11.435Z"
      },
      {
        "duration": 6,
        "start_time": "2023-04-04T13:27:11.464Z"
      },
      {
        "duration": 27,
        "start_time": "2023-04-04T13:27:11.471Z"
      },
      {
        "duration": 211,
        "start_time": "2023-04-04T13:27:11.500Z"
      },
      {
        "duration": 1206,
        "start_time": "2023-04-04T13:27:11.714Z"
      },
      {
        "duration": 5,
        "start_time": "2023-04-04T13:27:12.921Z"
      },
      {
        "duration": 7,
        "start_time": "2023-04-04T13:27:12.928Z"
      },
      {
        "duration": 8,
        "start_time": "2023-04-04T13:27:12.937Z"
      },
      {
        "duration": 331,
        "start_time": "2023-04-04T13:27:12.947Z"
      },
      {
        "duration": 3,
        "start_time": "2023-04-04T13:27:13.282Z"
      },
      {
        "duration": 41,
        "start_time": "2023-04-04T13:27:13.287Z"
      },
      {
        "duration": 9,
        "start_time": "2023-04-04T13:27:13.330Z"
      },
      {
        "duration": 23,
        "start_time": "2023-04-04T13:27:13.341Z"
      },
      {
        "duration": 18,
        "start_time": "2023-04-04T13:27:13.366Z"
      },
      {
        "duration": 37,
        "start_time": "2023-04-04T13:27:13.387Z"
      },
      {
        "duration": 24,
        "start_time": "2023-04-04T13:27:13.425Z"
      },
      {
        "duration": 12,
        "start_time": "2023-04-04T13:27:13.450Z"
      },
      {
        "duration": 493,
        "start_time": "2023-04-04T13:27:13.464Z"
      },
      {
        "duration": 40,
        "start_time": "2023-04-04T13:27:13.962Z"
      },
      {
        "duration": 184,
        "start_time": "2023-04-04T13:27:14.004Z"
      },
      {
        "duration": 5575,
        "start_time": "2023-04-04T13:27:14.190Z"
      },
      {
        "duration": 385,
        "start_time": "2023-04-04T13:27:19.767Z"
      },
      {
        "duration": 220,
        "start_time": "2023-04-04T13:27:20.153Z"
      },
      {
        "duration": 252,
        "start_time": "2023-04-04T13:27:20.377Z"
      },
      {
        "duration": 442,
        "start_time": "2023-04-04T13:27:20.631Z"
      },
      {
        "duration": 11,
        "start_time": "2023-04-04T13:27:21.074Z"
      },
      {
        "duration": 182,
        "start_time": "2023-04-04T13:27:21.087Z"
      },
      {
        "duration": 162,
        "start_time": "2023-04-04T13:27:21.271Z"
      },
      {
        "duration": 342,
        "start_time": "2023-04-04T13:27:21.434Z"
      },
      {
        "duration": 4785,
        "start_time": "2023-04-04T13:27:21.778Z"
      },
      {
        "duration": 300,
        "start_time": "2023-04-04T13:27:26.564Z"
      },
      {
        "duration": 188,
        "start_time": "2023-04-04T13:27:26.866Z"
      },
      {
        "duration": 47,
        "start_time": "2023-04-04T13:27:27.055Z"
      },
      {
        "duration": 0,
        "start_time": "2023-04-04T13:27:27.103Z"
      },
      {
        "duration": 0,
        "start_time": "2023-04-04T13:27:27.104Z"
      },
      {
        "duration": 0,
        "start_time": "2023-04-04T13:27:27.105Z"
      },
      {
        "duration": 0,
        "start_time": "2023-04-04T13:27:27.107Z"
      },
      {
        "duration": 0,
        "start_time": "2023-04-04T13:27:27.108Z"
      },
      {
        "duration": 0,
        "start_time": "2023-04-04T13:27:27.109Z"
      },
      {
        "duration": 0,
        "start_time": "2023-04-04T13:27:27.110Z"
      },
      {
        "duration": 0,
        "start_time": "2023-04-04T13:27:27.111Z"
      },
      {
        "duration": 0,
        "start_time": "2023-04-04T13:27:27.112Z"
      },
      {
        "duration": 0,
        "start_time": "2023-04-04T13:27:27.113Z"
      },
      {
        "duration": 0,
        "start_time": "2023-04-04T13:27:27.114Z"
      },
      {
        "duration": 0,
        "start_time": "2023-04-04T13:27:27.115Z"
      },
      {
        "duration": 0,
        "start_time": "2023-04-04T13:27:27.117Z"
      },
      {
        "duration": 0,
        "start_time": "2023-04-04T13:27:27.117Z"
      },
      {
        "duration": 0,
        "start_time": "2023-04-04T13:27:27.118Z"
      },
      {
        "duration": 0,
        "start_time": "2023-04-04T13:27:27.119Z"
      },
      {
        "duration": 0,
        "start_time": "2023-04-04T13:27:27.120Z"
      },
      {
        "duration": 0,
        "start_time": "2023-04-04T13:27:27.121Z"
      },
      {
        "duration": 0,
        "start_time": "2023-04-04T13:27:27.122Z"
      },
      {
        "duration": 0,
        "start_time": "2023-04-04T13:27:27.123Z"
      },
      {
        "duration": 0,
        "start_time": "2023-04-04T13:27:27.124Z"
      },
      {
        "duration": 0,
        "start_time": "2023-04-04T13:27:27.125Z"
      },
      {
        "duration": 0,
        "start_time": "2023-04-04T13:27:27.126Z"
      },
      {
        "duration": 0,
        "start_time": "2023-04-04T13:27:27.127Z"
      },
      {
        "duration": 0,
        "start_time": "2023-04-04T13:27:27.128Z"
      },
      {
        "duration": 0,
        "start_time": "2023-04-04T13:27:27.129Z"
      },
      {
        "duration": 0,
        "start_time": "2023-04-04T13:27:27.131Z"
      },
      {
        "duration": 0,
        "start_time": "2023-04-04T13:27:27.132Z"
      },
      {
        "duration": 0,
        "start_time": "2023-04-04T13:27:27.133Z"
      },
      {
        "duration": 0,
        "start_time": "2023-04-04T13:27:27.133Z"
      },
      {
        "duration": 0,
        "start_time": "2023-04-04T13:27:27.135Z"
      },
      {
        "duration": 0,
        "start_time": "2023-04-04T13:27:27.136Z"
      },
      {
        "duration": 0,
        "start_time": "2023-04-04T13:27:27.137Z"
      },
      {
        "duration": 0,
        "start_time": "2023-04-04T13:27:27.138Z"
      },
      {
        "duration": 0,
        "start_time": "2023-04-04T13:27:27.138Z"
      },
      {
        "duration": 0,
        "start_time": "2023-04-04T13:27:27.140Z"
      },
      {
        "duration": 0,
        "start_time": "2023-04-04T13:27:27.140Z"
      },
      {
        "duration": 1,
        "start_time": "2023-04-04T13:27:27.141Z"
      },
      {
        "duration": 0,
        "start_time": "2023-04-04T13:27:27.142Z"
      },
      {
        "duration": 65,
        "start_time": "2023-04-04T13:28:25.488Z"
      },
      {
        "duration": 476,
        "start_time": "2023-04-04T13:28:37.912Z"
      },
      {
        "duration": 45,
        "start_time": "2023-04-04T13:31:34.371Z"
      },
      {
        "duration": 159,
        "start_time": "2023-04-04T13:32:01.722Z"
      },
      {
        "duration": 1733,
        "start_time": "2023-04-04T13:35:07.164Z"
      },
      {
        "duration": 37,
        "start_time": "2023-04-04T13:35:08.900Z"
      },
      {
        "duration": 14,
        "start_time": "2023-04-04T13:35:08.939Z"
      },
      {
        "duration": 23,
        "start_time": "2023-04-04T13:35:08.955Z"
      },
      {
        "duration": 6,
        "start_time": "2023-04-04T13:35:08.980Z"
      },
      {
        "duration": 21,
        "start_time": "2023-04-04T13:35:08.987Z"
      },
      {
        "duration": 33,
        "start_time": "2023-04-04T13:35:09.010Z"
      },
      {
        "duration": 18,
        "start_time": "2023-04-04T13:35:09.045Z"
      },
      {
        "duration": 9,
        "start_time": "2023-04-04T13:35:09.065Z"
      },
      {
        "duration": 28,
        "start_time": "2023-04-04T13:35:09.077Z"
      },
      {
        "duration": 16,
        "start_time": "2023-04-04T13:35:09.108Z"
      },
      {
        "duration": 9,
        "start_time": "2023-04-04T13:35:09.126Z"
      },
      {
        "duration": 222,
        "start_time": "2023-04-04T13:35:09.137Z"
      },
      {
        "duration": 1256,
        "start_time": "2023-04-04T13:35:09.360Z"
      },
      {
        "duration": 5,
        "start_time": "2023-04-04T13:35:10.618Z"
      },
      {
        "duration": 11,
        "start_time": "2023-04-04T13:35:10.624Z"
      },
      {
        "duration": 15,
        "start_time": "2023-04-04T13:35:10.637Z"
      },
      {
        "duration": 351,
        "start_time": "2023-04-04T13:35:10.654Z"
      },
      {
        "duration": 2,
        "start_time": "2023-04-04T13:35:11.008Z"
      },
      {
        "duration": 59,
        "start_time": "2023-04-04T13:35:11.012Z"
      },
      {
        "duration": 6,
        "start_time": "2023-04-04T13:35:11.074Z"
      },
      {
        "duration": 16,
        "start_time": "2023-04-04T13:35:11.082Z"
      },
      {
        "duration": 8,
        "start_time": "2023-04-04T13:35:11.100Z"
      },
      {
        "duration": 33,
        "start_time": "2023-04-04T13:35:11.110Z"
      },
      {
        "duration": 9,
        "start_time": "2023-04-04T13:35:11.145Z"
      },
      {
        "duration": 36,
        "start_time": "2023-04-04T13:35:11.156Z"
      },
      {
        "duration": 489,
        "start_time": "2023-04-04T13:35:11.193Z"
      },
      {
        "duration": 56,
        "start_time": "2023-04-04T13:35:11.686Z"
      },
      {
        "duration": 179,
        "start_time": "2023-04-04T13:35:11.744Z"
      },
      {
        "duration": 4596,
        "start_time": "2023-04-04T13:35:11.925Z"
      },
      {
        "duration": 286,
        "start_time": "2023-04-04T13:35:16.523Z"
      },
      {
        "duration": 189,
        "start_time": "2023-04-04T13:35:16.810Z"
      },
      {
        "duration": 329,
        "start_time": "2023-04-04T13:35:17.001Z"
      },
      {
        "duration": 422,
        "start_time": "2023-04-04T13:35:17.333Z"
      },
      {
        "duration": 10,
        "start_time": "2023-04-04T13:35:17.757Z"
      },
      {
        "duration": 166,
        "start_time": "2023-04-04T13:35:17.769Z"
      },
      {
        "duration": 187,
        "start_time": "2023-04-04T13:35:17.937Z"
      },
      {
        "duration": 346,
        "start_time": "2023-04-04T13:35:18.126Z"
      },
      {
        "duration": 4657,
        "start_time": "2023-04-04T13:35:18.473Z"
      },
      {
        "duration": 361,
        "start_time": "2023-04-04T13:35:23.132Z"
      },
      {
        "duration": 294,
        "start_time": "2023-04-04T13:35:23.494Z"
      },
      {
        "duration": 493,
        "start_time": "2023-04-04T13:35:23.789Z"
      },
      {
        "duration": 53,
        "start_time": "2023-04-04T13:35:24.284Z"
      },
      {
        "duration": 169,
        "start_time": "2023-04-04T13:35:24.339Z"
      },
      {
        "duration": 5,
        "start_time": "2023-04-04T13:35:24.509Z"
      },
      {
        "duration": 13,
        "start_time": "2023-04-04T13:35:24.524Z"
      },
      {
        "duration": 569,
        "start_time": "2023-04-04T13:35:24.538Z"
      },
      {
        "duration": 45,
        "start_time": "2023-04-04T13:35:25.109Z"
      },
      {
        "duration": 171,
        "start_time": "2023-04-04T13:35:25.156Z"
      },
      {
        "duration": 8579,
        "start_time": "2023-04-04T13:35:25.328Z"
      },
      {
        "duration": 182,
        "start_time": "2023-04-04T13:35:33.909Z"
      },
      {
        "duration": 174,
        "start_time": "2023-04-04T13:35:34.093Z"
      },
      {
        "duration": 358,
        "start_time": "2023-04-04T13:35:34.268Z"
      },
      {
        "duration": 340,
        "start_time": "2023-04-04T13:35:34.628Z"
      },
      {
        "duration": 4,
        "start_time": "2023-04-04T13:35:34.970Z"
      },
      {
        "duration": 26,
        "start_time": "2023-04-04T13:35:34.976Z"
      },
      {
        "duration": 234,
        "start_time": "2023-04-04T13:35:35.003Z"
      },
      {
        "duration": 26,
        "start_time": "2023-04-04T13:35:35.239Z"
      },
      {
        "duration": 170,
        "start_time": "2023-04-04T13:35:35.267Z"
      },
      {
        "duration": 3932,
        "start_time": "2023-04-04T13:35:35.439Z"
      },
      {
        "duration": 184,
        "start_time": "2023-04-04T13:35:39.372Z"
      },
      {
        "duration": 188,
        "start_time": "2023-04-04T13:35:39.558Z"
      },
      {
        "duration": 377,
        "start_time": "2023-04-04T13:35:39.748Z"
      },
      {
        "duration": 489,
        "start_time": "2023-04-04T13:35:40.127Z"
      },
      {
        "duration": 141,
        "start_time": "2023-04-04T13:35:40.622Z"
      },
      {
        "duration": 20,
        "start_time": "2023-04-04T13:35:40.765Z"
      },
      {
        "duration": 173,
        "start_time": "2023-04-04T13:35:40.787Z"
      },
      {
        "duration": 350,
        "start_time": "2023-04-04T13:35:40.962Z"
      },
      {
        "duration": 23,
        "start_time": "2023-04-04T13:35:41.314Z"
      },
      {
        "duration": 190,
        "start_time": "2023-04-04T13:35:41.339Z"
      },
      {
        "duration": 452,
        "start_time": "2023-04-04T13:35:41.532Z"
      },
      {
        "duration": 17,
        "start_time": "2023-04-04T13:35:41.986Z"
      },
      {
        "duration": 353,
        "start_time": "2023-04-04T13:35:42.004Z"
      },
      {
        "duration": 8782,
        "start_time": "2023-04-04T13:35:42.359Z"
      },
      {
        "duration": 563,
        "start_time": "2023-04-04T13:35:51.144Z"
      },
      {
        "duration": 26,
        "start_time": "2023-04-04T13:35:51.710Z"
      },
      {
        "duration": 212,
        "start_time": "2023-04-04T13:35:51.737Z"
      },
      {
        "duration": 6,
        "start_time": "2023-04-04T13:35:51.951Z"
      },
      {
        "duration": 18,
        "start_time": "2023-04-04T13:35:51.959Z"
      },
      {
        "duration": 42,
        "start_time": "2023-04-04T13:35:51.979Z"
      },
      {
        "duration": 679,
        "start_time": "2023-04-04T13:35:52.023Z"
      },
      {
        "duration": 35,
        "start_time": "2023-04-04T13:35:52.708Z"
      },
      {
        "duration": 403,
        "start_time": "2023-04-04T13:35:52.745Z"
      },
      {
        "duration": 662,
        "start_time": "2023-04-04T13:46:34.796Z"
      },
      {
        "duration": 567,
        "start_time": "2023-04-04T13:47:03.968Z"
      },
      {
        "duration": 610,
        "start_time": "2023-04-04T13:47:23.997Z"
      },
      {
        "duration": 19,
        "start_time": "2023-04-04T13:47:29.908Z"
      },
      {
        "duration": 12,
        "start_time": "2023-04-04T13:50:38.191Z"
      },
      {
        "duration": 549,
        "start_time": "2023-04-04T13:50:43.586Z"
      },
      {
        "duration": 11,
        "start_time": "2023-04-04T13:51:58.288Z"
      },
      {
        "duration": 17,
        "start_time": "2023-04-04T13:52:11.384Z"
      },
      {
        "duration": 341,
        "start_time": "2023-04-04T14:01:22.014Z"
      },
      {
        "duration": 166,
        "start_time": "2023-04-04T14:02:14.375Z"
      },
      {
        "duration": 160,
        "start_time": "2023-04-04T14:02:26.439Z"
      },
      {
        "duration": 18,
        "start_time": "2023-04-04T14:03:57.983Z"
      },
      {
        "duration": 19,
        "start_time": "2023-04-04T14:04:05.544Z"
      },
      {
        "duration": 177,
        "start_time": "2023-04-04T14:04:07.912Z"
      },
      {
        "duration": 165,
        "start_time": "2023-04-04T14:04:16.184Z"
      },
      {
        "duration": 17,
        "start_time": "2023-04-04T14:05:35.489Z"
      },
      {
        "duration": 1185,
        "start_time": "2023-04-04T14:10:51.540Z"
      }
    ],
    "kernelspec": {
      "display_name": "Python 3 (ipykernel)",
      "language": "python",
      "name": "python3"
    },
    "language_info": {
      "codemirror_mode": {
        "name": "ipython",
        "version": 3
      },
      "file_extension": ".py",
      "mimetype": "text/x-python",
      "name": "python",
      "nbconvert_exporter": "python",
      "pygments_lexer": "ipython3",
      "version": "3.9.5"
    },
    "toc": {
      "base_numbering": 1,
      "nav_menu": {},
      "number_sections": true,
      "sideBar": true,
      "skip_h1_title": true,
      "title_cell": "Содержание",
      "title_sidebar": "Contents",
      "toc_cell": true,
      "toc_position": {
        "height": "calc(100% - 180px)",
        "left": "10px",
        "top": "150px",
        "width": "384px"
      },
      "toc_section_display": true,
      "toc_window_display": true
    },
    "colab": {
      "provenance": []
    }
  },
  "nbformat": 4,
  "nbformat_minor": 0
}